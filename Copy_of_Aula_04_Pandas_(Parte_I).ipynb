{
  "cells": [
    {
      "cell_type": "markdown",
      "metadata": {
        "id": "view-in-github",
        "colab_type": "text"
      },
      "source": [
        "<a href=\"https://colab.research.google.com/github/inesarruda/python_table/blob/master/Copy_of_Aula_04_Pandas_(Parte_I).ipynb\" target=\"_parent\"><img src=\"https://colab.research.google.com/assets/colab-badge.svg\" alt=\"Open In Colab\"/></a>"
      ]
    },
    {
      "cell_type": "markdown",
      "id": "0617a322",
      "metadata": {
        "id": "0617a322"
      },
      "source": [
        "# Aula 04 - Pandas (Parte I)"
      ]
    },
    {
      "cell_type": "markdown",
      "id": "e83dd731",
      "metadata": {
        "id": "e83dd731"
      },
      "source": [
        "O **[Pandas](https://pandas.pydata.org/)** é uma das bibliotecas mais usadas em data science.\n",
        "\n",
        "Esta biblioteca, construída a partir do Numpy, possibilita a estruturação e manipulação de dados de maneira simples e eficiente.\n",
        "\n",
        "Como os dados são a matéria prima de todo projeto de Data Science, manipulá-los é fundamental! Por isso, utilizaremos o Pandas em quase todas as aulas daqui pra frente!"
      ]
    },
    {
      "cell_type": "markdown",
      "id": "4227ae84",
      "metadata": {
        "id": "4227ae84"
      },
      "source": [
        "[Guia do pandas](https://pandas.pydata.org/docs/user_guide/index.html#user-guide)"
      ]
    },
    {
      "cell_type": "markdown",
      "id": "dfe3e63c",
      "metadata": {
        "id": "dfe3e63c"
      },
      "source": [
        "Nesta primeira aula, avaliaremos:\n",
        "- o que são Séries e DataFrames;\n",
        "- alguns dos principais métodos para operar com Séries;\n",
        "- leitura e gravação de conjuntos de dados com pandas."
      ]
    },
    {
      "cell_type": "markdown",
      "id": "6d02a120",
      "metadata": {
        "id": "6d02a120"
      },
      "source": [
        "**Importando a biblioteca**"
      ]
    },
    {
      "cell_type": "code",
      "execution_count": null,
      "id": "dad41407",
      "metadata": {
        "id": "dad41407"
      },
      "outputs": [],
      "source": [
        "import pandas as pd"
      ]
    },
    {
      "cell_type": "markdown",
      "id": "f9a1228e",
      "metadata": {
        "id": "f9a1228e"
      },
      "source": [
        "## Series\n",
        "\n",
        "O objeto fundamental do Pandas são as **Series**, uma classe do pandas.\n",
        "\n",
        "As Series são as **colunas das tabelas** (que veremos mais a frente), e por baixo dos panos, os dados ficam armazenados como **numpy arrays**!\n",
        "\n",
        "A diferença é que a série possui um **índice associado**, permitindo o acesso aos conteúdos dessa estrutura por ele, como um dicionário.\n",
        "\n",
        "Além disso, as séries têm métodos específicos além dos que vimos pra arrays, o que será super útil!\n",
        "\n",
        "Podemos criar uma série **a partir de uma lista**, usando a função do pandas `pd.Series()`: "
      ]
    },
    {
      "cell_type": "markdown",
      "id": "f6e7cf7c",
      "metadata": {
        "id": "f6e7cf7c"
      },
      "source": [
        "Vamos avaliar algumas particularidades das pd.Series a seguir."
      ]
    },
    {
      "cell_type": "code",
      "execution_count": null,
      "id": "8982ea38",
      "metadata": {
        "id": "8982ea38",
        "outputId": "f7ba8b7f-deff-4b09-ff82-63f477fc1a35"
      },
      "outputs": [
        {
          "data": {
            "text/plain": [
              "[4, 6, 3, 7, 25]"
            ]
          },
          "execution_count": 2,
          "metadata": {},
          "output_type": "execute_result"
        }
      ],
      "source": [
        "# lista\n",
        "lista = [4, 6, 3, 7, 25]\n",
        "lista"
      ]
    },
    {
      "cell_type": "code",
      "execution_count": null,
      "id": "52a2c37a",
      "metadata": {
        "id": "52a2c37a",
        "outputId": "f44bf706-e26b-4869-ab0e-0555bd24070e"
      },
      "outputs": [
        {
          "data": {
            "text/plain": [
              "array([ 4,  6,  3,  7, 25])"
            ]
          },
          "execution_count": 3,
          "metadata": {},
          "output_type": "execute_result"
        }
      ],
      "source": [
        "# array numpy\n",
        "import numpy as np\n",
        "arr = np.array(lista)\n",
        "arr"
      ]
    },
    {
      "cell_type": "markdown",
      "id": "b54bb84d",
      "metadata": {
        "id": "b54bb84d"
      },
      "source": [
        "[pd.Series()](https://pandas.pydata.org/docs/reference/api/pandas.Series.html)"
      ]
    },
    {
      "cell_type": "code",
      "execution_count": null,
      "id": "b064ede6",
      "metadata": {
        "id": "b064ede6"
      },
      "outputs": [],
      "source": [
        "# Série a partir de uma lista\n",
        "# os índices são automaticamente definidos\n",
        "serie = pd.Series(lista)"
      ]
    },
    {
      "cell_type": "code",
      "execution_count": null,
      "id": "f9992020",
      "metadata": {
        "id": "f9992020",
        "outputId": "b435707b-06b8-43b5-af34-99359672ffd6"
      },
      "outputs": [
        {
          "data": {
            "text/plain": [
              "0     4\n",
              "1     6\n",
              "2     3\n",
              "3     7\n",
              "4    25\n",
              "dtype: int64"
            ]
          },
          "execution_count": 5,
          "metadata": {},
          "output_type": "execute_result"
        }
      ],
      "source": [
        "serie"
      ]
    },
    {
      "cell_type": "markdown",
      "id": "c7189a8c",
      "metadata": {
        "id": "c7189a8c"
      },
      "source": [
        "Os números à esquerda são os **índices** da série, e, aqueles à direita, são seus **valores**. Podemos também acessá-los separadamente."
      ]
    },
    {
      "cell_type": "code",
      "execution_count": null,
      "id": "88f7a37f",
      "metadata": {
        "id": "88f7a37f",
        "outputId": "6ab53ad2-2b3e-4e72-fc84-66a680897693"
      },
      "outputs": [
        {
          "data": {
            "text/plain": [
              "array([ 4,  6,  3,  7, 25], dtype=int64)"
            ]
          },
          "execution_count": 6,
          "metadata": {},
          "output_type": "execute_result"
        }
      ],
      "source": [
        "# Acessando os valores\n",
        "serie.values"
      ]
    },
    {
      "cell_type": "code",
      "execution_count": null,
      "id": "f128e082",
      "metadata": {
        "id": "f128e082",
        "outputId": "5d936583-f3a3-40d9-b979-93a0040afb8b"
      },
      "outputs": [
        {
          "data": {
            "text/plain": [
              "RangeIndex(start=0, stop=5, step=1)"
            ]
          },
          "execution_count": 7,
          "metadata": {},
          "output_type": "execute_result"
        }
      ],
      "source": [
        "# Acessando índices\n",
        "serie.index"
      ]
    },
    {
      "cell_type": "code",
      "execution_count": null,
      "id": "b15e851a",
      "metadata": {
        "id": "b15e851a",
        "outputId": "6dc47d07-20fa-4538-b8ff-565f00c7c5b0"
      },
      "outputs": [
        {
          "data": {
            "text/plain": [
              "[0, 1, 2, 3, 4]"
            ]
          },
          "execution_count": 8,
          "metadata": {},
          "output_type": "execute_result"
        }
      ],
      "source": [
        "[i for i in range(0,5,1)]"
      ]
    },
    {
      "cell_type": "code",
      "execution_count": null,
      "id": "8048a956",
      "metadata": {
        "id": "8048a956",
        "outputId": "6c1ef414-24b0-4b95-a887-080936981a0c"
      },
      "outputs": [
        {
          "data": {
            "text/plain": [
              "[0, 1, 2, 3, 4]"
            ]
          },
          "execution_count": 10,
          "metadata": {},
          "output_type": "execute_result"
        }
      ],
      "source": [
        "lista = []\n",
        "for i in range(0,5,1):\n",
        "    lista.append(i)\n",
        "lista"
      ]
    },
    {
      "cell_type": "markdown",
      "id": "a6fb60b6",
      "metadata": {
        "id": "a6fb60b6"
      },
      "source": [
        "**Indexação da série**"
      ]
    },
    {
      "cell_type": "markdown",
      "id": "82bbc9a4",
      "metadata": {
        "id": "82bbc9a4"
      },
      "source": [
        "A indexação de uma série com pandas é muito similar à maneira que fazemos com listas e numpy arrays."
      ]
    },
    {
      "cell_type": "code",
      "execution_count": null,
      "id": "de6f31ef",
      "metadata": {
        "id": "de6f31ef",
        "outputId": "328e70a3-a5e0-4650-c990-4589128b8c43"
      },
      "outputs": [
        {
          "data": {
            "text/plain": [
              "0     4\n",
              "1     6\n",
              "2     3\n",
              "3     7\n",
              "4    25\n",
              "dtype: int64"
            ]
          },
          "execution_count": 11,
          "metadata": {},
          "output_type": "execute_result"
        }
      ],
      "source": [
        "serie"
      ]
    },
    {
      "cell_type": "code",
      "execution_count": null,
      "id": "a2e69d88",
      "metadata": {
        "id": "a2e69d88",
        "outputId": "b185633a-a6d5-4c3e-a3f9-60934c772f17"
      },
      "outputs": [
        {
          "data": {
            "text/plain": [
              "3"
            ]
          },
          "execution_count": 12,
          "metadata": {},
          "output_type": "execute_result"
        }
      ],
      "source": [
        "serie[2]"
      ]
    },
    {
      "cell_type": "code",
      "execution_count": null,
      "id": "144b22a9",
      "metadata": {
        "id": "144b22a9",
        "outputId": "d16c15f0-2d3f-4df9-9fc8-dda47a4784df"
      },
      "outputs": [
        {
          "data": {
            "text/plain": [
              "3"
            ]
          },
          "execution_count": 14,
          "metadata": {},
          "output_type": "execute_result"
        }
      ],
      "source": [
        "# Outra forma de indexar usando o .values\n",
        "serie.values[2]"
      ]
    },
    {
      "cell_type": "markdown",
      "id": "26ecfd04",
      "metadata": {
        "id": "26ecfd04"
      },
      "source": [
        "Podemos fazer uma analogia da série em pandas com os dicionários do Python:"
      ]
    },
    {
      "cell_type": "code",
      "execution_count": null,
      "id": "50e77db6",
      "metadata": {
        "id": "50e77db6"
      },
      "outputs": [],
      "source": [
        "# exemplo de um dicionário\n",
        "dic = {0: 10, 1:20}"
      ]
    },
    {
      "cell_type": "code",
      "execution_count": null,
      "id": "f8ba3cac",
      "metadata": {
        "id": "f8ba3cac",
        "outputId": "eec36b81-6959-42c3-d923-97949b6996cf"
      },
      "outputs": [
        {
          "data": {
            "text/plain": [
              "{0: 10, 1: 20}"
            ]
          },
          "execution_count": 16,
          "metadata": {},
          "output_type": "execute_result"
        }
      ],
      "source": [
        "dic"
      ]
    },
    {
      "cell_type": "code",
      "execution_count": null,
      "id": "4e6be4c8",
      "metadata": {
        "id": "4e6be4c8",
        "outputId": "f29c069d-7371-4bd1-8507-2c95ae304f08"
      },
      "outputs": [
        {
          "data": {
            "text/plain": [
              "10"
            ]
          },
          "execution_count": 18,
          "metadata": {},
          "output_type": "execute_result"
        }
      ],
      "source": [
        "# Acessamos o dicionário pelas chaves\n",
        "dic[0]"
      ]
    },
    {
      "cell_type": "code",
      "execution_count": null,
      "id": "13523f65",
      "metadata": {
        "id": "13523f65",
        "outputId": "a9b7b335-3778-4104-ad2a-d3ede544d8b6"
      },
      "outputs": [
        {
          "data": {
            "text/plain": [
              "dict_values([10, 20])"
            ]
          },
          "execution_count": 19,
          "metadata": {},
          "output_type": "execute_result"
        }
      ],
      "source": [
        "# Também podemos acessar os valores, apenas, assim como para as séries\n",
        "dic.values()"
      ]
    },
    {
      "cell_type": "code",
      "execution_count": null,
      "id": "c50fed84",
      "metadata": {
        "id": "c50fed84",
        "outputId": "369ae421-a908-453e-8141-ec38f16088b1"
      },
      "outputs": [
        {
          "data": {
            "text/plain": [
              "dict_keys([0, 1])"
            ]
          },
          "execution_count": 20,
          "metadata": {},
          "output_type": "execute_result"
        }
      ],
      "source": [
        "dic.keys()"
      ]
    },
    {
      "cell_type": "markdown",
      "id": "85877ab9",
      "metadata": {
        "id": "85877ab9"
      },
      "source": [
        "**Slicing de séries**"
      ]
    },
    {
      "cell_type": "markdown",
      "id": "2bd36c48",
      "metadata": {
        "id": "2bd36c48"
      },
      "source": [
        "Também é feito da maneira como estamos acostumados a trabalhar com listas e numpy arrays."
      ]
    },
    {
      "cell_type": "code",
      "execution_count": null,
      "id": "11592ef0",
      "metadata": {
        "id": "11592ef0",
        "outputId": "cb5a7c6a-f6b5-4d8a-e202-9da661b84a99"
      },
      "outputs": [
        {
          "data": {
            "text/plain": [
              "2     3\n",
              "3     7\n",
              "4    25\n",
              "dtype: int64"
            ]
          },
          "execution_count": 21,
          "metadata": {},
          "output_type": "execute_result"
        }
      ],
      "source": [
        "# slicing\n",
        "serie[2:]"
      ]
    },
    {
      "cell_type": "markdown",
      "id": "b8ca6c72",
      "metadata": {
        "id": "b8ca6c72"
      },
      "source": [
        "**Índices**"
      ]
    },
    {
      "cell_type": "markdown",
      "id": "57fdcb62",
      "metadata": {
        "id": "57fdcb62"
      },
      "source": [
        "Apesar de termos visto a opção padrão de criação de índices, acima, sequencial, podemos defini-los da maneira que quisermos."
      ]
    },
    {
      "cell_type": "code",
      "execution_count": null,
      "id": "6355ef87",
      "metadata": {
        "id": "6355ef87"
      },
      "outputs": [],
      "source": [
        "lista = [4, 6, 3, 7, 25]"
      ]
    },
    {
      "cell_type": "code",
      "execution_count": null,
      "id": "65cdad9f",
      "metadata": {
        "id": "65cdad9f",
        "outputId": "4199e208-7be6-4bc3-a26f-71c8b9623204"
      },
      "outputs": [
        {
          "data": {
            "text/plain": [
              "0     4\n",
              "1     6\n",
              "2     3\n",
              "3     7\n",
              "4    25\n",
              "dtype: int64"
            ]
          },
          "execution_count": 25,
          "metadata": {},
          "output_type": "execute_result"
        }
      ],
      "source": [
        "serie = pd.Series(lista)\n",
        "serie"
      ]
    },
    {
      "cell_type": "code",
      "execution_count": null,
      "id": "75fe180e",
      "metadata": {
        "id": "75fe180e"
      },
      "outputs": [],
      "source": [
        "# vamos usar outros índices quaisquer\n",
        "indices = ['a', 'b', 'c', 'd', 'e']"
      ]
    },
    {
      "cell_type": "code",
      "execution_count": null,
      "id": "08351df1",
      "metadata": {
        "id": "08351df1",
        "outputId": "07d6d76c-2264-4e0e-bc44-4b77b2d054d7"
      },
      "outputs": [
        {
          "data": {
            "text/plain": [
              "a     4\n",
              "b     6\n",
              "c     3\n",
              "d     7\n",
              "e    25\n",
              "Name: coluna1, dtype: int64"
            ]
          },
          "execution_count": 32,
          "metadata": {},
          "output_type": "execute_result"
        }
      ],
      "source": [
        "serie = pd.Series(data = lista,\n",
        "         index = indices,\n",
        "         name = \"coluna1\")\n",
        "serie"
      ]
    },
    {
      "cell_type": "markdown",
      "id": "17066970",
      "metadata": {
        "id": "17066970"
      },
      "source": [
        "Podemos acessar os valores indexando tanto com o número da posição na série, ou com o próprio índice."
      ]
    },
    {
      "cell_type": "code",
      "execution_count": null,
      "id": "620375a9",
      "metadata": {
        "id": "620375a9",
        "outputId": "19a9aa46-b32b-487b-c4f9-bbcab66f0f5e"
      },
      "outputs": [
        {
          "data": {
            "text/plain": [
              "3"
            ]
          },
          "execution_count": 33,
          "metadata": {},
          "output_type": "execute_result"
        }
      ],
      "source": [
        "serie[2]"
      ]
    },
    {
      "cell_type": "code",
      "execution_count": null,
      "id": "1d6d21c2",
      "metadata": {
        "id": "1d6d21c2",
        "outputId": "27525a37-e7af-4b3b-cc59-733157322bed"
      },
      "outputs": [
        {
          "data": {
            "text/plain": [
              "3"
            ]
          },
          "execution_count": 34,
          "metadata": {},
          "output_type": "execute_result"
        }
      ],
      "source": [
        "serie[\"c\"]"
      ]
    },
    {
      "cell_type": "code",
      "execution_count": null,
      "id": "89c04f23",
      "metadata": {
        "id": "89c04f23",
        "outputId": "15960194-397d-4112-8fc8-553037dc5022"
      },
      "outputs": [
        {
          "data": {
            "text/plain": [
              "c     3\n",
              "d     7\n",
              "e    25\n",
              "Name: coluna1, dtype: int64"
            ]
          },
          "execution_count": 35,
          "metadata": {},
          "output_type": "execute_result"
        }
      ],
      "source": [
        "# também conseguimos fazer slicing com os índices\n",
        "serie[\"c\":]"
      ]
    },
    {
      "cell_type": "code",
      "execution_count": null,
      "id": "ec3b57ab",
      "metadata": {
        "id": "ec3b57ab",
        "outputId": "2e64423b-bb08-4d0e-d719-cabfa22e50e7"
      },
      "outputs": [
        {
          "data": {
            "text/plain": [
              "a     4\n",
              "c     3\n",
              "e    25\n",
              "Name: coluna1, dtype: int64"
            ]
          },
          "execution_count": 36,
          "metadata": {},
          "output_type": "execute_result"
        }
      ],
      "source": [
        "serie[['a', 'c', 'e']]"
      ]
    },
    {
      "cell_type": "markdown",
      "id": "72a382e8",
      "metadata": {
        "id": "72a382e8"
      },
      "source": [
        "Também conseguimos construir séries a partir de **dicionários**. Neste caso, as **chaves** se tornam os índices da série."
      ]
    },
    {
      "cell_type": "code",
      "execution_count": null,
      "id": "856227f1",
      "metadata": {
        "id": "856227f1",
        "outputId": "afb7dded-7a2a-4cd9-8ce1-486dfd0cc70d"
      },
      "outputs": [
        {
          "data": {
            "text/plain": [
              "{'a': 50, 'b': 40}"
            ]
          },
          "execution_count": 37,
          "metadata": {},
          "output_type": "execute_result"
        }
      ],
      "source": [
        "dic = {'a': 50, 'b': 40}\n",
        "dic"
      ]
    },
    {
      "cell_type": "code",
      "execution_count": null,
      "id": "0f96bc9f",
      "metadata": {
        "id": "0f96bc9f",
        "outputId": "35049006-bca7-44bf-c80d-8cecd054d05e"
      },
      "outputs": [
        {
          "data": {
            "text/plain": [
              "a    50\n",
              "b    40\n",
              "dtype: int64"
            ]
          },
          "execution_count": 38,
          "metadata": {},
          "output_type": "execute_result"
        }
      ],
      "source": [
        "# Série a partir de dicionário\n",
        "pd.Series(dic)"
      ]
    },
    {
      "cell_type": "markdown",
      "id": "9e92629b",
      "metadata": {
        "id": "9e92629b"
      },
      "source": [
        "**Operações com séries**"
      ]
    },
    {
      "cell_type": "markdown",
      "id": "e08c500c",
      "metadata": {
        "id": "e08c500c"
      },
      "source": [
        "Assim como vimos para os numpy arrays, operações com séries são realizadas elemento a elemento."
      ]
    },
    {
      "cell_type": "code",
      "execution_count": null,
      "id": "7880d0f7",
      "metadata": {
        "id": "7880d0f7",
        "outputId": "76d88dee-ad6d-4161-9f2d-af718b98ed21"
      },
      "outputs": [
        {
          "data": {
            "text/plain": [
              "a     4\n",
              "b     6\n",
              "c     3\n",
              "d     7\n",
              "e    25\n",
              "Name: coluna1, dtype: int64"
            ]
          },
          "execution_count": 39,
          "metadata": {},
          "output_type": "execute_result"
        }
      ],
      "source": [
        "serie"
      ]
    },
    {
      "cell_type": "code",
      "execution_count": null,
      "id": "b9837ec8",
      "metadata": {
        "id": "b9837ec8",
        "outputId": "d920f355-e883-426d-c7c5-5e75386fae39"
      },
      "outputs": [
        {
          "data": {
            "text/plain": [
              "array([ 4,  6,  3,  7, 25])"
            ]
          },
          "execution_count": 40,
          "metadata": {},
          "output_type": "execute_result"
        }
      ],
      "source": [
        "# No caso de arrays\n",
        "arr"
      ]
    },
    {
      "cell_type": "code",
      "execution_count": null,
      "id": "5636c026",
      "metadata": {
        "id": "5636c026",
        "outputId": "3e3efdbd-a8c5-4247-d2e7-3dae1c18e030"
      },
      "outputs": [
        {
          "data": {
            "text/plain": [
              "array([ 9, 11,  8, 12, 30])"
            ]
          },
          "execution_count": 41,
          "metadata": {},
          "output_type": "execute_result"
        }
      ],
      "source": [
        "arr + 5"
      ]
    },
    {
      "cell_type": "code",
      "execution_count": null,
      "id": "5f0fd731",
      "metadata": {
        "id": "5f0fd731",
        "outputId": "b0409a37-4771-472a-8f91-2e6768cdd3bb"
      },
      "outputs": [
        {
          "data": {
            "text/plain": [
              "a     9\n",
              "b    11\n",
              "c     8\n",
              "d    12\n",
              "e    30\n",
              "Name: coluna1, dtype: int64"
            ]
          },
          "execution_count": 42,
          "metadata": {},
          "output_type": "execute_result"
        }
      ],
      "source": [
        "# Operações aritméticas básicas funcionam elemento a elemento\n",
        "serie + 5"
      ]
    },
    {
      "cell_type": "code",
      "execution_count": null,
      "id": "fab2b070",
      "metadata": {
        "id": "fab2b070",
        "outputId": "6b614ef7-b5e0-4a8c-dc7c-991031fb06d2"
      },
      "outputs": [
        {
          "data": {
            "text/plain": [
              "a     20\n",
              "b     30\n",
              "c     15\n",
              "d     35\n",
              "e    125\n",
              "Name: coluna1, dtype: int64"
            ]
          },
          "execution_count": 43,
          "metadata": {},
          "output_type": "execute_result"
        }
      ],
      "source": [
        "serie*5"
      ]
    },
    {
      "cell_type": "code",
      "execution_count": null,
      "id": "a258e962",
      "metadata": {
        "id": "a258e962",
        "outputId": "0ab554b5-2b34-4fa3-d86f-90ccfc011a70"
      },
      "outputs": [
        {
          "data": {
            "text/plain": [
              "a    0.8\n",
              "b    1.2\n",
              "c    0.6\n",
              "d    1.4\n",
              "e    5.0\n",
              "Name: coluna1, dtype: float64"
            ]
          },
          "execution_count": 44,
          "metadata": {},
          "output_type": "execute_result"
        }
      ],
      "source": [
        "serie/5"
      ]
    },
    {
      "cell_type": "markdown",
      "id": "91535d12",
      "metadata": {
        "id": "91535d12"
      },
      "source": [
        "O mesmo vale para **operações lógicas**."
      ]
    },
    {
      "cell_type": "code",
      "execution_count": null,
      "id": "0a987a9e",
      "metadata": {
        "id": "0a987a9e",
        "outputId": "9bbc37d6-4389-4ca3-b520-74b51f62453b"
      },
      "outputs": [
        {
          "data": {
            "text/plain": [
              "a     True\n",
              "b     True\n",
              "c    False\n",
              "d    False\n",
              "e    False\n",
              "Name: coluna1, dtype: bool"
            ]
          },
          "execution_count": 45,
          "metadata": {},
          "output_type": "execute_result"
        }
      ],
      "source": [
        "# apenas elementos divisíveis por 2\n",
        "serie % 2 == 0"
      ]
    },
    {
      "cell_type": "code",
      "execution_count": null,
      "id": "eee9fab3",
      "metadata": {
        "id": "eee9fab3",
        "outputId": "25fc8fa3-0a14-4f41-abed-02e127afff81"
      },
      "outputs": [
        {
          "data": {
            "text/plain": [
              "a    False\n",
              "b    False\n",
              "c    False\n",
              "d    False\n",
              "e     True\n",
              "Name: coluna1, dtype: bool"
            ]
          },
          "execution_count": 46,
          "metadata": {},
          "output_type": "execute_result"
        }
      ],
      "source": [
        "serie > 10"
      ]
    },
    {
      "cell_type": "markdown",
      "id": "dd0f9c6d",
      "metadata": {
        "id": "dd0f9c6d"
      },
      "source": [
        "Também conseguimos operar entre séries."
      ]
    },
    {
      "cell_type": "code",
      "execution_count": null,
      "id": "4e173d1b",
      "metadata": {
        "id": "4e173d1b"
      },
      "outputs": [],
      "source": [
        "lista1 = [4, 6, 3, 7, 25]\n",
        "lista2 = [34, 42, 2, 1, -40]"
      ]
    },
    {
      "cell_type": "code",
      "execution_count": null,
      "id": "512197ed",
      "metadata": {
        "id": "512197ed"
      },
      "outputs": [],
      "source": [
        "s1 = pd.Series(lista1)\n",
        "s2 = pd.Series(lista2)"
      ]
    },
    {
      "cell_type": "code",
      "execution_count": null,
      "id": "961b3980",
      "metadata": {
        "id": "961b3980",
        "outputId": "638fcb2a-4cbf-4afb-ba71-c2afd1bc0249"
      },
      "outputs": [
        {
          "data": {
            "text/plain": [
              "0     4\n",
              "1     6\n",
              "2     3\n",
              "3     7\n",
              "4    25\n",
              "dtype: int64"
            ]
          },
          "execution_count": 50,
          "metadata": {},
          "output_type": "execute_result"
        }
      ],
      "source": [
        "s1"
      ]
    },
    {
      "cell_type": "code",
      "execution_count": null,
      "id": "5fbb2a57",
      "metadata": {
        "id": "5fbb2a57",
        "outputId": "425f27f5-b1fb-4734-a9d4-6d8f0e5341da"
      },
      "outputs": [
        {
          "data": {
            "text/plain": [
              "0    34\n",
              "1    42\n",
              "2     2\n",
              "3     1\n",
              "4   -40\n",
              "dtype: int64"
            ]
          },
          "execution_count": 51,
          "metadata": {},
          "output_type": "execute_result"
        }
      ],
      "source": [
        "s2"
      ]
    },
    {
      "cell_type": "code",
      "execution_count": null,
      "id": "09b0c9e4",
      "metadata": {
        "id": "09b0c9e4",
        "outputId": "8a24b27b-7957-4a68-b74e-6e06248b1a8f"
      },
      "outputs": [
        {
          "data": {
            "text/plain": [
              "0    38\n",
              "1    48\n",
              "2     5\n",
              "3     8\n",
              "4   -15\n",
              "dtype: int64"
            ]
          },
          "execution_count": 52,
          "metadata": {},
          "output_type": "execute_result"
        }
      ],
      "source": [
        "s3 = s1 + s2\n",
        "s3"
      ]
    },
    {
      "cell_type": "code",
      "execution_count": null,
      "id": "df1e1020",
      "metadata": {
        "id": "df1e1020",
        "outputId": "f6c076e9-5533-4c1a-ec43-2cfbd9288a33"
      },
      "outputs": [
        {
          "data": {
            "text/plain": [
              "0    34\n",
              "1    42\n",
              "2     2\n",
              "4   -40\n",
              "dtype: int64"
            ]
          },
          "execution_count": 60,
          "metadata": {},
          "output_type": "execute_result"
        }
      ],
      "source": [
        "# Usando a condição lógica como indexação\n",
        "s3 = s2[s2 % 2 == 0]\n",
        "s3"
      ]
    },
    {
      "cell_type": "code",
      "execution_count": null,
      "id": "384bb977",
      "metadata": {
        "id": "384bb977",
        "outputId": "adaef630-17f1-4c10-b8e5-a30071e31445"
      },
      "outputs": [
        {
          "data": {
            "text/plain": [
              "0    34\n",
              "1    42\n",
              "2     2\n",
              "3   -40\n",
              "dtype: int64"
            ]
          },
          "execution_count": 61,
          "metadata": {},
          "output_type": "execute_result"
        }
      ],
      "source": [
        "# Conseguimos \"resetar o index\"\n",
        "s3 = s2[s2 % 2 == 0].reset_index(drop=True)\n",
        "s3"
      ]
    },
    {
      "cell_type": "markdown",
      "id": "77b7a56e",
      "metadata": {
        "id": "77b7a56e"
      },
      "source": [
        "NaN = *not a number*; dado vazio"
      ]
    },
    {
      "cell_type": "code",
      "execution_count": null,
      "id": "7d2775bd",
      "metadata": {
        "id": "7d2775bd",
        "outputId": "da538cbd-b300-4ed8-80da-4d3ec3c325e6"
      },
      "outputs": [
        {
          "name": "stdout",
          "output_type": "stream",
          "text": [
            "[37 12 72  9 75] [25 35 20 36 21 32 27]\n"
          ]
        }
      ],
      "source": [
        "np.random.seed(1)\n",
        "a1 = np.random.randint(0,100,5)\n",
        "a2 = np.random.randint(20,60,7)\n",
        "print(a1,a2)"
      ]
    },
    {
      "cell_type": "code",
      "execution_count": null,
      "id": "777f02a5",
      "metadata": {
        "id": "777f02a5"
      },
      "outputs": [],
      "source": [
        "s1 = pd.Series(a1)\n",
        "s2 = pd.Series(a2)"
      ]
    },
    {
      "cell_type": "code",
      "execution_count": null,
      "id": "5f89246e",
      "metadata": {
        "id": "5f89246e",
        "outputId": "72affdca-b5f1-48bb-c72c-6e4297723dee"
      },
      "outputs": [
        {
          "data": {
            "text/plain": [
              "0    37\n",
              "1    12\n",
              "2    72\n",
              "3     9\n",
              "4    75\n",
              "dtype: int32"
            ]
          },
          "execution_count": 64,
          "metadata": {},
          "output_type": "execute_result"
        }
      ],
      "source": [
        "s1"
      ]
    },
    {
      "cell_type": "code",
      "execution_count": null,
      "id": "64837069",
      "metadata": {
        "id": "64837069",
        "outputId": "61c52d8b-9d17-4773-a9ad-f405dd52c11b"
      },
      "outputs": [
        {
          "data": {
            "text/plain": [
              "0    25\n",
              "1    35\n",
              "2    20\n",
              "3    36\n",
              "4    21\n",
              "5    32\n",
              "6    27\n",
              "dtype: int32"
            ]
          },
          "execution_count": 65,
          "metadata": {},
          "output_type": "execute_result"
        }
      ],
      "source": [
        "s2"
      ]
    },
    {
      "cell_type": "code",
      "execution_count": null,
      "id": "d183f49d",
      "metadata": {
        "id": "d183f49d",
        "outputId": "ecc10587-4ffc-4d85-9925-e9aa6da7815e"
      },
      "outputs": [
        {
          "ename": "ValueError",
          "evalue": "operands could not be broadcast together with shapes (5,) (7,) ",
          "output_type": "error",
          "traceback": [
            "\u001b[1;31m---------------------------------------------------------------------------\u001b[0m",
            "\u001b[1;31mValueError\u001b[0m                                Traceback (most recent call last)",
            "\u001b[1;32m<ipython-input-66-638078fd0cbc>\u001b[0m in \u001b[0;36m<module>\u001b[1;34m\u001b[0m\n\u001b[1;32m----> 1\u001b[1;33m \u001b[0ma1\u001b[0m \u001b[1;33m+\u001b[0m \u001b[0ma2\u001b[0m\u001b[1;33m\u001b[0m\u001b[1;33m\u001b[0m\u001b[0m\n\u001b[0m",
            "\u001b[1;31mValueError\u001b[0m: operands could not be broadcast together with shapes (5,) (7,) "
          ]
        }
      ],
      "source": [
        "a1 + a2"
      ]
    },
    {
      "cell_type": "code",
      "execution_count": null,
      "id": "edb37ff8",
      "metadata": {
        "id": "edb37ff8",
        "outputId": "4bdb8684-cfa8-426a-ad67-9fd9943cd069"
      },
      "outputs": [
        {
          "data": {
            "text/plain": [
              "0    62.0\n",
              "1    47.0\n",
              "2    92.0\n",
              "3    45.0\n",
              "4    96.0\n",
              "5     NaN\n",
              "6     NaN\n",
              "dtype: float64"
            ]
          },
          "execution_count": 67,
          "metadata": {},
          "output_type": "execute_result"
        }
      ],
      "source": [
        "s1 + s2"
      ]
    },
    {
      "cell_type": "code",
      "execution_count": null,
      "id": "4dafbf87",
      "metadata": {
        "id": "4dafbf87",
        "outputId": "01f23533-71af-4706-e716-bea16ce1c128"
      },
      "outputs": [
        {
          "data": {
            "text/plain": [
              "0    62.0\n",
              "1    47.0\n",
              "2    92.0\n",
              "3    45.0\n",
              "4    96.0\n",
              "5    32.0\n",
              "6    27.0\n",
              "dtype: float64"
            ]
          },
          "execution_count": 69,
          "metadata": {},
          "output_type": "execute_result"
        }
      ],
      "source": [
        "# opção para preencher valores nulos: fill_value\n",
        "# preenche com 0, porque 0 é o elemento neutro da soma\n",
        "s1.add(s2, fill_value = 0) # outra maneira de somar"
      ]
    },
    {
      "cell_type": "code",
      "execution_count": null,
      "id": "16245dd0",
      "metadata": {
        "id": "16245dd0",
        "outputId": "926e3411-c708-4edf-dfb5-965c9a44062d"
      },
      "outputs": [
        {
          "data": {
            "text/plain": [
              "0     925.0\n",
              "1     420.0\n",
              "2    1440.0\n",
              "3     324.0\n",
              "4    1575.0\n",
              "5       NaN\n",
              "6       NaN\n",
              "dtype: float64"
            ]
          },
          "execution_count": 70,
          "metadata": {},
          "output_type": "execute_result"
        }
      ],
      "source": [
        "s1*s2"
      ]
    },
    {
      "cell_type": "code",
      "execution_count": null,
      "id": "33b2d15f",
      "metadata": {
        "id": "33b2d15f",
        "outputId": "13553b7c-d355-49c4-f9a5-e3e019f0e0f2"
      },
      "outputs": [
        {
          "data": {
            "text/plain": [
              "0     925.0\n",
              "1     420.0\n",
              "2    1440.0\n",
              "3     324.0\n",
              "4    1575.0\n",
              "5      32.0\n",
              "6      27.0\n",
              "dtype: float64"
            ]
          },
          "execution_count": 71,
          "metadata": {},
          "output_type": "execute_result"
        }
      ],
      "source": [
        "# elemento neutro é 1\n",
        "s1.multiply(s2, fill_value = 1)"
      ]
    },
    {
      "cell_type": "markdown",
      "id": "bfdc9dcc",
      "metadata": {
        "id": "bfdc9dcc"
      },
      "source": [
        "E com dados de formatos diferentes?"
      ]
    },
    {
      "cell_type": "code",
      "execution_count": null,
      "id": "cdebbb9e",
      "metadata": {
        "id": "cdebbb9e"
      },
      "outputs": [],
      "source": [
        "s_texto = pd.Series([\"a\", \"b\", \"c\"])\n",
        "s_numero = pd.Series([1,2,3])"
      ]
    },
    {
      "cell_type": "code",
      "execution_count": null,
      "id": "5b5e96ce",
      "metadata": {
        "id": "5b5e96ce",
        "outputId": "5aad3f60-b413-441a-94c2-25ceab95cefa"
      },
      "outputs": [
        {
          "data": {
            "text/plain": [
              "0    a\n",
              "1    b\n",
              "2    c\n",
              "dtype: object"
            ]
          },
          "execution_count": 73,
          "metadata": {},
          "output_type": "execute_result"
        }
      ],
      "source": [
        "s_texto"
      ]
    },
    {
      "cell_type": "code",
      "execution_count": null,
      "id": "4c245664",
      "metadata": {
        "id": "4c245664",
        "outputId": "76282151-719b-420e-e74d-8d53c2cf2d57"
      },
      "outputs": [
        {
          "data": {
            "text/plain": [
              "0    1\n",
              "1    2\n",
              "2    3\n",
              "dtype: int64"
            ]
          },
          "execution_count": 74,
          "metadata": {},
          "output_type": "execute_result"
        }
      ],
      "source": [
        "s_numero"
      ]
    },
    {
      "cell_type": "code",
      "execution_count": null,
      "id": "41daf78d",
      "metadata": {
        "id": "41daf78d",
        "outputId": "c1a452c5-2c3d-4d53-fbdc-da14480bf529"
      },
      "outputs": [
        {
          "name": "stdout",
          "output_type": "stream",
          "text": [
            "a\n",
            "bb\n",
            "ccc\n"
          ]
        }
      ],
      "source": [
        "# Com strings\n",
        "print(\"a\"*1)\n",
        "print(\"b\"*2)\n",
        "print(\"c\"*3)"
      ]
    },
    {
      "cell_type": "code",
      "execution_count": null,
      "id": "8549a094",
      "metadata": {
        "id": "8549a094",
        "outputId": "cbd7f095-a0e1-41b7-acc6-0d20e28387e9"
      },
      "outputs": [
        {
          "data": {
            "text/plain": [
              "0      a\n",
              "1     bb\n",
              "2    ccc\n",
              "dtype: object"
            ]
          },
          "execution_count": 76,
          "metadata": {},
          "output_type": "execute_result"
        }
      ],
      "source": [
        "# Mesmo efeito para as séries\n",
        "s_texto * s_numero"
      ]
    },
    {
      "cell_type": "code",
      "execution_count": null,
      "id": "5ba31fec",
      "metadata": {
        "id": "5ba31fec",
        "outputId": "7214dce6-ebf1-4c0a-84e5-f41272e90051"
      },
      "outputs": [
        {
          "ename": "TypeError",
          "evalue": "can only concatenate str (not \"int\") to str",
          "output_type": "error",
          "traceback": [
            "\u001b[1;31m---------------------------------------------------------------------------\u001b[0m",
            "\u001b[1;31mTypeError\u001b[0m                                 Traceback (most recent call last)",
            "\u001b[1;32m<ipython-input-77-67d0ce6088f3>\u001b[0m in \u001b[0;36m<module>\u001b[1;34m\u001b[0m\n\u001b[0;32m      1\u001b[0m \u001b[1;31m# Strings\u001b[0m\u001b[1;33m\u001b[0m\u001b[1;33m\u001b[0m\u001b[1;33m\u001b[0m\u001b[0m\n\u001b[1;32m----> 2\u001b[1;33m \u001b[1;34m\"a\"\u001b[0m \u001b[1;33m+\u001b[0m \u001b[1;36m1\u001b[0m\u001b[1;33m\u001b[0m\u001b[1;33m\u001b[0m\u001b[0m\n\u001b[0m",
            "\u001b[1;31mTypeError\u001b[0m: can only concatenate str (not \"int\") to str"
          ]
        }
      ],
      "source": [
        "# Strings\n",
        "\"a\" + 1"
      ]
    },
    {
      "cell_type": "code",
      "execution_count": null,
      "id": "1d5965ea",
      "metadata": {
        "id": "1d5965ea",
        "outputId": "16b7268e-624d-48aa-d7a9-125e7a26fd3b"
      },
      "outputs": [
        {
          "ename": "TypeError",
          "evalue": "can only concatenate str (not \"int\") to str",
          "output_type": "error",
          "traceback": [
            "\u001b[1;31m---------------------------------------------------------------------------\u001b[0m",
            "\u001b[1;31mTypeError\u001b[0m                                 Traceback (most recent call last)",
            "\u001b[1;32m~\\miniconda3\\lib\\site-packages\\pandas\\core\\ops\\array_ops.py\u001b[0m in \u001b[0;36m_na_arithmetic_op\u001b[1;34m(left, right, op, is_cmp)\u001b[0m\n\u001b[0;32m    164\u001b[0m     \u001b[1;32mtry\u001b[0m\u001b[1;33m:\u001b[0m\u001b[1;33m\u001b[0m\u001b[1;33m\u001b[0m\u001b[0m\n\u001b[1;32m--> 165\u001b[1;33m         \u001b[0mresult\u001b[0m \u001b[1;33m=\u001b[0m \u001b[0mfunc\u001b[0m\u001b[1;33m(\u001b[0m\u001b[0mleft\u001b[0m\u001b[1;33m,\u001b[0m \u001b[0mright\u001b[0m\u001b[1;33m)\u001b[0m\u001b[1;33m\u001b[0m\u001b[1;33m\u001b[0m\u001b[0m\n\u001b[0m\u001b[0;32m    166\u001b[0m     \u001b[1;32mexcept\u001b[0m \u001b[0mTypeError\u001b[0m\u001b[1;33m:\u001b[0m\u001b[1;33m\u001b[0m\u001b[1;33m\u001b[0m\u001b[0m\n",
            "\u001b[1;32m~\\miniconda3\\lib\\site-packages\\pandas\\core\\computation\\expressions.py\u001b[0m in \u001b[0;36mevaluate\u001b[1;34m(op, a, b, use_numexpr)\u001b[0m\n\u001b[0;32m    240\u001b[0m             \u001b[1;31m# error: \"None\" not callable\u001b[0m\u001b[1;33m\u001b[0m\u001b[1;33m\u001b[0m\u001b[1;33m\u001b[0m\u001b[0m\n\u001b[1;32m--> 241\u001b[1;33m             \u001b[1;32mreturn\u001b[0m \u001b[0m_evaluate\u001b[0m\u001b[1;33m(\u001b[0m\u001b[0mop\u001b[0m\u001b[1;33m,\u001b[0m \u001b[0mop_str\u001b[0m\u001b[1;33m,\u001b[0m \u001b[0ma\u001b[0m\u001b[1;33m,\u001b[0m \u001b[0mb\u001b[0m\u001b[1;33m)\u001b[0m  \u001b[1;31m# type: ignore[misc]\u001b[0m\u001b[1;33m\u001b[0m\u001b[1;33m\u001b[0m\u001b[0m\n\u001b[0m\u001b[0;32m    242\u001b[0m     \u001b[1;32mreturn\u001b[0m \u001b[0m_evaluate_standard\u001b[0m\u001b[1;33m(\u001b[0m\u001b[0mop\u001b[0m\u001b[1;33m,\u001b[0m \u001b[0mop_str\u001b[0m\u001b[1;33m,\u001b[0m \u001b[0ma\u001b[0m\u001b[1;33m,\u001b[0m \u001b[0mb\u001b[0m\u001b[1;33m)\u001b[0m\u001b[1;33m\u001b[0m\u001b[1;33m\u001b[0m\u001b[0m\n",
            "\u001b[1;32m~\\miniconda3\\lib\\site-packages\\pandas\\core\\computation\\expressions.py\u001b[0m in \u001b[0;36m_evaluate_standard\u001b[1;34m(op, op_str, a, b)\u001b[0m\n\u001b[0;32m     69\u001b[0m         \u001b[0m_store_test_result\u001b[0m\u001b[1;33m(\u001b[0m\u001b[1;32mFalse\u001b[0m\u001b[1;33m)\u001b[0m\u001b[1;33m\u001b[0m\u001b[1;33m\u001b[0m\u001b[0m\n\u001b[1;32m---> 70\u001b[1;33m     \u001b[1;32mreturn\u001b[0m \u001b[0mop\u001b[0m\u001b[1;33m(\u001b[0m\u001b[0ma\u001b[0m\u001b[1;33m,\u001b[0m \u001b[0mb\u001b[0m\u001b[1;33m)\u001b[0m\u001b[1;33m\u001b[0m\u001b[1;33m\u001b[0m\u001b[0m\n\u001b[0m\u001b[0;32m     71\u001b[0m \u001b[1;33m\u001b[0m\u001b[0m\n",
            "\u001b[1;31mTypeError\u001b[0m: can only concatenate str (not \"int\") to str",
            "\nDuring handling of the above exception, another exception occurred:\n",
            "\u001b[1;31mTypeError\u001b[0m                                 Traceback (most recent call last)",
            "\u001b[1;32m<ipython-input-78-d839abdad042>\u001b[0m in \u001b[0;36m<module>\u001b[1;34m\u001b[0m\n\u001b[0;32m      1\u001b[0m \u001b[1;31m# Séries\u001b[0m\u001b[1;33m\u001b[0m\u001b[1;33m\u001b[0m\u001b[1;33m\u001b[0m\u001b[0m\n\u001b[1;32m----> 2\u001b[1;33m \u001b[0ms_texto\u001b[0m \u001b[1;33m+\u001b[0m \u001b[0ms_numero\u001b[0m\u001b[1;33m\u001b[0m\u001b[1;33m\u001b[0m\u001b[0m\n\u001b[0m",
            "\u001b[1;32m~\\miniconda3\\lib\\site-packages\\pandas\\core\\ops\\common.py\u001b[0m in \u001b[0;36mnew_method\u001b[1;34m(self, other)\u001b[0m\n\u001b[0;32m     70\u001b[0m         \u001b[0mother\u001b[0m \u001b[1;33m=\u001b[0m \u001b[0mitem_from_zerodim\u001b[0m\u001b[1;33m(\u001b[0m\u001b[0mother\u001b[0m\u001b[1;33m)\u001b[0m\u001b[1;33m\u001b[0m\u001b[1;33m\u001b[0m\u001b[0m\n\u001b[0;32m     71\u001b[0m \u001b[1;33m\u001b[0m\u001b[0m\n\u001b[1;32m---> 72\u001b[1;33m         \u001b[1;32mreturn\u001b[0m \u001b[0mmethod\u001b[0m\u001b[1;33m(\u001b[0m\u001b[0mself\u001b[0m\u001b[1;33m,\u001b[0m \u001b[0mother\u001b[0m\u001b[1;33m)\u001b[0m\u001b[1;33m\u001b[0m\u001b[1;33m\u001b[0m\u001b[0m\n\u001b[0m\u001b[0;32m     73\u001b[0m \u001b[1;33m\u001b[0m\u001b[0m\n\u001b[0;32m     74\u001b[0m     \u001b[1;32mreturn\u001b[0m \u001b[0mnew_method\u001b[0m\u001b[1;33m\u001b[0m\u001b[1;33m\u001b[0m\u001b[0m\n",
            "\u001b[1;32m~\\miniconda3\\lib\\site-packages\\pandas\\core\\arraylike.py\u001b[0m in \u001b[0;36m__add__\u001b[1;34m(self, other)\u001b[0m\n\u001b[0;32m    100\u001b[0m     \u001b[1;33m@\u001b[0m\u001b[0munpack_zerodim_and_defer\u001b[0m\u001b[1;33m(\u001b[0m\u001b[1;34m\"__add__\"\u001b[0m\u001b[1;33m)\u001b[0m\u001b[1;33m\u001b[0m\u001b[1;33m\u001b[0m\u001b[0m\n\u001b[0;32m    101\u001b[0m     \u001b[1;32mdef\u001b[0m \u001b[0m__add__\u001b[0m\u001b[1;33m(\u001b[0m\u001b[0mself\u001b[0m\u001b[1;33m,\u001b[0m \u001b[0mother\u001b[0m\u001b[1;33m)\u001b[0m\u001b[1;33m:\u001b[0m\u001b[1;33m\u001b[0m\u001b[1;33m\u001b[0m\u001b[0m\n\u001b[1;32m--> 102\u001b[1;33m         \u001b[1;32mreturn\u001b[0m \u001b[0mself\u001b[0m\u001b[1;33m.\u001b[0m\u001b[0m_arith_method\u001b[0m\u001b[1;33m(\u001b[0m\u001b[0mother\u001b[0m\u001b[1;33m,\u001b[0m \u001b[0moperator\u001b[0m\u001b[1;33m.\u001b[0m\u001b[0madd\u001b[0m\u001b[1;33m)\u001b[0m\u001b[1;33m\u001b[0m\u001b[1;33m\u001b[0m\u001b[0m\n\u001b[0m\u001b[0;32m    103\u001b[0m \u001b[1;33m\u001b[0m\u001b[0m\n\u001b[0;32m    104\u001b[0m     \u001b[1;33m@\u001b[0m\u001b[0munpack_zerodim_and_defer\u001b[0m\u001b[1;33m(\u001b[0m\u001b[1;34m\"__radd__\"\u001b[0m\u001b[1;33m)\u001b[0m\u001b[1;33m\u001b[0m\u001b[1;33m\u001b[0m\u001b[0m\n",
            "\u001b[1;32m~\\miniconda3\\lib\\site-packages\\pandas\\core\\series.py\u001b[0m in \u001b[0;36m_arith_method\u001b[1;34m(self, other, op)\u001b[0m\n\u001b[0;32m   6257\u001b[0m     \u001b[1;32mdef\u001b[0m \u001b[0m_arith_method\u001b[0m\u001b[1;33m(\u001b[0m\u001b[0mself\u001b[0m\u001b[1;33m,\u001b[0m \u001b[0mother\u001b[0m\u001b[1;33m,\u001b[0m \u001b[0mop\u001b[0m\u001b[1;33m)\u001b[0m\u001b[1;33m:\u001b[0m\u001b[1;33m\u001b[0m\u001b[1;33m\u001b[0m\u001b[0m\n\u001b[0;32m   6258\u001b[0m         \u001b[0mself\u001b[0m\u001b[1;33m,\u001b[0m \u001b[0mother\u001b[0m \u001b[1;33m=\u001b[0m \u001b[0mops\u001b[0m\u001b[1;33m.\u001b[0m\u001b[0malign_method_SERIES\u001b[0m\u001b[1;33m(\u001b[0m\u001b[0mself\u001b[0m\u001b[1;33m,\u001b[0m \u001b[0mother\u001b[0m\u001b[1;33m)\u001b[0m\u001b[1;33m\u001b[0m\u001b[1;33m\u001b[0m\u001b[0m\n\u001b[1;32m-> 6259\u001b[1;33m         \u001b[1;32mreturn\u001b[0m \u001b[0mbase\u001b[0m\u001b[1;33m.\u001b[0m\u001b[0mIndexOpsMixin\u001b[0m\u001b[1;33m.\u001b[0m\u001b[0m_arith_method\u001b[0m\u001b[1;33m(\u001b[0m\u001b[0mself\u001b[0m\u001b[1;33m,\u001b[0m \u001b[0mother\u001b[0m\u001b[1;33m,\u001b[0m \u001b[0mop\u001b[0m\u001b[1;33m)\u001b[0m\u001b[1;33m\u001b[0m\u001b[1;33m\u001b[0m\u001b[0m\n\u001b[0m\u001b[0;32m   6260\u001b[0m \u001b[1;33m\u001b[0m\u001b[0m\n\u001b[0;32m   6261\u001b[0m \u001b[1;33m\u001b[0m\u001b[0m\n",
            "\u001b[1;32m~\\miniconda3\\lib\\site-packages\\pandas\\core\\base.py\u001b[0m in \u001b[0;36m_arith_method\u001b[1;34m(self, other, op)\u001b[0m\n\u001b[0;32m   1323\u001b[0m \u001b[1;33m\u001b[0m\u001b[0m\n\u001b[0;32m   1324\u001b[0m         \u001b[1;32mwith\u001b[0m \u001b[0mnp\u001b[0m\u001b[1;33m.\u001b[0m\u001b[0merrstate\u001b[0m\u001b[1;33m(\u001b[0m\u001b[0mall\u001b[0m\u001b[1;33m=\u001b[0m\u001b[1;34m\"ignore\"\u001b[0m\u001b[1;33m)\u001b[0m\u001b[1;33m:\u001b[0m\u001b[1;33m\u001b[0m\u001b[1;33m\u001b[0m\u001b[0m\n\u001b[1;32m-> 1325\u001b[1;33m             \u001b[0mresult\u001b[0m \u001b[1;33m=\u001b[0m \u001b[0mops\u001b[0m\u001b[1;33m.\u001b[0m\u001b[0marithmetic_op\u001b[0m\u001b[1;33m(\u001b[0m\u001b[0mlvalues\u001b[0m\u001b[1;33m,\u001b[0m \u001b[0mrvalues\u001b[0m\u001b[1;33m,\u001b[0m \u001b[0mop\u001b[0m\u001b[1;33m)\u001b[0m\u001b[1;33m\u001b[0m\u001b[1;33m\u001b[0m\u001b[0m\n\u001b[0m\u001b[0;32m   1326\u001b[0m \u001b[1;33m\u001b[0m\u001b[0m\n\u001b[0;32m   1327\u001b[0m         \u001b[1;32mreturn\u001b[0m \u001b[0mself\u001b[0m\u001b[1;33m.\u001b[0m\u001b[0m_construct_result\u001b[0m\u001b[1;33m(\u001b[0m\u001b[0mresult\u001b[0m\u001b[1;33m,\u001b[0m \u001b[0mname\u001b[0m\u001b[1;33m=\u001b[0m\u001b[0mres_name\u001b[0m\u001b[1;33m)\u001b[0m\u001b[1;33m\u001b[0m\u001b[1;33m\u001b[0m\u001b[0m\n",
            "\u001b[1;32m~\\miniconda3\\lib\\site-packages\\pandas\\core\\ops\\array_ops.py\u001b[0m in \u001b[0;36marithmetic_op\u001b[1;34m(left, right, op)\u001b[0m\n\u001b[0;32m    224\u001b[0m         \u001b[1;31m# error: Argument 1 to \"_na_arithmetic_op\" has incompatible type\u001b[0m\u001b[1;33m\u001b[0m\u001b[1;33m\u001b[0m\u001b[1;33m\u001b[0m\u001b[0m\n\u001b[0;32m    225\u001b[0m         \u001b[1;31m# \"Union[ExtensionArray, ndarray[Any, Any]]\"; expected \"ndarray[Any, Any]\"\u001b[0m\u001b[1;33m\u001b[0m\u001b[1;33m\u001b[0m\u001b[1;33m\u001b[0m\u001b[0m\n\u001b[1;32m--> 226\u001b[1;33m         \u001b[0mres_values\u001b[0m \u001b[1;33m=\u001b[0m \u001b[0m_na_arithmetic_op\u001b[0m\u001b[1;33m(\u001b[0m\u001b[0mleft\u001b[0m\u001b[1;33m,\u001b[0m \u001b[0mright\u001b[0m\u001b[1;33m,\u001b[0m \u001b[0mop\u001b[0m\u001b[1;33m)\u001b[0m  \u001b[1;31m# type: ignore[arg-type]\u001b[0m\u001b[1;33m\u001b[0m\u001b[1;33m\u001b[0m\u001b[0m\n\u001b[0m\u001b[0;32m    227\u001b[0m \u001b[1;33m\u001b[0m\u001b[0m\n\u001b[0;32m    228\u001b[0m     \u001b[1;32mreturn\u001b[0m \u001b[0mres_values\u001b[0m\u001b[1;33m\u001b[0m\u001b[1;33m\u001b[0m\u001b[0m\n",
            "\u001b[1;32m~\\miniconda3\\lib\\site-packages\\pandas\\core\\ops\\array_ops.py\u001b[0m in \u001b[0;36m_na_arithmetic_op\u001b[1;34m(left, right, op, is_cmp)\u001b[0m\n\u001b[0;32m    170\u001b[0m             \u001b[1;31m# Don't do this for comparisons, as that will handle complex numbers\u001b[0m\u001b[1;33m\u001b[0m\u001b[1;33m\u001b[0m\u001b[1;33m\u001b[0m\u001b[0m\n\u001b[0;32m    171\u001b[0m             \u001b[1;31m#  incorrectly, see GH#32047\u001b[0m\u001b[1;33m\u001b[0m\u001b[1;33m\u001b[0m\u001b[1;33m\u001b[0m\u001b[0m\n\u001b[1;32m--> 172\u001b[1;33m             \u001b[0mresult\u001b[0m \u001b[1;33m=\u001b[0m \u001b[0m_masked_arith_op\u001b[0m\u001b[1;33m(\u001b[0m\u001b[0mleft\u001b[0m\u001b[1;33m,\u001b[0m \u001b[0mright\u001b[0m\u001b[1;33m,\u001b[0m \u001b[0mop\u001b[0m\u001b[1;33m)\u001b[0m\u001b[1;33m\u001b[0m\u001b[1;33m\u001b[0m\u001b[0m\n\u001b[0m\u001b[0;32m    173\u001b[0m         \u001b[1;32melse\u001b[0m\u001b[1;33m:\u001b[0m\u001b[1;33m\u001b[0m\u001b[1;33m\u001b[0m\u001b[0m\n\u001b[0;32m    174\u001b[0m             \u001b[1;32mraise\u001b[0m\u001b[1;33m\u001b[0m\u001b[1;33m\u001b[0m\u001b[0m\n",
            "\u001b[1;32m~\\miniconda3\\lib\\site-packages\\pandas\\core\\ops\\array_ops.py\u001b[0m in \u001b[0;36m_masked_arith_op\u001b[1;34m(x, y, op)\u001b[0m\n\u001b[0;32m    108\u001b[0m         \u001b[1;31m# See GH#5284, GH#5035, GH#19448 for historical reference\u001b[0m\u001b[1;33m\u001b[0m\u001b[1;33m\u001b[0m\u001b[1;33m\u001b[0m\u001b[0m\n\u001b[0;32m    109\u001b[0m         \u001b[1;32mif\u001b[0m \u001b[0mmask\u001b[0m\u001b[1;33m.\u001b[0m\u001b[0many\u001b[0m\u001b[1;33m(\u001b[0m\u001b[1;33m)\u001b[0m\u001b[1;33m:\u001b[0m\u001b[1;33m\u001b[0m\u001b[1;33m\u001b[0m\u001b[0m\n\u001b[1;32m--> 110\u001b[1;33m             \u001b[0mresult\u001b[0m\u001b[1;33m[\u001b[0m\u001b[0mmask\u001b[0m\u001b[1;33m]\u001b[0m \u001b[1;33m=\u001b[0m \u001b[0mop\u001b[0m\u001b[1;33m(\u001b[0m\u001b[0mxrav\u001b[0m\u001b[1;33m[\u001b[0m\u001b[0mmask\u001b[0m\u001b[1;33m]\u001b[0m\u001b[1;33m,\u001b[0m \u001b[0myrav\u001b[0m\u001b[1;33m[\u001b[0m\u001b[0mmask\u001b[0m\u001b[1;33m]\u001b[0m\u001b[1;33m)\u001b[0m\u001b[1;33m\u001b[0m\u001b[1;33m\u001b[0m\u001b[0m\n\u001b[0m\u001b[0;32m    111\u001b[0m \u001b[1;33m\u001b[0m\u001b[0m\n\u001b[0;32m    112\u001b[0m     \u001b[1;32melse\u001b[0m\u001b[1;33m:\u001b[0m\u001b[1;33m\u001b[0m\u001b[1;33m\u001b[0m\u001b[0m\n",
            "\u001b[1;31mTypeError\u001b[0m: can only concatenate str (not \"int\") to str"
          ]
        }
      ],
      "source": [
        "# Séries\n",
        "s_texto + s_numero"
      ]
    },
    {
      "cell_type": "markdown",
      "id": "65eb290d",
      "metadata": {
        "id": "65eb290d"
      },
      "source": [
        "**Filtrando séries**"
      ]
    },
    {
      "cell_type": "markdown",
      "id": "15053a6d",
      "metadata": {
        "id": "15053a6d"
      },
      "source": [
        "Filtros de séries seguem a mesma lógica de numpy arrays."
      ]
    },
    {
      "cell_type": "code",
      "execution_count": null,
      "id": "8febf803",
      "metadata": {
        "id": "8febf803",
        "outputId": "72f62606-bc80-423e-9a3a-e3b0a6dd456d"
      },
      "outputs": [
        {
          "data": {
            "text/plain": [
              "0    37\n",
              "1    12\n",
              "2    72\n",
              "3     9\n",
              "4    75\n",
              "dtype: int32"
            ]
          },
          "execution_count": 79,
          "metadata": {},
          "output_type": "execute_result"
        }
      ],
      "source": [
        "s1"
      ]
    },
    {
      "cell_type": "code",
      "execution_count": null,
      "id": "867643b5",
      "metadata": {
        "id": "867643b5",
        "outputId": "52fcb40b-1cc6-4066-b809-b9ab4dca9ee1"
      },
      "outputs": [
        {
          "data": {
            "text/plain": [
              "0    37\n",
              "2    72\n",
              "4    75\n",
              "dtype: int32"
            ]
          },
          "execution_count": 81,
          "metadata": {},
          "output_type": "execute_result"
        }
      ],
      "source": [
        "# filtro da série: quais são os valores da série que satisfazem uma dada condição?\n",
        "s1[s1 > 15]"
      ]
    },
    {
      "cell_type": "code",
      "execution_count": null,
      "id": "d7044b14",
      "metadata": {
        "id": "d7044b14",
        "outputId": "c9f9ab51-681b-4fd8-8899-d6f754518f5a"
      },
      "outputs": [
        {
          "data": {
            "text/plain": [
              "0    37\n",
              "4    75\n",
              "dtype: int32"
            ]
          },
          "execution_count": 82,
          "metadata": {},
          "output_type": "execute_result"
        }
      ],
      "source": [
        "s1[(s1 > 15) & (s1 % 2 != 0)]"
      ]
    },
    {
      "cell_type": "code",
      "execution_count": null,
      "id": "aa9d4fb0",
      "metadata": {
        "id": "aa9d4fb0",
        "outputId": "ed1fe166-8480-433a-b2b2-aadbc9618be1"
      },
      "outputs": [
        {
          "data": {
            "text/plain": [
              "pandas.core.series.Series"
            ]
          },
          "execution_count": 83,
          "metadata": {},
          "output_type": "execute_result"
        }
      ],
      "source": [
        "type(s1)"
      ]
    },
    {
      "cell_type": "markdown",
      "id": "1ccfc561",
      "metadata": {
        "id": "1ccfc561"
      },
      "source": [
        "**Outros métodos úteis para séries**"
      ]
    },
    {
      "cell_type": "code",
      "execution_count": null,
      "id": "6ef218da",
      "metadata": {
        "id": "6ef218da",
        "outputId": "7817c642-3cb8-46f4-cda8-8aaa866e1ee1"
      },
      "outputs": [
        {
          "data": {
            "text/plain": [
              "0      8\n",
              "1     11\n",
              "2      8\n",
              "3      3\n",
              "4      3\n",
              "5      4\n",
              "6     10\n",
              "7      9\n",
              "8      5\n",
              "9      7\n",
              "10     8\n",
              "11     5\n",
              "12     7\n",
              "13     5\n",
              "14     7\n",
              "15    10\n",
              "16    10\n",
              "17     4\n",
              "18    10\n",
              "19     3\n",
              "20     9\n",
              "21    10\n",
              "22     9\n",
              "23     4\n",
              "24     3\n",
              "25     4\n",
              "26    11\n",
              "27    11\n",
              "28     6\n",
              "29    11\n",
              "dtype: int32"
            ]
          },
          "execution_count": 84,
          "metadata": {},
          "output_type": "execute_result"
        }
      ],
      "source": [
        "np.random.seed(1)\n",
        "\n",
        "notas = pd.Series(np.random.randint(3,12,30))\n",
        "notas"
      ]
    },
    {
      "cell_type": "code",
      "execution_count": null,
      "id": "80da6f23",
      "metadata": {
        "id": "80da6f23",
        "outputId": "cd2737dd-fe9b-4f4c-e4b2-9c4c9deac7d7"
      },
      "outputs": [
        {
          "data": {
            "text/plain": [
              "0       par\n",
              "1     ímpar\n",
              "2       par\n",
              "3     ímpar\n",
              "4     ímpar\n",
              "5       par\n",
              "6       par\n",
              "7     ímpar\n",
              "8     ímpar\n",
              "9     ímpar\n",
              "10      par\n",
              "11    ímpar\n",
              "12    ímpar\n",
              "13    ímpar\n",
              "14    ímpar\n",
              "15      par\n",
              "16      par\n",
              "17      par\n",
              "18      par\n",
              "19    ímpar\n",
              "20    ímpar\n",
              "21      par\n",
              "22    ímpar\n",
              "23      par\n",
              "24    ímpar\n",
              "25      par\n",
              "26    ímpar\n",
              "27    ímpar\n",
              "28      par\n",
              "29    ímpar\n",
              "dtype: object"
            ]
          },
          "execution_count": 86,
          "metadata": {},
          "output_type": "execute_result"
        }
      ],
      "source": [
        "# .apply()\n",
        "notas.apply(lambda x: \"par\" if x % 2 == 0 else \"ímpar\")"
      ]
    },
    {
      "cell_type": "code",
      "execution_count": null,
      "id": "127bd840",
      "metadata": {
        "id": "127bd840",
        "outputId": "82b56030-d730-4d8e-9f3b-57e4a8ca71e1"
      },
      "outputs": [
        {
          "data": {
            "text/plain": [
              "0      True\n",
              "1     False\n",
              "2      True\n",
              "3      True\n",
              "4      True\n",
              "5      True\n",
              "6      True\n",
              "7      True\n",
              "8      True\n",
              "9      True\n",
              "10     True\n",
              "11     True\n",
              "12     True\n",
              "13     True\n",
              "14     True\n",
              "15     True\n",
              "16     True\n",
              "17     True\n",
              "18     True\n",
              "19     True\n",
              "20     True\n",
              "21     True\n",
              "22     True\n",
              "23     True\n",
              "24     True\n",
              "25     True\n",
              "26    False\n",
              "27    False\n",
              "28     True\n",
              "29    False\n",
              "dtype: bool"
            ]
          },
          "execution_count": 88,
          "metadata": {},
          "output_type": "execute_result"
        }
      ],
      "source": [
        "notas_check = notas.apply(lambda x: True if x >=0 and x <= 10 else False)\n",
        "notas_check"
      ]
    },
    {
      "cell_type": "code",
      "execution_count": null,
      "id": "d405f817",
      "metadata": {
        "id": "d405f817",
        "outputId": "765efebc-aff9-4496-f4ad-b7657b9da82b"
      },
      "outputs": [
        {
          "data": {
            "text/plain": [
              "0      True\n",
              "1     False\n",
              "2      True\n",
              "3      True\n",
              "4      True\n",
              "5      True\n",
              "6      True\n",
              "7      True\n",
              "8      True\n",
              "9      True\n",
              "10     True\n",
              "11     True\n",
              "12     True\n",
              "13     True\n",
              "14     True\n",
              "15     True\n",
              "16     True\n",
              "17     True\n",
              "18     True\n",
              "19     True\n",
              "20     True\n",
              "21     True\n",
              "22     True\n",
              "23     True\n",
              "24     True\n",
              "25     True\n",
              "26    False\n",
              "27    False\n",
              "28     True\n",
              "29    False\n",
              "dtype: bool"
            ]
          },
          "execution_count": 89,
          "metadata": {},
          "output_type": "execute_result"
        }
      ],
      "source": [
        "lista_notas_check = []\n",
        "\n",
        "for nota in notas:\n",
        "    if nota >= 0 and nota <= 10:\n",
        "        lista_notas_check.append(True)\n",
        "    else:\n",
        "        lista_notas_check.append(False)\n",
        "pd.Series(lista_notas_check)"
      ]
    },
    {
      "cell_type": "code",
      "execution_count": null,
      "id": "5eaad592",
      "metadata": {
        "id": "5eaad592",
        "outputId": "f9ffd613-b143-41cb-eb4d-7508ee7b9d7f"
      },
      "outputs": [
        {
          "data": {
            "text/plain": [
              "3"
            ]
          },
          "execution_count": 91,
          "metadata": {},
          "output_type": "execute_result"
        }
      ],
      "source": [
        "# max(), min() etc\n",
        "notas.min()"
      ]
    },
    {
      "cell_type": "code",
      "execution_count": null,
      "id": "d5880ad6",
      "metadata": {
        "id": "d5880ad6",
        "outputId": "e6ef520b-7370-466b-c706-db370db4cf87"
      },
      "outputs": [
        {
          "data": {
            "text/plain": [
              "(30,)"
            ]
          },
          "execution_count": 92,
          "metadata": {},
          "output_type": "execute_result"
        }
      ],
      "source": [
        "notas.shape"
      ]
    },
    {
      "cell_type": "code",
      "execution_count": null,
      "id": "8a37d7f6",
      "metadata": {
        "id": "8a37d7f6",
        "outputId": "38d7ddc5-d05a-49da-da44-9cde74472482"
      },
      "outputs": [
        {
          "data": {
            "text/plain": [
              "30"
            ]
          },
          "execution_count": 93,
          "metadata": {},
          "output_type": "execute_result"
        }
      ],
      "source": [
        "notas.size"
      ]
    },
    {
      "cell_type": "code",
      "execution_count": null,
      "id": "ca28ba51",
      "metadata": {
        "id": "ca28ba51",
        "outputId": "c30030d4-26d7-481e-c2e5-ae759ee6a014"
      },
      "outputs": [
        {
          "data": {
            "text/plain": [
              "29    11\n",
              "1     11\n",
              "27    11\n",
              "26    11\n",
              "21    10\n",
              "18    10\n",
              "16    10\n",
              "15    10\n",
              "6     10\n",
              "7      9\n",
              "22     9\n",
              "20     9\n",
              "0      8\n",
              "10     8\n",
              "2      8\n",
              "9      7\n",
              "12     7\n",
              "14     7\n",
              "28     6\n",
              "8      5\n",
              "13     5\n",
              "11     5\n",
              "5      4\n",
              "17     4\n",
              "23     4\n",
              "25     4\n",
              "4      3\n",
              "24     3\n",
              "3      3\n",
              "19     3\n",
              "dtype: int32"
            ]
          },
          "execution_count": 99,
          "metadata": {},
          "output_type": "execute_result"
        }
      ],
      "source": [
        "# Ordenação dos valores\n",
        "notas.sort_values(ascending = False)"
      ]
    },
    {
      "cell_type": "code",
      "execution_count": null,
      "id": "b7764c1b",
      "metadata": {
        "id": "b7764c1b",
        "outputId": "c3460509-f75e-47e6-e022-ccf2798fdc00"
      },
      "outputs": [
        {
          "data": {
            "text/plain": [
              "array([ 8, 11,  3,  4, 10,  9,  5,  7,  6])"
            ]
          },
          "execution_count": 100,
          "metadata": {},
          "output_type": "execute_result"
        }
      ],
      "source": [
        "# valores únicos\n",
        "notas.unique()"
      ]
    },
    {
      "cell_type": "code",
      "execution_count": null,
      "id": "ee9fa6a4",
      "metadata": {
        "id": "ee9fa6a4",
        "outputId": "e4b17162-e811-4559-f38c-64e814460cde"
      },
      "outputs": [
        {
          "data": {
            "text/plain": [
              "10    5\n",
              "11    4\n",
              "3     4\n",
              "4     4\n",
              "8     3\n",
              "9     3\n",
              "5     3\n",
              "7     3\n",
              "6     1\n",
              "dtype: int64"
            ]
          },
          "execution_count": 101,
          "metadata": {},
          "output_type": "execute_result"
        }
      ],
      "source": [
        "# número de ocorrências\n",
        "notas.value_counts()"
      ]
    },
    {
      "cell_type": "code",
      "execution_count": null,
      "id": "7e41cfb4",
      "metadata": {
        "id": "7e41cfb4",
        "outputId": "dec2507a-7b1c-4ee7-af9c-566286f8c156"
      },
      "outputs": [
        {
          "data": {
            "text/plain": [
              "10    0.166667\n",
              "11    0.133333\n",
              "3     0.133333\n",
              "4     0.133333\n",
              "8     0.100000\n",
              "9     0.100000\n",
              "5     0.100000\n",
              "7     0.100000\n",
              "6     0.033333\n",
              "dtype: float64"
            ]
          },
          "execution_count": 102,
          "metadata": {},
          "output_type": "execute_result"
        }
      ],
      "source": [
        "# frequência relativa de cada valor\n",
        "notas.value_counts()/notas.size"
      ]
    },
    {
      "cell_type": "code",
      "execution_count": null,
      "id": "b8d075b9",
      "metadata": {
        "id": "b8d075b9",
        "outputId": "55d232d4-a57d-4898-cf6a-ce54aa125d36"
      },
      "outputs": [
        {
          "data": {
            "text/plain": [
              "10    0.166667\n",
              "11    0.133333\n",
              "3     0.133333\n",
              "4     0.133333\n",
              "8     0.100000\n",
              "9     0.100000\n",
              "5     0.100000\n",
              "7     0.100000\n",
              "6     0.033333\n",
              "dtype: float64"
            ]
          },
          "execution_count": 106,
          "metadata": {},
          "output_type": "execute_result"
        }
      ],
      "source": [
        "# Outra forma de fazer a frequência relativa\n",
        "notas.value_counts(normalize = True)"
      ]
    },
    {
      "cell_type": "code",
      "execution_count": null,
      "id": "580429bf",
      "metadata": {
        "id": "580429bf",
        "outputId": "6d4abda9-f224-4d42-f7fb-6109b8c5ff3e"
      },
      "outputs": [
        {
          "data": {
            "text/plain": [
              "0       8\n",
              "1      19\n",
              "2      27\n",
              "3      30\n",
              "4      33\n",
              "5      37\n",
              "6      47\n",
              "7      56\n",
              "8      61\n",
              "9      68\n",
              "10     76\n",
              "11     81\n",
              "12     88\n",
              "13     93\n",
              "14    100\n",
              "15    110\n",
              "16    120\n",
              "17    124\n",
              "18    134\n",
              "19    137\n",
              "20    146\n",
              "21    156\n",
              "22    165\n",
              "23    169\n",
              "24    172\n",
              "25    176\n",
              "26    187\n",
              "27    198\n",
              "28    204\n",
              "29    215\n",
              "dtype: int32"
            ]
          },
          "execution_count": 107,
          "metadata": {},
          "output_type": "execute_result"
        }
      ],
      "source": [
        "# soma cumulativa\n",
        "notas.cumsum()"
      ]
    },
    {
      "cell_type": "code",
      "execution_count": null,
      "id": "96820290",
      "metadata": {
        "id": "96820290",
        "outputId": "d15f0721-671b-4622-ffd5-110a7d91ab92"
      },
      "outputs": [
        {
          "data": {
            "text/plain": [
              "0      8\n",
              "1     11\n",
              "2      8\n",
              "3      3\n",
              "4      3\n",
              "5      4\n",
              "6     10\n",
              "7      9\n",
              "8      5\n",
              "9      7\n",
              "10     8\n",
              "11     5\n",
              "12     7\n",
              "13     5\n",
              "14     7\n",
              "15    10\n",
              "16    10\n",
              "17     4\n",
              "18    10\n",
              "19     3\n",
              "20     9\n",
              "21    10\n",
              "22     9\n",
              "23     4\n",
              "24     3\n",
              "25     4\n",
              "26    11\n",
              "27    11\n",
              "28     6\n",
              "29    11\n",
              "dtype: int32"
            ]
          },
          "execution_count": 109,
          "metadata": {},
          "output_type": "execute_result"
        }
      ],
      "source": [
        "notas"
      ]
    },
    {
      "cell_type": "code",
      "execution_count": null,
      "id": "cea45fe7",
      "metadata": {
        "id": "cea45fe7",
        "outputId": "1a12e737-10bd-448d-e41f-eb4174ab2bb7"
      },
      "outputs": [
        {
          "data": {
            "text/plain": [
              "count    30.000000\n",
              "mean      7.166667\n",
              "std       2.853713\n",
              "min       3.000000\n",
              "25%       4.250000\n",
              "50%       7.500000\n",
              "75%      10.000000\n",
              "max      11.000000\n",
              "dtype: float64"
            ]
          },
          "execution_count": 110,
          "metadata": {},
          "output_type": "execute_result"
        }
      ],
      "source": [
        "# Estatísticas básicas todas juntas\n",
        "notas.describe()"
      ]
    },
    {
      "cell_type": "code",
      "execution_count": null,
      "id": "fa585cfa",
      "metadata": {
        "id": "fa585cfa",
        "outputId": "fcf1e91c-81e7-4234-8e0c-19279958024e"
      },
      "outputs": [
        {
          "data": {
            "text/plain": [
              "count    22.000000\n",
              "mean      8.500000\n",
              "std       2.041241\n",
              "min       5.000000\n",
              "25%       7.000000\n",
              "50%       9.000000\n",
              "75%      10.000000\n",
              "max      11.000000\n",
              "dtype: float64"
            ]
          },
          "execution_count": 111,
          "metadata": {},
          "output_type": "execute_result"
        }
      ],
      "source": [
        "# Podemos aplicar após filtrar também\n",
        "notas[notas >= 5].describe()"
      ]
    },
    {
      "cell_type": "markdown",
      "id": "2dfec6c3",
      "metadata": {
        "id": "2dfec6c3"
      },
      "source": [
        "# Voltamos às 20h45"
      ]
    },
    {
      "cell_type": "markdown",
      "id": "31af49ac",
      "metadata": {
        "id": "31af49ac"
      },
      "source": [
        "## DataFrame"
      ]
    },
    {
      "cell_type": "markdown",
      "id": "b642f75b",
      "metadata": {
        "id": "b642f75b"
      },
      "source": [
        "Agora que conhecemos as séries, vamos partir pro objeto do Pandas que mais utilizaremos: o **DataFrame**\n",
        "\n",
        "Como veremos a seguir, o DataFrame é uma estrutura que se assemalha a uma **tabela**.\n",
        "\n",
        "Estruturalmente, o DataFrame nada mais é que um **conjunto de Series**, uma para cada coluna (e, claro, com mesmo índice, que irão indexar as linhas)."
      ]
    },
    {
      "cell_type": "markdown",
      "id": "67966e43",
      "metadata": {
        "id": "67966e43"
      },
      "source": [
        "Veremos depois como **ler um dataframe a partir de um arquivo** (que é provavelmente a forma mais comum)."
      ]
    },
    {
      "cell_type": "markdown",
      "id": "8b3d1c08",
      "metadata": {
        "id": "8b3d1c08"
      },
      "source": [
        "Há muitas formas de construir um DataFrame do zero. Todas elas fazem uso da função **pd.DataFrame()**, como veremos a seguir.\n",
        "\n",
        "Se quisermos especificar os índices de linha, o nome das colunas, e os dados, podemos passá-los separadamente: "
      ]
    },
    {
      "cell_type": "markdown",
      "id": "1308310e",
      "metadata": {
        "id": "1308310e"
      },
      "source": [
        "Selecionando colunas específicas"
      ]
    },
    {
      "cell_type": "markdown",
      "id": "88769ef1",
      "metadata": {
        "id": "88769ef1"
      },
      "source": [
        "As colunas do dataframes são séries. Assim, tudo que vimos para as séries, se estende individualmente para cada coluna!"
      ]
    },
    {
      "cell_type": "code",
      "execution_count": null,
      "id": "abddac08",
      "metadata": {
        "id": "abddac08",
        "outputId": "56f8994e-ccef-444a-933b-7e6c2f89ec5c"
      },
      "outputs": [
        {
          "data": {
            "text/plain": [
              "array([[ -1, -85,  56],\n",
              "       [ 37,  48, -25],\n",
              "       [-78, -29,  62],\n",
              "       [ 18, -60, -74],\n",
              "       [-84,  90,  44]])"
            ]
          },
          "execution_count": 112,
          "metadata": {},
          "output_type": "execute_result"
        }
      ],
      "source": [
        "# Gerando uma matriz (5,3) de números inteiros\n",
        "np.random.seed(20)\n",
        "\n",
        "matriz = np.random.randint(-100,100,(5,3))\n",
        "matriz"
      ]
    },
    {
      "cell_type": "code",
      "execution_count": null,
      "id": "efda8f6a",
      "metadata": {
        "id": "efda8f6a",
        "outputId": "d01762ff-fb8d-499d-abd3-a2a3f4ef339e"
      },
      "outputs": [
        {
          "data": {
            "text/html": [
              "<div>\n",
              "<style scoped>\n",
              "    .dataframe tbody tr th:only-of-type {\n",
              "        vertical-align: middle;\n",
              "    }\n",
              "\n",
              "    .dataframe tbody tr th {\n",
              "        vertical-align: top;\n",
              "    }\n",
              "\n",
              "    .dataframe thead th {\n",
              "        text-align: right;\n",
              "    }\n",
              "</style>\n",
              "<table border=\"1\" class=\"dataframe\">\n",
              "  <thead>\n",
              "    <tr style=\"text-align: right;\">\n",
              "      <th></th>\n",
              "      <th>0</th>\n",
              "      <th>1</th>\n",
              "      <th>2</th>\n",
              "    </tr>\n",
              "  </thead>\n",
              "  <tbody>\n",
              "    <tr>\n",
              "      <th>0</th>\n",
              "      <td>-1</td>\n",
              "      <td>-85</td>\n",
              "      <td>56</td>\n",
              "    </tr>\n",
              "    <tr>\n",
              "      <th>1</th>\n",
              "      <td>37</td>\n",
              "      <td>48</td>\n",
              "      <td>-25</td>\n",
              "    </tr>\n",
              "    <tr>\n",
              "      <th>2</th>\n",
              "      <td>-78</td>\n",
              "      <td>-29</td>\n",
              "      <td>62</td>\n",
              "    </tr>\n",
              "    <tr>\n",
              "      <th>3</th>\n",
              "      <td>18</td>\n",
              "      <td>-60</td>\n",
              "      <td>-74</td>\n",
              "    </tr>\n",
              "    <tr>\n",
              "      <th>4</th>\n",
              "      <td>-84</td>\n",
              "      <td>90</td>\n",
              "      <td>44</td>\n",
              "    </tr>\n",
              "  </tbody>\n",
              "</table>\n",
              "</div>"
            ],
            "text/plain": [
              "    0   1   2\n",
              "0  -1 -85  56\n",
              "1  37  48 -25\n",
              "2 -78 -29  62\n",
              "3  18 -60 -74\n",
              "4 -84  90  44"
            ]
          },
          "execution_count": 113,
          "metadata": {},
          "output_type": "execute_result"
        }
      ],
      "source": [
        "pd.DataFrame(matriz)"
      ]
    },
    {
      "cell_type": "code",
      "execution_count": null,
      "id": "41833eaf",
      "metadata": {
        "id": "41833eaf"
      },
      "outputs": [],
      "source": [
        "# Conseguimos definir nomes pros índices e colunas\n",
        "df_nome_linhas = pd.DataFrame(matriz,\n",
        "                             index = [\"obs1\", \"obs2\", \"obs3\", \"obs4\", \"obs5\"],\n",
        "                             columns = [\"Variável1\", \"Variável2\",\"Variável3\"])"
      ]
    },
    {
      "cell_type": "code",
      "execution_count": null,
      "id": "fddf8018",
      "metadata": {
        "id": "fddf8018",
        "outputId": "a1833576-eca3-4ef8-dbf3-61ea8ef342c4"
      },
      "outputs": [
        {
          "data": {
            "text/html": [
              "<div>\n",
              "<style scoped>\n",
              "    .dataframe tbody tr th:only-of-type {\n",
              "        vertical-align: middle;\n",
              "    }\n",
              "\n",
              "    .dataframe tbody tr th {\n",
              "        vertical-align: top;\n",
              "    }\n",
              "\n",
              "    .dataframe thead th {\n",
              "        text-align: right;\n",
              "    }\n",
              "</style>\n",
              "<table border=\"1\" class=\"dataframe\">\n",
              "  <thead>\n",
              "    <tr style=\"text-align: right;\">\n",
              "      <th></th>\n",
              "      <th>Variável1</th>\n",
              "      <th>Variável2</th>\n",
              "      <th>Variável3</th>\n",
              "    </tr>\n",
              "  </thead>\n",
              "  <tbody>\n",
              "    <tr>\n",
              "      <th>obs1</th>\n",
              "      <td>-1</td>\n",
              "      <td>-85</td>\n",
              "      <td>56</td>\n",
              "    </tr>\n",
              "    <tr>\n",
              "      <th>obs2</th>\n",
              "      <td>37</td>\n",
              "      <td>48</td>\n",
              "      <td>-25</td>\n",
              "    </tr>\n",
              "    <tr>\n",
              "      <th>obs3</th>\n",
              "      <td>-78</td>\n",
              "      <td>-29</td>\n",
              "      <td>62</td>\n",
              "    </tr>\n",
              "    <tr>\n",
              "      <th>obs4</th>\n",
              "      <td>18</td>\n",
              "      <td>-60</td>\n",
              "      <td>-74</td>\n",
              "    </tr>\n",
              "    <tr>\n",
              "      <th>obs5</th>\n",
              "      <td>-84</td>\n",
              "      <td>90</td>\n",
              "      <td>44</td>\n",
              "    </tr>\n",
              "  </tbody>\n",
              "</table>\n",
              "</div>"
            ],
            "text/plain": [
              "      Variável1  Variável2  Variável3\n",
              "obs1         -1        -85         56\n",
              "obs2         37         48        -25\n",
              "obs3        -78        -29         62\n",
              "obs4         18        -60        -74\n",
              "obs5        -84         90         44"
            ]
          },
          "execution_count": 115,
          "metadata": {},
          "output_type": "execute_result"
        }
      ],
      "source": [
        "df_nome_linhas"
      ]
    },
    {
      "cell_type": "markdown",
      "id": "4cd4894e",
      "metadata": {
        "id": "4cd4894e"
      },
      "source": [
        "Acessando posições do dataframe: .loc() e .iloc()"
      ]
    },
    {
      "cell_type": "code",
      "execution_count": null,
      "id": "5b39129c",
      "metadata": {
        "id": "5b39129c"
      },
      "outputs": [],
      "source": [
        "# .loc(): especificamos \"labels\"/rótulos (nomes de índices e de colunas)"
      ]
    },
    {
      "cell_type": "code",
      "execution_count": null,
      "id": "9a186875",
      "metadata": {
        "id": "9a186875",
        "outputId": "8ad121b5-7b36-401e-e01f-095fefc37e58"
      },
      "outputs": [
        {
          "data": {
            "text/plain": [
              "-60"
            ]
          },
          "execution_count": 117,
          "metadata": {},
          "output_type": "execute_result"
        }
      ],
      "source": [
        "df_nome_linhas.loc[\"obs4\",\"Variável2\"]"
      ]
    },
    {
      "cell_type": "code",
      "execution_count": null,
      "id": "0dcead4b",
      "metadata": {
        "id": "0dcead4b",
        "outputId": "a10f0d4a-f5d6-4f19-9eb9-958890a44602"
      },
      "outputs": [
        {
          "data": {
            "text/plain": [
              "-60"
            ]
          },
          "execution_count": 118,
          "metadata": {},
          "output_type": "execute_result"
        }
      ],
      "source": [
        "# .iloc(): especificamos índices numéricos\n",
        "df_nome_linhas.iloc[3,1]"
      ]
    },
    {
      "cell_type": "markdown",
      "id": "45094734",
      "metadata": {
        "id": "45094734"
      },
      "source": [
        "Selecionamos colunas específicas"
      ]
    },
    {
      "cell_type": "code",
      "execution_count": null,
      "id": "58729eb3",
      "metadata": {
        "id": "58729eb3",
        "outputId": "07e7b1f7-57d1-4172-a0ea-09b5c9efea02"
      },
      "outputs": [
        {
          "data": {
            "text/plain": [
              "obs1    56\n",
              "obs2   -25\n",
              "obs3    62\n",
              "obs4   -74\n",
              "obs5    44\n",
              "Name: Variável3, dtype: int32"
            ]
          },
          "execution_count": 120,
          "metadata": {},
          "output_type": "execute_result"
        }
      ],
      "source": [
        "df_nome_linhas[\"Variável3\"]"
      ]
    },
    {
      "cell_type": "code",
      "execution_count": null,
      "id": "88d65ca3",
      "metadata": {
        "id": "88d65ca3",
        "outputId": "3bc929e1-afbd-44bc-e4c6-6f8bdedb4df1"
      },
      "outputs": [
        {
          "data": {
            "text/plain": [
              "obs1    56\n",
              "obs2   -25\n",
              "obs3    62\n",
              "obs4   -74\n",
              "obs5    44\n",
              "Name: Variável3, dtype: int32"
            ]
          },
          "execution_count": 121,
          "metadata": {},
          "output_type": "execute_result"
        }
      ],
      "source": [
        "df_nome_linhas.loc[:,\"Variável3\"]"
      ]
    },
    {
      "cell_type": "code",
      "execution_count": null,
      "id": "8dab6fd3",
      "metadata": {
        "id": "8dab6fd3"
      },
      "outputs": [],
      "source": [
        "# Atribuição de valores\n",
        "df_nome_linhas[\"Variável3\"][1] = 42"
      ]
    },
    {
      "cell_type": "code",
      "execution_count": null,
      "id": "4a81c1a8",
      "metadata": {
        "id": "4a81c1a8",
        "outputId": "66f019e2-4b35-426e-ac64-0a06f6c7928c"
      },
      "outputs": [
        {
          "data": {
            "text/html": [
              "<div>\n",
              "<style scoped>\n",
              "    .dataframe tbody tr th:only-of-type {\n",
              "        vertical-align: middle;\n",
              "    }\n",
              "\n",
              "    .dataframe tbody tr th {\n",
              "        vertical-align: top;\n",
              "    }\n",
              "\n",
              "    .dataframe thead th {\n",
              "        text-align: right;\n",
              "    }\n",
              "</style>\n",
              "<table border=\"1\" class=\"dataframe\">\n",
              "  <thead>\n",
              "    <tr style=\"text-align: right;\">\n",
              "      <th></th>\n",
              "      <th>Variável1</th>\n",
              "      <th>Variável2</th>\n",
              "      <th>Variável3</th>\n",
              "    </tr>\n",
              "  </thead>\n",
              "  <tbody>\n",
              "    <tr>\n",
              "      <th>obs1</th>\n",
              "      <td>-1</td>\n",
              "      <td>-85</td>\n",
              "      <td>56</td>\n",
              "    </tr>\n",
              "    <tr>\n",
              "      <th>obs2</th>\n",
              "      <td>37</td>\n",
              "      <td>48</td>\n",
              "      <td>42</td>\n",
              "    </tr>\n",
              "    <tr>\n",
              "      <th>obs3</th>\n",
              "      <td>-78</td>\n",
              "      <td>-29</td>\n",
              "      <td>62</td>\n",
              "    </tr>\n",
              "    <tr>\n",
              "      <th>obs4</th>\n",
              "      <td>18</td>\n",
              "      <td>-60</td>\n",
              "      <td>-74</td>\n",
              "    </tr>\n",
              "    <tr>\n",
              "      <th>obs5</th>\n",
              "      <td>-84</td>\n",
              "      <td>90</td>\n",
              "      <td>44</td>\n",
              "    </tr>\n",
              "  </tbody>\n",
              "</table>\n",
              "</div>"
            ],
            "text/plain": [
              "      Variável1  Variável2  Variável3\n",
              "obs1         -1        -85         56\n",
              "obs2         37         48         42\n",
              "obs3        -78        -29         62\n",
              "obs4         18        -60        -74\n",
              "obs5        -84         90         44"
            ]
          },
          "execution_count": 123,
          "metadata": {},
          "output_type": "execute_result"
        }
      ],
      "source": [
        "df_nome_linhas"
      ]
    },
    {
      "cell_type": "markdown",
      "id": "4873d419",
      "metadata": {
        "id": "4873d419"
      },
      "source": [
        "As colunas do dataframe são séries. Assim, tudo que vimos para as séries, se estende individualmente para cada coluna!"
      ]
    },
    {
      "cell_type": "code",
      "execution_count": null,
      "id": "2177d4c7",
      "metadata": {
        "id": "2177d4c7",
        "outputId": "34cdbc4f-7b68-4323-cb20-815869a0c92d"
      },
      "outputs": [
        {
          "data": {
            "text/plain": [
              "obs1    -1\n",
              "obs2    37\n",
              "obs3   -78\n",
              "obs4    18\n",
              "obs5   -84\n",
              "Name: Variável1, dtype: int32"
            ]
          },
          "execution_count": 126,
          "metadata": {},
          "output_type": "execute_result"
        }
      ],
      "source": [
        "df_nome_linhas[\"Variável1\"]"
      ]
    },
    {
      "cell_type": "code",
      "execution_count": null,
      "id": "1a7f6c77",
      "metadata": {
        "id": "1a7f6c77",
        "outputId": "5eb3fe27-a5d4-4d31-ddd8-7882150022ce"
      },
      "outputs": [
        {
          "data": {
            "text/plain": [
              "obs1     9\n",
              "obs2    47\n",
              "obs3   -68\n",
              "obs4    28\n",
              "obs5   -74\n",
              "Name: Variável1, dtype: int32"
            ]
          },
          "execution_count": 125,
          "metadata": {},
          "output_type": "execute_result"
        }
      ],
      "source": [
        "resultado = df_nome_linhas[\"Variável1\"] + 10\n",
        "resultado"
      ]
    },
    {
      "cell_type": "markdown",
      "id": "7344b43c",
      "metadata": {
        "id": "7344b43c"
      },
      "source": [
        "## Lendo e escrevendo conjuntos de dados com pandas"
      ]
    },
    {
      "cell_type": "markdown",
      "id": "1dec0623",
      "metadata": {
        "id": "1dec0623"
      },
      "source": [
        "### Lendo dados de um arquivo\n",
        "\n",
        "A forma mais comum de se construir um dataframe é a partir da **leitura de um arquivo**\n",
        "\n",
        "Em geral, queremos ler arquivos já estruturados como base de dados, em formatos como .csv, .xls, .xlsx, .ods, .txt, .json, etc.\n",
        "\n",
        "O pandas é capaz de ler todos esses formatos, com funções específicas!"
      ]
    },
    {
      "cell_type": "markdown",
      "id": "b70de5c6",
      "metadata": {
        "id": "b70de5c6"
      },
      "source": [
        "#### CSV\n",
        "\n",
        "https://pandas.pydata.org/pandas-docs/stable/reference/api/pandas.read_csv.html"
      ]
    },
    {
      "cell_type": "markdown",
      "id": "0e711b9b",
      "metadata": {
        "id": "0e711b9b"
      },
      "source": [
        "Vamos criar um dataframe usando pandas com os dados do arquivo `alunos.csv`"
      ]
    },
    {
      "cell_type": "code",
      "execution_count": null,
      "id": "d0b18b3a",
      "metadata": {
        "id": "d0b18b3a"
      },
      "outputs": [],
      "source": [
        "# não é recomendado usar caminhos absolutos\n",
        "df = pd.read_csv(\"../../dados/alunos.csv\")"
      ]
    },
    {
      "cell_type": "code",
      "execution_count": null,
      "id": "3bcaa62b",
      "metadata": {
        "id": "3bcaa62b",
        "outputId": "8e103557-903b-437b-a874-8bec94ea304a"
      },
      "outputs": [
        {
          "data": {
            "text/html": [
              "<div>\n",
              "<style scoped>\n",
              "    .dataframe tbody tr th:only-of-type {\n",
              "        vertical-align: middle;\n",
              "    }\n",
              "\n",
              "    .dataframe tbody tr th {\n",
              "        vertical-align: top;\n",
              "    }\n",
              "\n",
              "    .dataframe thead th {\n",
              "        text-align: right;\n",
              "    }\n",
              "</style>\n",
              "<table border=\"1\" class=\"dataframe\">\n",
              "  <thead>\n",
              "    <tr style=\"text-align: right;\">\n",
              "      <th></th>\n",
              "      <th>RA</th>\n",
              "      <th>Nome</th>\n",
              "      <th>Frequencia</th>\n",
              "      <th>Prova_1</th>\n",
              "      <th>Prova_2</th>\n",
              "      <th>Prova_3</th>\n",
              "      <th>Prova_4</th>\n",
              "    </tr>\n",
              "  </thead>\n",
              "  <tbody>\n",
              "    <tr>\n",
              "      <th>0</th>\n",
              "      <td>110201</td>\n",
              "      <td>Antonio Carlos</td>\n",
              "      <td>20</td>\n",
              "      <td>6.5</td>\n",
              "      <td>8.5</td>\n",
              "      <td>7.0</td>\n",
              "      <td>6</td>\n",
              "    </tr>\n",
              "    <tr>\n",
              "      <th>1</th>\n",
              "      <td>110212</td>\n",
              "      <td>Ana Beatriz</td>\n",
              "      <td>20</td>\n",
              "      <td>7.0</td>\n",
              "      <td>7.0</td>\n",
              "      <td>7.0</td>\n",
              "      <td>8</td>\n",
              "    </tr>\n",
              "    <tr>\n",
              "      <th>2</th>\n",
              "      <td>110218</td>\n",
              "      <td>Carlos Vernes</td>\n",
              "      <td>17</td>\n",
              "      <td>7.0</td>\n",
              "      <td>7.0</td>\n",
              "      <td>7.0</td>\n",
              "      <td>7</td>\n",
              "    </tr>\n",
              "    <tr>\n",
              "      <th>3</th>\n",
              "      <td>110307</td>\n",
              "      <td>Francisco Cunha</td>\n",
              "      <td>20</td>\n",
              "      <td>9.0</td>\n",
              "      <td>8.5</td>\n",
              "      <td>8.5</td>\n",
              "      <td>10</td>\n",
              "    </tr>\n",
              "    <tr>\n",
              "      <th>4</th>\n",
              "      <td>110275</td>\n",
              "      <td>Sandra Rosa</td>\n",
              "      <td>15</td>\n",
              "      <td>6.5</td>\n",
              "      <td>7.5</td>\n",
              "      <td>7.0</td>\n",
              "      <td>7</td>\n",
              "    </tr>\n",
              "    <tr>\n",
              "      <th>5</th>\n",
              "      <td>110281</td>\n",
              "      <td>Juliana Arruda</td>\n",
              "      <td>18</td>\n",
              "      <td>7.5</td>\n",
              "      <td>7.0</td>\n",
              "      <td>7.5</td>\n",
              "      <td>8</td>\n",
              "    </tr>\n",
              "    <tr>\n",
              "      <th>6</th>\n",
              "      <td>110301</td>\n",
              "      <td>Joao Galo</td>\n",
              "      <td>20</td>\n",
              "      <td>5.0</td>\n",
              "      <td>6.5</td>\n",
              "      <td>7.0</td>\n",
              "      <td>5</td>\n",
              "    </tr>\n",
              "    <tr>\n",
              "      <th>7</th>\n",
              "      <td>110263</td>\n",
              "      <td>José Valente</td>\n",
              "      <td>20</td>\n",
              "      <td>10.0</td>\n",
              "      <td>10.0</td>\n",
              "      <td>10.0</td>\n",
              "      <td>10</td>\n",
              "    </tr>\n",
              "    <tr>\n",
              "      <th>8</th>\n",
              "      <td>110271</td>\n",
              "      <td>Maria Ferreira</td>\n",
              "      <td>19</td>\n",
              "      <td>9.5</td>\n",
              "      <td>8.0</td>\n",
              "      <td>7.0</td>\n",
              "      <td>10</td>\n",
              "    </tr>\n",
              "    <tr>\n",
              "      <th>9</th>\n",
              "      <td>110236</td>\n",
              "      <td>Adriana Tavares</td>\n",
              "      <td>20</td>\n",
              "      <td>8.0</td>\n",
              "      <td>8.0</td>\n",
              "      <td>8.0</td>\n",
              "      <td>8</td>\n",
              "    </tr>\n",
              "  </tbody>\n",
              "</table>\n",
              "</div>"
            ],
            "text/plain": [
              "       RA             Nome  Frequencia  Prova_1  Prova_2  Prova_3  Prova_4\n",
              "0  110201   Antonio Carlos          20      6.5      8.5      7.0        6\n",
              "1  110212      Ana Beatriz          20      7.0      7.0      7.0        8\n",
              "2  110218    Carlos Vernes          17      7.0      7.0      7.0        7\n",
              "3  110307  Francisco Cunha          20      9.0      8.5      8.5       10\n",
              "4  110275      Sandra Rosa          15      6.5      7.5      7.0        7\n",
              "5  110281   Juliana Arruda          18      7.5      7.0      7.5        8\n",
              "6  110301        Joao Galo          20      5.0      6.5      7.0        5\n",
              "7  110263     José Valente          20     10.0     10.0     10.0       10\n",
              "8  110271   Maria Ferreira          19      9.5      8.0      7.0       10\n",
              "9  110236  Adriana Tavares          20      8.0      8.0      8.0        8"
            ]
          },
          "execution_count": 128,
          "metadata": {},
          "output_type": "execute_result"
        }
      ],
      "source": [
        "df"
      ]
    },
    {
      "cell_type": "code",
      "execution_count": null,
      "id": "f434aa52",
      "metadata": {
        "id": "f434aa52",
        "outputId": "dac6aa16-08c9-42f2-cba9-466a96349f48"
      },
      "outputs": [
        {
          "data": {
            "text/html": [
              "<div>\n",
              "<style scoped>\n",
              "    .dataframe tbody tr th:only-of-type {\n",
              "        vertical-align: middle;\n",
              "    }\n",
              "\n",
              "    .dataframe tbody tr th {\n",
              "        vertical-align: top;\n",
              "    }\n",
              "\n",
              "    .dataframe thead th {\n",
              "        text-align: right;\n",
              "    }\n",
              "</style>\n",
              "<table border=\"1\" class=\"dataframe\">\n",
              "  <thead>\n",
              "    <tr style=\"text-align: right;\">\n",
              "      <th></th>\n",
              "      <th>RA</th>\n",
              "      <th>Nome</th>\n",
              "      <th>Prova_1</th>\n",
              "    </tr>\n",
              "  </thead>\n",
              "  <tbody>\n",
              "    <tr>\n",
              "      <th>0</th>\n",
              "      <td>110201</td>\n",
              "      <td>Antonio Carlos</td>\n",
              "      <td>6.5</td>\n",
              "    </tr>\n",
              "    <tr>\n",
              "      <th>1</th>\n",
              "      <td>110212</td>\n",
              "      <td>Ana Beatriz</td>\n",
              "      <td>7.0</td>\n",
              "    </tr>\n",
              "    <tr>\n",
              "      <th>3</th>\n",
              "      <td>110307</td>\n",
              "      <td>Francisco Cunha</td>\n",
              "      <td>9.0</td>\n",
              "    </tr>\n",
              "    <tr>\n",
              "      <th>6</th>\n",
              "      <td>110301</td>\n",
              "      <td>Joao Galo</td>\n",
              "      <td>5.0</td>\n",
              "    </tr>\n",
              "    <tr>\n",
              "      <th>7</th>\n",
              "      <td>110263</td>\n",
              "      <td>José Valente</td>\n",
              "      <td>10.0</td>\n",
              "    </tr>\n",
              "    <tr>\n",
              "      <th>8</th>\n",
              "      <td>110271</td>\n",
              "      <td>Maria Ferreira</td>\n",
              "      <td>9.5</td>\n",
              "    </tr>\n",
              "    <tr>\n",
              "      <th>9</th>\n",
              "      <td>110236</td>\n",
              "      <td>Adriana Tavares</td>\n",
              "      <td>8.0</td>\n",
              "    </tr>\n",
              "  </tbody>\n",
              "</table>\n",
              "</div>"
            ],
            "text/plain": [
              "       RA             Nome  Prova_1\n",
              "0  110201   Antonio Carlos      6.5\n",
              "1  110212      Ana Beatriz      7.0\n",
              "3  110307  Francisco Cunha      9.0\n",
              "6  110301        Joao Galo      5.0\n",
              "7  110263     José Valente     10.0\n",
              "8  110271   Maria Ferreira      9.5\n",
              "9  110236  Adriana Tavares      8.0"
            ]
          },
          "execution_count": 132,
          "metadata": {},
          "output_type": "execute_result"
        }
      ],
      "source": [
        "df[df[\"Frequencia\"] > 18][['RA', 'Nome', 'Prova_1']]"
      ]
    },
    {
      "cell_type": "markdown",
      "id": "64ad5252",
      "metadata": {
        "id": "64ad5252"
      },
      "source": [
        "Vamos criar um dataframe usando pandas com os dados do arquivo `alunos2.csv`"
      ]
    },
    {
      "cell_type": "code",
      "execution_count": null,
      "id": "cfef2a23",
      "metadata": {
        "id": "cfef2a23",
        "outputId": "7bf96ba2-f2e0-4be2-dff1-59998d5ed9ff"
      },
      "outputs": [
        {
          "data": {
            "text/html": [
              "<div>\n",
              "<style scoped>\n",
              "    .dataframe tbody tr th:only-of-type {\n",
              "        vertical-align: middle;\n",
              "    }\n",
              "\n",
              "    .dataframe tbody tr th {\n",
              "        vertical-align: top;\n",
              "    }\n",
              "\n",
              "    .dataframe thead th {\n",
              "        text-align: right;\n",
              "    }\n",
              "</style>\n",
              "<table border=\"1\" class=\"dataframe\">\n",
              "  <thead>\n",
              "    <tr style=\"text-align: right;\">\n",
              "      <th></th>\n",
              "      <th>RA;Nome;Frequencia;Prova_1;Prova_2;Prova_3;Prova_4</th>\n",
              "    </tr>\n",
              "  </thead>\n",
              "  <tbody>\n",
              "    <tr>\n",
              "      <th>0</th>\n",
              "      <td>110201;Antonio Carlos;20;6.5;8.5;7.0;6</td>\n",
              "    </tr>\n",
              "    <tr>\n",
              "      <th>1</th>\n",
              "      <td>110212;Ana Beatriz;20;7.0;7.0;7.0;8</td>\n",
              "    </tr>\n",
              "    <tr>\n",
              "      <th>2</th>\n",
              "      <td>110218;Carlos Vernes;17;7.0;7.0;7.0;7</td>\n",
              "    </tr>\n",
              "    <tr>\n",
              "      <th>3</th>\n",
              "      <td>110307;Francisco Cunha;20;9.0;8.5;8.5;10</td>\n",
              "    </tr>\n",
              "    <tr>\n",
              "      <th>4</th>\n",
              "      <td>110275;Sandra Rosa;15;6.5;7.5;7.0;7</td>\n",
              "    </tr>\n",
              "    <tr>\n",
              "      <th>5</th>\n",
              "      <td>110281;Juliana Arruda;18;7.5;7.0;7.5;8</td>\n",
              "    </tr>\n",
              "    <tr>\n",
              "      <th>6</th>\n",
              "      <td>110301;Joao Galo;20;5.0;6.5;7.0;5</td>\n",
              "    </tr>\n",
              "    <tr>\n",
              "      <th>7</th>\n",
              "      <td>110263;José Valente;20;10.0;10.0;10.0;10</td>\n",
              "    </tr>\n",
              "    <tr>\n",
              "      <th>8</th>\n",
              "      <td>110271;Maria Ferreira;19;9.5;8.0;7.0;10</td>\n",
              "    </tr>\n",
              "    <tr>\n",
              "      <th>9</th>\n",
              "      <td>110236;Adriana Tavares;20;8.0;8.0;8.0;8</td>\n",
              "    </tr>\n",
              "  </tbody>\n",
              "</table>\n",
              "</div>"
            ],
            "text/plain": [
              "  RA;Nome;Frequencia;Prova_1;Prova_2;Prova_3;Prova_4\n",
              "0             110201;Antonio Carlos;20;6.5;8.5;7.0;6\n",
              "1                110212;Ana Beatriz;20;7.0;7.0;7.0;8\n",
              "2              110218;Carlos Vernes;17;7.0;7.0;7.0;7\n",
              "3           110307;Francisco Cunha;20;9.0;8.5;8.5;10\n",
              "4                110275;Sandra Rosa;15;6.5;7.5;7.0;7\n",
              "5             110281;Juliana Arruda;18;7.5;7.0;7.5;8\n",
              "6                  110301;Joao Galo;20;5.0;6.5;7.0;5\n",
              "7           110263;José Valente;20;10.0;10.0;10.0;10\n",
              "8            110271;Maria Ferreira;19;9.5;8.0;7.0;10\n",
              "9            110236;Adriana Tavares;20;8.0;8.0;8.0;8"
            ]
          },
          "execution_count": 134,
          "metadata": {},
          "output_type": "execute_result"
        }
      ],
      "source": [
        "pd.read_csv(\"../../dados/alunos2.csv\")"
      ]
    },
    {
      "cell_type": "code",
      "execution_count": null,
      "id": "094535ba",
      "metadata": {
        "id": "094535ba"
      },
      "outputs": [],
      "source": [
        "df = pd.read_csv(\"../../dados/alunos2.csv\", sep = ';')"
      ]
    },
    {
      "cell_type": "code",
      "execution_count": null,
      "id": "60fb2870",
      "metadata": {
        "id": "60fb2870",
        "outputId": "ea16c006-170b-465b-c95a-92c37d1637d2"
      },
      "outputs": [
        {
          "data": {
            "text/html": [
              "<div>\n",
              "<style scoped>\n",
              "    .dataframe tbody tr th:only-of-type {\n",
              "        vertical-align: middle;\n",
              "    }\n",
              "\n",
              "    .dataframe tbody tr th {\n",
              "        vertical-align: top;\n",
              "    }\n",
              "\n",
              "    .dataframe thead th {\n",
              "        text-align: right;\n",
              "    }\n",
              "</style>\n",
              "<table border=\"1\" class=\"dataframe\">\n",
              "  <thead>\n",
              "    <tr style=\"text-align: right;\">\n",
              "      <th></th>\n",
              "      <th>RA</th>\n",
              "      <th>Nome</th>\n",
              "      <th>Frequencia</th>\n",
              "      <th>Prova_1</th>\n",
              "      <th>Prova_2</th>\n",
              "      <th>Prova_3</th>\n",
              "      <th>Prova_4</th>\n",
              "    </tr>\n",
              "  </thead>\n",
              "  <tbody>\n",
              "    <tr>\n",
              "      <th>0</th>\n",
              "      <td>110201</td>\n",
              "      <td>Antonio Carlos</td>\n",
              "      <td>20</td>\n",
              "      <td>6.5</td>\n",
              "      <td>8.5</td>\n",
              "      <td>7.0</td>\n",
              "      <td>6</td>\n",
              "    </tr>\n",
              "    <tr>\n",
              "      <th>1</th>\n",
              "      <td>110212</td>\n",
              "      <td>Ana Beatriz</td>\n",
              "      <td>20</td>\n",
              "      <td>7.0</td>\n",
              "      <td>7.0</td>\n",
              "      <td>7.0</td>\n",
              "      <td>8</td>\n",
              "    </tr>\n",
              "    <tr>\n",
              "      <th>2</th>\n",
              "      <td>110218</td>\n",
              "      <td>Carlos Vernes</td>\n",
              "      <td>17</td>\n",
              "      <td>7.0</td>\n",
              "      <td>7.0</td>\n",
              "      <td>7.0</td>\n",
              "      <td>7</td>\n",
              "    </tr>\n",
              "    <tr>\n",
              "      <th>3</th>\n",
              "      <td>110307</td>\n",
              "      <td>Francisco Cunha</td>\n",
              "      <td>20</td>\n",
              "      <td>9.0</td>\n",
              "      <td>8.5</td>\n",
              "      <td>8.5</td>\n",
              "      <td>10</td>\n",
              "    </tr>\n",
              "    <tr>\n",
              "      <th>4</th>\n",
              "      <td>110275</td>\n",
              "      <td>Sandra Rosa</td>\n",
              "      <td>15</td>\n",
              "      <td>6.5</td>\n",
              "      <td>7.5</td>\n",
              "      <td>7.0</td>\n",
              "      <td>7</td>\n",
              "    </tr>\n",
              "    <tr>\n",
              "      <th>5</th>\n",
              "      <td>110281</td>\n",
              "      <td>Juliana Arruda</td>\n",
              "      <td>18</td>\n",
              "      <td>7.5</td>\n",
              "      <td>7.0</td>\n",
              "      <td>7.5</td>\n",
              "      <td>8</td>\n",
              "    </tr>\n",
              "    <tr>\n",
              "      <th>6</th>\n",
              "      <td>110301</td>\n",
              "      <td>Joao Galo</td>\n",
              "      <td>20</td>\n",
              "      <td>5.0</td>\n",
              "      <td>6.5</td>\n",
              "      <td>7.0</td>\n",
              "      <td>5</td>\n",
              "    </tr>\n",
              "    <tr>\n",
              "      <th>7</th>\n",
              "      <td>110263</td>\n",
              "      <td>José Valente</td>\n",
              "      <td>20</td>\n",
              "      <td>10.0</td>\n",
              "      <td>10.0</td>\n",
              "      <td>10.0</td>\n",
              "      <td>10</td>\n",
              "    </tr>\n",
              "    <tr>\n",
              "      <th>8</th>\n",
              "      <td>110271</td>\n",
              "      <td>Maria Ferreira</td>\n",
              "      <td>19</td>\n",
              "      <td>9.5</td>\n",
              "      <td>8.0</td>\n",
              "      <td>7.0</td>\n",
              "      <td>10</td>\n",
              "    </tr>\n",
              "    <tr>\n",
              "      <th>9</th>\n",
              "      <td>110236</td>\n",
              "      <td>Adriana Tavares</td>\n",
              "      <td>20</td>\n",
              "      <td>8.0</td>\n",
              "      <td>8.0</td>\n",
              "      <td>8.0</td>\n",
              "      <td>8</td>\n",
              "    </tr>\n",
              "  </tbody>\n",
              "</table>\n",
              "</div>"
            ],
            "text/plain": [
              "       RA             Nome  Frequencia  Prova_1  Prova_2  Prova_3  Prova_4\n",
              "0  110201   Antonio Carlos          20      6.5      8.5      7.0        6\n",
              "1  110212      Ana Beatriz          20      7.0      7.0      7.0        8\n",
              "2  110218    Carlos Vernes          17      7.0      7.0      7.0        7\n",
              "3  110307  Francisco Cunha          20      9.0      8.5      8.5       10\n",
              "4  110275      Sandra Rosa          15      6.5      7.5      7.0        7\n",
              "5  110281   Juliana Arruda          18      7.5      7.0      7.5        8\n",
              "6  110301        Joao Galo          20      5.0      6.5      7.0        5\n",
              "7  110263     José Valente          20     10.0     10.0     10.0       10\n",
              "8  110271   Maria Ferreira          19      9.5      8.0      7.0       10\n",
              "9  110236  Adriana Tavares          20      8.0      8.0      8.0        8"
            ]
          },
          "execution_count": 137,
          "metadata": {},
          "output_type": "execute_result"
        }
      ],
      "source": [
        "df"
      ]
    },
    {
      "cell_type": "markdown",
      "id": "d07adb3a",
      "metadata": {
        "id": "d07adb3a"
      },
      "source": [
        "Ou seja: é preciso estarmos sempre atentos ao separador dos dados!"
      ]
    },
    {
      "cell_type": "markdown",
      "id": "1afbd918",
      "metadata": {
        "id": "1afbd918"
      },
      "source": [
        "#### XLS ou XLSX\n",
        "\n",
        "https://pandas.pydata.org/pandas-docs/stable/reference/api/pandas.read_excel.html\n"
      ]
    },
    {
      "cell_type": "markdown",
      "id": "33d4b81a",
      "metadata": {
        "id": "33d4b81a"
      },
      "source": [
        "Vamos criar um dataframe usando pandas com os dados do arquivo `sample.xlsx`"
      ]
    },
    {
      "cell_type": "code",
      "execution_count": null,
      "id": "4c47a72b",
      "metadata": {
        "id": "4c47a72b"
      },
      "outputs": [],
      "source": [
        "df = pd.read_excel('../../dados/sample.xlsx')"
      ]
    },
    {
      "cell_type": "code",
      "execution_count": null,
      "id": "86d3351b",
      "metadata": {
        "id": "86d3351b",
        "outputId": "bf50860b-4cb5-43ff-887a-9856fe4bb08e"
      },
      "outputs": [
        {
          "data": {
            "text/html": [
              "<div>\n",
              "<style scoped>\n",
              "    .dataframe tbody tr th:only-of-type {\n",
              "        vertical-align: middle;\n",
              "    }\n",
              "\n",
              "    .dataframe tbody tr th {\n",
              "        vertical-align: top;\n",
              "    }\n",
              "\n",
              "    .dataframe thead th {\n",
              "        text-align: right;\n",
              "    }\n",
              "</style>\n",
              "<table border=\"1\" class=\"dataframe\">\n",
              "  <thead>\n",
              "    <tr style=\"text-align: right;\">\n",
              "      <th></th>\n",
              "      <th>ds</th>\n",
              "      <th>hzdepup</th>\n",
              "      <th>hzdeplow</th>\n",
              "      <th>sand</th>\n",
              "      <th>silt</th>\n",
              "      <th>clay</th>\n",
              "      <th>phh2o</th>\n",
              "      <th>sb</th>\n",
              "      <th>al</th>\n",
              "      <th>h</th>\n",
              "      <th>corg</th>\n",
              "    </tr>\n",
              "  </thead>\n",
              "  <tbody>\n",
              "    <tr>\n",
              "      <th>0</th>\n",
              "      <td>0.90</td>\n",
              "      <td>24</td>\n",
              "      <td>60</td>\n",
              "      <td>110</td>\n",
              "      <td>70</td>\n",
              "      <td>820</td>\n",
              "      <td>54</td>\n",
              "      <td>1</td>\n",
              "      <td>1</td>\n",
              "      <td>49</td>\n",
              "      <td>13.7</td>\n",
              "    </tr>\n",
              "    <tr>\n",
              "      <th>1</th>\n",
              "      <td>0.91</td>\n",
              "      <td>60</td>\n",
              "      <td>135</td>\n",
              "      <td>110</td>\n",
              "      <td>60</td>\n",
              "      <td>830</td>\n",
              "      <td>57</td>\n",
              "      <td>1</td>\n",
              "      <td>0</td>\n",
              "      <td>30</td>\n",
              "      <td>9.0</td>\n",
              "    </tr>\n",
              "    <tr>\n",
              "      <th>2</th>\n",
              "      <td>0.89</td>\n",
              "      <td>135</td>\n",
              "      <td>165</td>\n",
              "      <td>100</td>\n",
              "      <td>120</td>\n",
              "      <td>780</td>\n",
              "      <td>57</td>\n",
              "      <td>1</td>\n",
              "      <td>0</td>\n",
              "      <td>18</td>\n",
              "      <td>7.3</td>\n",
              "    </tr>\n",
              "    <tr>\n",
              "      <th>3</th>\n",
              "      <td>0.83</td>\n",
              "      <td>165</td>\n",
              "      <td>192</td>\n",
              "      <td>110</td>\n",
              "      <td>80</td>\n",
              "      <td>810</td>\n",
              "      <td>59</td>\n",
              "      <td>1</td>\n",
              "      <td>0</td>\n",
              "      <td>13</td>\n",
              "      <td>6.0</td>\n",
              "    </tr>\n",
              "    <tr>\n",
              "      <th>4</th>\n",
              "      <td>1.53</td>\n",
              "      <td>15</td>\n",
              "      <td>40</td>\n",
              "      <td>840</td>\n",
              "      <td>10</td>\n",
              "      <td>150</td>\n",
              "      <td>46</td>\n",
              "      <td>1</td>\n",
              "      <td>2</td>\n",
              "      <td>18</td>\n",
              "      <td>3.5</td>\n",
              "    </tr>\n",
              "    <tr>\n",
              "      <th>...</th>\n",
              "      <td>...</td>\n",
              "      <td>...</td>\n",
              "      <td>...</td>\n",
              "      <td>...</td>\n",
              "      <td>...</td>\n",
              "      <td>...</td>\n",
              "      <td>...</td>\n",
              "      <td>...</td>\n",
              "      <td>...</td>\n",
              "      <td>...</td>\n",
              "      <td>...</td>\n",
              "    </tr>\n",
              "    <tr>\n",
              "      <th>129</th>\n",
              "      <td>0.72</td>\n",
              "      <td>94</td>\n",
              "      <td>137</td>\n",
              "      <td>20</td>\n",
              "      <td>130</td>\n",
              "      <td>850</td>\n",
              "      <td>49</td>\n",
              "      <td>6</td>\n",
              "      <td>31</td>\n",
              "      <td>68</td>\n",
              "      <td>15.1</td>\n",
              "    </tr>\n",
              "    <tr>\n",
              "      <th>130</th>\n",
              "      <td>0.78</td>\n",
              "      <td>137</td>\n",
              "      <td>190</td>\n",
              "      <td>20</td>\n",
              "      <td>130</td>\n",
              "      <td>860</td>\n",
              "      <td>50</td>\n",
              "      <td>5</td>\n",
              "      <td>17</td>\n",
              "      <td>51</td>\n",
              "      <td>8.1</td>\n",
              "    </tr>\n",
              "    <tr>\n",
              "      <th>131</th>\n",
              "      <td>0.73</td>\n",
              "      <td>0</td>\n",
              "      <td>15</td>\n",
              "      <td>30</td>\n",
              "      <td>150</td>\n",
              "      <td>820</td>\n",
              "      <td>47</td>\n",
              "      <td>37</td>\n",
              "      <td>27</td>\n",
              "      <td>80</td>\n",
              "      <td>27.9</td>\n",
              "    </tr>\n",
              "    <tr>\n",
              "      <th>132</th>\n",
              "      <td>0.95</td>\n",
              "      <td>0</td>\n",
              "      <td>20</td>\n",
              "      <td>80</td>\n",
              "      <td>110</td>\n",
              "      <td>810</td>\n",
              "      <td>48</td>\n",
              "      <td>3</td>\n",
              "      <td>19</td>\n",
              "      <td>89</td>\n",
              "      <td>22.3</td>\n",
              "    </tr>\n",
              "    <tr>\n",
              "      <th>133</th>\n",
              "      <td>0.84</td>\n",
              "      <td>20</td>\n",
              "      <td>40</td>\n",
              "      <td>70</td>\n",
              "      <td>90</td>\n",
              "      <td>840</td>\n",
              "      <td>48</td>\n",
              "      <td>2</td>\n",
              "      <td>14</td>\n",
              "      <td>71</td>\n",
              "      <td>16.1</td>\n",
              "    </tr>\n",
              "  </tbody>\n",
              "</table>\n",
              "<p>134 rows × 11 columns</p>\n",
              "</div>"
            ],
            "text/plain": [
              "       ds  hzdepup  hzdeplow  sand  silt  clay  phh2o  sb  al   h  corg\n",
              "0    0.90       24        60   110    70   820     54   1   1  49  13.7\n",
              "1    0.91       60       135   110    60   830     57   1   0  30   9.0\n",
              "2    0.89      135       165   100   120   780     57   1   0  18   7.3\n",
              "3    0.83      165       192   110    80   810     59   1   0  13   6.0\n",
              "4    1.53       15        40   840    10   150     46   1   2  18   3.5\n",
              "..    ...      ...       ...   ...   ...   ...    ...  ..  ..  ..   ...\n",
              "129  0.72       94       137    20   130   850     49   6  31  68  15.1\n",
              "130  0.78      137       190    20   130   860     50   5  17  51   8.1\n",
              "131  0.73        0        15    30   150   820     47  37  27  80  27.9\n",
              "132  0.95        0        20    80   110   810     48   3  19  89  22.3\n",
              "133  0.84       20        40    70    90   840     48   2  14  71  16.1\n",
              "\n",
              "[134 rows x 11 columns]"
            ]
          },
          "execution_count": 139,
          "metadata": {},
          "output_type": "execute_result"
        }
      ],
      "source": [
        "df"
      ]
    },
    {
      "cell_type": "markdown",
      "id": "3b4ceabe",
      "metadata": {
        "id": "3b4ceabe"
      },
      "source": [
        "##### Leitura com seleção de planilha"
      ]
    },
    {
      "cell_type": "markdown",
      "id": "cfb5503a",
      "metadata": {
        "id": "cfb5503a"
      },
      "source": [
        "Vamos criar um dataframe usando pandas com os dados da planilha `p2` da pasta de trabalho `sample.xlsx` "
      ]
    },
    {
      "cell_type": "code",
      "execution_count": null,
      "id": "b0fe2197",
      "metadata": {
        "id": "b0fe2197"
      },
      "outputs": [],
      "source": [
        "df = pd.read_excel('../../dados/sample.xlsx', 'p2')"
      ]
    },
    {
      "cell_type": "code",
      "execution_count": null,
      "id": "5c936e7d",
      "metadata": {
        "id": "5c936e7d",
        "outputId": "b30c045a-af48-4108-c3d9-41c056d3dd1a"
      },
      "outputs": [
        {
          "data": {
            "text/html": [
              "<div>\n",
              "<style scoped>\n",
              "    .dataframe tbody tr th:only-of-type {\n",
              "        vertical-align: middle;\n",
              "    }\n",
              "\n",
              "    .dataframe tbody tr th {\n",
              "        vertical-align: top;\n",
              "    }\n",
              "\n",
              "    .dataframe thead th {\n",
              "        text-align: right;\n",
              "    }\n",
              "</style>\n",
              "<table border=\"1\" class=\"dataframe\">\n",
              "  <thead>\n",
              "    <tr style=\"text-align: right;\">\n",
              "      <th></th>\n",
              "      <th>ds2</th>\n",
              "      <th>hzdepup</th>\n",
              "      <th>hzdeplow</th>\n",
              "      <th>sand</th>\n",
              "      <th>silt</th>\n",
              "      <th>clay</th>\n",
              "      <th>phh2o</th>\n",
              "      <th>sb</th>\n",
              "      <th>al</th>\n",
              "      <th>h</th>\n",
              "      <th>corg</th>\n",
              "    </tr>\n",
              "  </thead>\n",
              "  <tbody>\n",
              "    <tr>\n",
              "      <th>0</th>\n",
              "      <td>0.90</td>\n",
              "      <td>24</td>\n",
              "      <td>60</td>\n",
              "      <td>110</td>\n",
              "      <td>70</td>\n",
              "      <td>820</td>\n",
              "      <td>54</td>\n",
              "      <td>1</td>\n",
              "      <td>1</td>\n",
              "      <td>49</td>\n",
              "      <td>13.7</td>\n",
              "    </tr>\n",
              "    <tr>\n",
              "      <th>1</th>\n",
              "      <td>0.91</td>\n",
              "      <td>60</td>\n",
              "      <td>135</td>\n",
              "      <td>110</td>\n",
              "      <td>60</td>\n",
              "      <td>830</td>\n",
              "      <td>57</td>\n",
              "      <td>1</td>\n",
              "      <td>0</td>\n",
              "      <td>30</td>\n",
              "      <td>9.0</td>\n",
              "    </tr>\n",
              "    <tr>\n",
              "      <th>2</th>\n",
              "      <td>0.89</td>\n",
              "      <td>135</td>\n",
              "      <td>165</td>\n",
              "      <td>100</td>\n",
              "      <td>120</td>\n",
              "      <td>780</td>\n",
              "      <td>57</td>\n",
              "      <td>1</td>\n",
              "      <td>0</td>\n",
              "      <td>18</td>\n",
              "      <td>7.3</td>\n",
              "    </tr>\n",
              "    <tr>\n",
              "      <th>3</th>\n",
              "      <td>0.83</td>\n",
              "      <td>165</td>\n",
              "      <td>192</td>\n",
              "      <td>110</td>\n",
              "      <td>80</td>\n",
              "      <td>810</td>\n",
              "      <td>59</td>\n",
              "      <td>1</td>\n",
              "      <td>0</td>\n",
              "      <td>13</td>\n",
              "      <td>6.0</td>\n",
              "    </tr>\n",
              "    <tr>\n",
              "      <th>4</th>\n",
              "      <td>1.53</td>\n",
              "      <td>15</td>\n",
              "      <td>40</td>\n",
              "      <td>840</td>\n",
              "      <td>10</td>\n",
              "      <td>150</td>\n",
              "      <td>46</td>\n",
              "      <td>1</td>\n",
              "      <td>2</td>\n",
              "      <td>18</td>\n",
              "      <td>3.5</td>\n",
              "    </tr>\n",
              "    <tr>\n",
              "      <th>5</th>\n",
              "      <td>1.44</td>\n",
              "      <td>40</td>\n",
              "      <td>65</td>\n",
              "      <td>820</td>\n",
              "      <td>20</td>\n",
              "      <td>160</td>\n",
              "      <td>46</td>\n",
              "      <td>1</td>\n",
              "      <td>2</td>\n",
              "      <td>12</td>\n",
              "      <td>2.5</td>\n",
              "    </tr>\n",
              "  </tbody>\n",
              "</table>\n",
              "</div>"
            ],
            "text/plain": [
              "    ds2  hzdepup  hzdeplow  sand  silt  clay  phh2o  sb  al   h  corg\n",
              "0  0.90       24        60   110    70   820     54   1   1  49  13.7\n",
              "1  0.91       60       135   110    60   830     57   1   0  30   9.0\n",
              "2  0.89      135       165   100   120   780     57   1   0  18   7.3\n",
              "3  0.83      165       192   110    80   810     59   1   0  13   6.0\n",
              "4  1.53       15        40   840    10   150     46   1   2  18   3.5\n",
              "5  1.44       40        65   820    20   160     46   1   2  12   2.5"
            ]
          },
          "execution_count": 141,
          "metadata": {},
          "output_type": "execute_result"
        }
      ],
      "source": [
        "df"
      ]
    },
    {
      "cell_type": "code",
      "execution_count": null,
      "id": "3d330868",
      "metadata": {
        "id": "3d330868"
      },
      "outputs": [],
      "source": [
        "df = pd.read_excel('../../dados/sample.xlsx', 'p3')"
      ]
    },
    {
      "cell_type": "code",
      "execution_count": null,
      "id": "6c72060a",
      "metadata": {
        "id": "6c72060a",
        "outputId": "9ce477cc-466a-4f2b-9fb9-a97bd23a4407"
      },
      "outputs": [
        {
          "data": {
            "text/html": [
              "<div>\n",
              "<style scoped>\n",
              "    .dataframe tbody tr th:only-of-type {\n",
              "        vertical-align: middle;\n",
              "    }\n",
              "\n",
              "    .dataframe tbody tr th {\n",
              "        vertical-align: top;\n",
              "    }\n",
              "\n",
              "    .dataframe thead th {\n",
              "        text-align: right;\n",
              "    }\n",
              "</style>\n",
              "<table border=\"1\" class=\"dataframe\">\n",
              "  <thead>\n",
              "    <tr style=\"text-align: right;\">\n",
              "      <th></th>\n",
              "      <th>Cabeçalho inútil</th>\n",
              "      <th>Unnamed: 1</th>\n",
              "      <th>Unnamed: 2</th>\n",
              "      <th>Unnamed: 3</th>\n",
              "      <th>Unnamed: 4</th>\n",
              "      <th>Unnamed: 5</th>\n",
              "      <th>Unnamed: 6</th>\n",
              "      <th>Unnamed: 7</th>\n",
              "      <th>Unnamed: 8</th>\n",
              "      <th>Unnamed: 9</th>\n",
              "      <th>Unnamed: 10</th>\n",
              "    </tr>\n",
              "  </thead>\n",
              "  <tbody>\n",
              "    <tr>\n",
              "      <th>0</th>\n",
              "      <td>ds2</td>\n",
              "      <td>hzdepup</td>\n",
              "      <td>hzdeplow</td>\n",
              "      <td>sand</td>\n",
              "      <td>silt</td>\n",
              "      <td>clay</td>\n",
              "      <td>phh2o</td>\n",
              "      <td>sb</td>\n",
              "      <td>al</td>\n",
              "      <td>h</td>\n",
              "      <td>corg</td>\n",
              "    </tr>\n",
              "    <tr>\n",
              "      <th>1</th>\n",
              "      <td>0.9</td>\n",
              "      <td>24</td>\n",
              "      <td>60</td>\n",
              "      <td>110</td>\n",
              "      <td>70</td>\n",
              "      <td>820</td>\n",
              "      <td>54</td>\n",
              "      <td>1</td>\n",
              "      <td>1</td>\n",
              "      <td>49</td>\n",
              "      <td>13.7</td>\n",
              "    </tr>\n",
              "    <tr>\n",
              "      <th>2</th>\n",
              "      <td>0.91</td>\n",
              "      <td>60</td>\n",
              "      <td>135</td>\n",
              "      <td>110</td>\n",
              "      <td>60</td>\n",
              "      <td>830</td>\n",
              "      <td>57</td>\n",
              "      <td>1</td>\n",
              "      <td>0</td>\n",
              "      <td>30</td>\n",
              "      <td>9</td>\n",
              "    </tr>\n",
              "    <tr>\n",
              "      <th>3</th>\n",
              "      <td>0.89</td>\n",
              "      <td>135</td>\n",
              "      <td>165</td>\n",
              "      <td>100</td>\n",
              "      <td>120</td>\n",
              "      <td>780</td>\n",
              "      <td>57</td>\n",
              "      <td>1</td>\n",
              "      <td>0</td>\n",
              "      <td>18</td>\n",
              "      <td>7.3</td>\n",
              "    </tr>\n",
              "    <tr>\n",
              "      <th>4</th>\n",
              "      <td>0.83</td>\n",
              "      <td>165</td>\n",
              "      <td>192</td>\n",
              "      <td>110</td>\n",
              "      <td>80</td>\n",
              "      <td>810</td>\n",
              "      <td>59</td>\n",
              "      <td>1</td>\n",
              "      <td>0</td>\n",
              "      <td>13</td>\n",
              "      <td>6</td>\n",
              "    </tr>\n",
              "    <tr>\n",
              "      <th>5</th>\n",
              "      <td>1.53</td>\n",
              "      <td>15</td>\n",
              "      <td>40</td>\n",
              "      <td>840</td>\n",
              "      <td>10</td>\n",
              "      <td>150</td>\n",
              "      <td>46</td>\n",
              "      <td>1</td>\n",
              "      <td>2</td>\n",
              "      <td>18</td>\n",
              "      <td>3.5</td>\n",
              "    </tr>\n",
              "    <tr>\n",
              "      <th>6</th>\n",
              "      <td>1.44</td>\n",
              "      <td>40</td>\n",
              "      <td>65</td>\n",
              "      <td>820</td>\n",
              "      <td>20</td>\n",
              "      <td>160</td>\n",
              "      <td>46</td>\n",
              "      <td>1</td>\n",
              "      <td>2</td>\n",
              "      <td>12</td>\n",
              "      <td>2.5</td>\n",
              "    </tr>\n",
              "  </tbody>\n",
              "</table>\n",
              "</div>"
            ],
            "text/plain": [
              "  Cabeçalho inútil Unnamed: 1 Unnamed: 2 Unnamed: 3 Unnamed: 4 Unnamed: 5  \\\n",
              "0              ds2    hzdepup   hzdeplow       sand       silt       clay   \n",
              "1              0.9         24         60        110         70        820   \n",
              "2             0.91         60        135        110         60        830   \n",
              "3             0.89        135        165        100        120        780   \n",
              "4             0.83        165        192        110         80        810   \n",
              "5             1.53         15         40        840         10        150   \n",
              "6             1.44         40         65        820         20        160   \n",
              "\n",
              "  Unnamed: 6 Unnamed: 7 Unnamed: 8 Unnamed: 9 Unnamed: 10  \n",
              "0      phh2o         sb         al          h        corg  \n",
              "1         54          1          1         49        13.7  \n",
              "2         57          1          0         30           9  \n",
              "3         57          1          0         18         7.3  \n",
              "4         59          1          0         13           6  \n",
              "5         46          1          2         18         3.5  \n",
              "6         46          1          2         12         2.5  "
            ]
          },
          "execution_count": 143,
          "metadata": {},
          "output_type": "execute_result"
        }
      ],
      "source": [
        "df"
      ]
    },
    {
      "cell_type": "markdown",
      "id": "d568c3d0",
      "metadata": {
        "id": "d568c3d0"
      },
      "source": [
        "##### Leitura com seleção de cabeçalho"
      ]
    },
    {
      "cell_type": "markdown",
      "id": "a576c0e0",
      "metadata": {
        "id": "a576c0e0"
      },
      "source": [
        "Vamos criar um dataframe usando pandas com os dados da planilha `p3` da pasta de trabalho `sample.xlsx`. Porém vamos eliminar a primeira linha de cabeçalho"
      ]
    },
    {
      "cell_type": "code",
      "execution_count": null,
      "id": "ae08fcbf",
      "metadata": {
        "id": "ae08fcbf"
      },
      "outputs": [],
      "source": [
        "df = pd.read_excel(io = '../../dados/sample.xlsx',\n",
        "                   sheet_name='p3',\n",
        "                   header = 1)"
      ]
    },
    {
      "cell_type": "code",
      "execution_count": null,
      "id": "db4423b4",
      "metadata": {
        "id": "db4423b4",
        "outputId": "b0f357bd-13b0-45f8-f13f-a65d403bd9c5"
      },
      "outputs": [
        {
          "data": {
            "text/html": [
              "<div>\n",
              "<style scoped>\n",
              "    .dataframe tbody tr th:only-of-type {\n",
              "        vertical-align: middle;\n",
              "    }\n",
              "\n",
              "    .dataframe tbody tr th {\n",
              "        vertical-align: top;\n",
              "    }\n",
              "\n",
              "    .dataframe thead th {\n",
              "        text-align: right;\n",
              "    }\n",
              "</style>\n",
              "<table border=\"1\" class=\"dataframe\">\n",
              "  <thead>\n",
              "    <tr style=\"text-align: right;\">\n",
              "      <th></th>\n",
              "      <th>ds2</th>\n",
              "      <th>hzdepup</th>\n",
              "      <th>hzdeplow</th>\n",
              "      <th>sand</th>\n",
              "      <th>silt</th>\n",
              "      <th>clay</th>\n",
              "      <th>phh2o</th>\n",
              "      <th>sb</th>\n",
              "      <th>al</th>\n",
              "      <th>h</th>\n",
              "      <th>corg</th>\n",
              "    </tr>\n",
              "  </thead>\n",
              "  <tbody>\n",
              "    <tr>\n",
              "      <th>0</th>\n",
              "      <td>0.90</td>\n",
              "      <td>24</td>\n",
              "      <td>60</td>\n",
              "      <td>110</td>\n",
              "      <td>70</td>\n",
              "      <td>820</td>\n",
              "      <td>54</td>\n",
              "      <td>1</td>\n",
              "      <td>1</td>\n",
              "      <td>49</td>\n",
              "      <td>13.7</td>\n",
              "    </tr>\n",
              "    <tr>\n",
              "      <th>1</th>\n",
              "      <td>0.91</td>\n",
              "      <td>60</td>\n",
              "      <td>135</td>\n",
              "      <td>110</td>\n",
              "      <td>60</td>\n",
              "      <td>830</td>\n",
              "      <td>57</td>\n",
              "      <td>1</td>\n",
              "      <td>0</td>\n",
              "      <td>30</td>\n",
              "      <td>9.0</td>\n",
              "    </tr>\n",
              "    <tr>\n",
              "      <th>2</th>\n",
              "      <td>0.89</td>\n",
              "      <td>135</td>\n",
              "      <td>165</td>\n",
              "      <td>100</td>\n",
              "      <td>120</td>\n",
              "      <td>780</td>\n",
              "      <td>57</td>\n",
              "      <td>1</td>\n",
              "      <td>0</td>\n",
              "      <td>18</td>\n",
              "      <td>7.3</td>\n",
              "    </tr>\n",
              "    <tr>\n",
              "      <th>3</th>\n",
              "      <td>0.83</td>\n",
              "      <td>165</td>\n",
              "      <td>192</td>\n",
              "      <td>110</td>\n",
              "      <td>80</td>\n",
              "      <td>810</td>\n",
              "      <td>59</td>\n",
              "      <td>1</td>\n",
              "      <td>0</td>\n",
              "      <td>13</td>\n",
              "      <td>6.0</td>\n",
              "    </tr>\n",
              "    <tr>\n",
              "      <th>4</th>\n",
              "      <td>1.53</td>\n",
              "      <td>15</td>\n",
              "      <td>40</td>\n",
              "      <td>840</td>\n",
              "      <td>10</td>\n",
              "      <td>150</td>\n",
              "      <td>46</td>\n",
              "      <td>1</td>\n",
              "      <td>2</td>\n",
              "      <td>18</td>\n",
              "      <td>3.5</td>\n",
              "    </tr>\n",
              "    <tr>\n",
              "      <th>5</th>\n",
              "      <td>1.44</td>\n",
              "      <td>40</td>\n",
              "      <td>65</td>\n",
              "      <td>820</td>\n",
              "      <td>20</td>\n",
              "      <td>160</td>\n",
              "      <td>46</td>\n",
              "      <td>1</td>\n",
              "      <td>2</td>\n",
              "      <td>12</td>\n",
              "      <td>2.5</td>\n",
              "    </tr>\n",
              "  </tbody>\n",
              "</table>\n",
              "</div>"
            ],
            "text/plain": [
              "    ds2  hzdepup  hzdeplow  sand  silt  clay  phh2o  sb  al   h  corg\n",
              "0  0.90       24        60   110    70   820     54   1   1  49  13.7\n",
              "1  0.91       60       135   110    60   830     57   1   0  30   9.0\n",
              "2  0.89      135       165   100   120   780     57   1   0  18   7.3\n",
              "3  0.83      165       192   110    80   810     59   1   0  13   6.0\n",
              "4  1.53       15        40   840    10   150     46   1   2  18   3.5\n",
              "5  1.44       40        65   820    20   160     46   1   2  12   2.5"
            ]
          },
          "execution_count": 146,
          "metadata": {},
          "output_type": "execute_result"
        }
      ],
      "source": [
        "df"
      ]
    },
    {
      "cell_type": "markdown",
      "id": "0e2ab002",
      "metadata": {
        "id": "0e2ab002"
      },
      "source": [
        "##### Leitura com definção de nomes de colunas"
      ]
    },
    {
      "cell_type": "markdown",
      "id": "8ff4400d",
      "metadata": {
        "id": "8ff4400d"
      },
      "source": [
        "Vamos criar um dataframe usando pandas com os dados da planilha `p3` da pasta de trabalho `sample.xlsx`. Porém vamos eliminar a primeira linha de cabeçalho e definir os nomes das colunas."
      ]
    },
    {
      "cell_type": "code",
      "execution_count": null,
      "id": "dc412e71",
      "metadata": {
        "id": "dc412e71"
      },
      "outputs": [],
      "source": [
        "df = pd.read_excel(io = '../../dados/sample.xlsx',\n",
        "                   sheet_name='p3',\n",
        "                   header = 1,\n",
        "                  names = ['densidade', 'hzdepup', 'hzdeplow', 'area', 'slite',\n",
        "                          'argila', 'phh20', 'antimonio', 'aluminio', 'hidrogenio',\n",
        "                          'corg'])"
      ]
    },
    {
      "cell_type": "code",
      "execution_count": null,
      "id": "3d4646b2",
      "metadata": {
        "id": "3d4646b2",
        "outputId": "f6bdcee1-97cb-4570-b3bb-7bdf486d5eca"
      },
      "outputs": [
        {
          "data": {
            "text/html": [
              "<div>\n",
              "<style scoped>\n",
              "    .dataframe tbody tr th:only-of-type {\n",
              "        vertical-align: middle;\n",
              "    }\n",
              "\n",
              "    .dataframe tbody tr th {\n",
              "        vertical-align: top;\n",
              "    }\n",
              "\n",
              "    .dataframe thead th {\n",
              "        text-align: right;\n",
              "    }\n",
              "</style>\n",
              "<table border=\"1\" class=\"dataframe\">\n",
              "  <thead>\n",
              "    <tr style=\"text-align: right;\">\n",
              "      <th></th>\n",
              "      <th>densidade</th>\n",
              "      <th>hzdepup</th>\n",
              "      <th>hzdeplow</th>\n",
              "      <th>area</th>\n",
              "      <th>slite</th>\n",
              "      <th>argila</th>\n",
              "      <th>phh20</th>\n",
              "      <th>antimonio</th>\n",
              "      <th>aluminio</th>\n",
              "      <th>hidrogenio</th>\n",
              "      <th>corg</th>\n",
              "    </tr>\n",
              "  </thead>\n",
              "  <tbody>\n",
              "    <tr>\n",
              "      <th>0</th>\n",
              "      <td>0.90</td>\n",
              "      <td>24</td>\n",
              "      <td>60</td>\n",
              "      <td>110</td>\n",
              "      <td>70</td>\n",
              "      <td>820</td>\n",
              "      <td>54</td>\n",
              "      <td>1</td>\n",
              "      <td>1</td>\n",
              "      <td>49</td>\n",
              "      <td>13.7</td>\n",
              "    </tr>\n",
              "    <tr>\n",
              "      <th>1</th>\n",
              "      <td>0.91</td>\n",
              "      <td>60</td>\n",
              "      <td>135</td>\n",
              "      <td>110</td>\n",
              "      <td>60</td>\n",
              "      <td>830</td>\n",
              "      <td>57</td>\n",
              "      <td>1</td>\n",
              "      <td>0</td>\n",
              "      <td>30</td>\n",
              "      <td>9.0</td>\n",
              "    </tr>\n",
              "    <tr>\n",
              "      <th>2</th>\n",
              "      <td>0.89</td>\n",
              "      <td>135</td>\n",
              "      <td>165</td>\n",
              "      <td>100</td>\n",
              "      <td>120</td>\n",
              "      <td>780</td>\n",
              "      <td>57</td>\n",
              "      <td>1</td>\n",
              "      <td>0</td>\n",
              "      <td>18</td>\n",
              "      <td>7.3</td>\n",
              "    </tr>\n",
              "    <tr>\n",
              "      <th>3</th>\n",
              "      <td>0.83</td>\n",
              "      <td>165</td>\n",
              "      <td>192</td>\n",
              "      <td>110</td>\n",
              "      <td>80</td>\n",
              "      <td>810</td>\n",
              "      <td>59</td>\n",
              "      <td>1</td>\n",
              "      <td>0</td>\n",
              "      <td>13</td>\n",
              "      <td>6.0</td>\n",
              "    </tr>\n",
              "    <tr>\n",
              "      <th>4</th>\n",
              "      <td>1.53</td>\n",
              "      <td>15</td>\n",
              "      <td>40</td>\n",
              "      <td>840</td>\n",
              "      <td>10</td>\n",
              "      <td>150</td>\n",
              "      <td>46</td>\n",
              "      <td>1</td>\n",
              "      <td>2</td>\n",
              "      <td>18</td>\n",
              "      <td>3.5</td>\n",
              "    </tr>\n",
              "    <tr>\n",
              "      <th>5</th>\n",
              "      <td>1.44</td>\n",
              "      <td>40</td>\n",
              "      <td>65</td>\n",
              "      <td>820</td>\n",
              "      <td>20</td>\n",
              "      <td>160</td>\n",
              "      <td>46</td>\n",
              "      <td>1</td>\n",
              "      <td>2</td>\n",
              "      <td>12</td>\n",
              "      <td>2.5</td>\n",
              "    </tr>\n",
              "  </tbody>\n",
              "</table>\n",
              "</div>"
            ],
            "text/plain": [
              "   densidade  hzdepup  hzdeplow  area  slite  argila  phh20  antimonio  \\\n",
              "0       0.90       24        60   110     70     820     54          1   \n",
              "1       0.91       60       135   110     60     830     57          1   \n",
              "2       0.89      135       165   100    120     780     57          1   \n",
              "3       0.83      165       192   110     80     810     59          1   \n",
              "4       1.53       15        40   840     10     150     46          1   \n",
              "5       1.44       40        65   820     20     160     46          1   \n",
              "\n",
              "   aluminio  hidrogenio  corg  \n",
              "0         1          49  13.7  \n",
              "1         0          30   9.0  \n",
              "2         0          18   7.3  \n",
              "3         0          13   6.0  \n",
              "4         2          18   3.5  \n",
              "5         2          12   2.5  "
            ]
          },
          "execution_count": 148,
          "metadata": {},
          "output_type": "execute_result"
        }
      ],
      "source": [
        "df"
      ]
    },
    {
      "cell_type": "markdown",
      "id": "37aef2ff",
      "metadata": {
        "id": "37aef2ff"
      },
      "source": [
        "##### Leitura da internet"
      ]
    },
    {
      "cell_type": "markdown",
      "id": "7d747688",
      "metadata": {
        "id": "7d747688"
      },
      "source": [
        "Vamos criar um dataframe usando pandas com os dados de uma planilha disponivel na página de dados abertos do INPI.\n",
        "\n",
        "https://www.gov.br/inpi/pt-br/acesso-a-informacao/dados-abertos/conjuntos-corporativos-de-dados-abertos/pedidos-de-patentes-pendentes-de-decisao-final/pedidos-de-patentes-pendentes-de-decisao-final-cgrec.xlsx"
      ]
    },
    {
      "cell_type": "code",
      "execution_count": null,
      "id": "e28af931",
      "metadata": {
        "id": "e28af931"
      },
      "outputs": [],
      "source": [
        "df = pd.read_excel(\n",
        "        io='https://www.gov.br/inpi/pt-br/acesso-a-informacao/dados-abertos/conjuntos-corporativos-de-dados-abertos/pedidos-de-patentes-pendentes-de-decisao-final/pedidos-de-patentes-pendentes-de-decisao-final-cgrec.xlsx'\n",
        ")"
      ]
    },
    {
      "cell_type": "code",
      "execution_count": null,
      "id": "b22c696c",
      "metadata": {
        "id": "b22c696c",
        "outputId": "6df478ff-6325-4bda-ac1e-edc8a1cbf581"
      },
      "outputs": [
        {
          "data": {
            "text/html": [
              "<div>\n",
              "<style scoped>\n",
              "    .dataframe tbody tr th:only-of-type {\n",
              "        vertical-align: middle;\n",
              "    }\n",
              "\n",
              "    .dataframe tbody tr th {\n",
              "        vertical-align: top;\n",
              "    }\n",
              "\n",
              "    .dataframe thead th {\n",
              "        text-align: right;\n",
              "    }\n",
              "</style>\n",
              "<table border=\"1\" class=\"dataframe\">\n",
              "  <thead>\n",
              "    <tr style=\"text-align: right;\">\n",
              "      <th></th>\n",
              "      <th>Nº DO PEDIDO</th>\n",
              "      <th>DIVISÃO TÉCNICA DE ORIGEM</th>\n",
              "      <th>DATA DO DEPÓSITO</th>\n",
              "      <th>DESPACHO DE ENTRADA NA 2ª INSTÂNCIA</th>\n",
              "      <th>DATA DO DESPACHO</th>\n",
              "      <th>ATUALIZAÇÃO</th>\n",
              "    </tr>\n",
              "  </thead>\n",
              "  <tbody>\n",
              "    <tr>\n",
              "      <th>0</th>\n",
              "      <td>PI0200936</td>\n",
              "      <td>DITEM</td>\n",
              "      <td>2002-03-07</td>\n",
              "      <td>17.1</td>\n",
              "      <td>2011-08-23</td>\n",
              "      <td>2022-07-20</td>\n",
              "    </tr>\n",
              "    <tr>\n",
              "      <th>1</th>\n",
              "      <td>PI9816506</td>\n",
              "      <td>DIMEC</td>\n",
              "      <td>1998-02-20</td>\n",
              "      <td>17.1</td>\n",
              "      <td>2016-03-15</td>\n",
              "      <td>NaT</td>\n",
              "    </tr>\n",
              "    <tr>\n",
              "      <th>2</th>\n",
              "      <td>MU8800678</td>\n",
              "      <td>DIMUT</td>\n",
              "      <td>2008-03-26</td>\n",
              "      <td>17.1</td>\n",
              "      <td>2017-11-21</td>\n",
              "      <td>NaT</td>\n",
              "    </tr>\n",
              "    <tr>\n",
              "      <th>3</th>\n",
              "      <td>PI0610654</td>\n",
              "      <td>DIALP</td>\n",
              "      <td>2006-05-26</td>\n",
              "      <td>17.1</td>\n",
              "      <td>2017-11-21</td>\n",
              "      <td>NaT</td>\n",
              "    </tr>\n",
              "    <tr>\n",
              "      <th>4</th>\n",
              "      <td>MU8900777</td>\n",
              "      <td>DIMUT</td>\n",
              "      <td>2009-05-28</td>\n",
              "      <td>17.1</td>\n",
              "      <td>2017-11-28</td>\n",
              "      <td>NaT</td>\n",
              "    </tr>\n",
              "    <tr>\n",
              "      <th>...</th>\n",
              "      <td>...</td>\n",
              "      <td>...</td>\n",
              "      <td>...</td>\n",
              "      <td>...</td>\n",
              "      <td>...</td>\n",
              "      <td>...</td>\n",
              "    </tr>\n",
              "    <tr>\n",
              "      <th>6843</th>\n",
              "      <td>BR102015011767</td>\n",
              "      <td>DITEX</td>\n",
              "      <td>2015-05-21</td>\n",
              "      <td>2022-02-12 00:00:00</td>\n",
              "      <td>2022-06-28</td>\n",
              "      <td>NaT</td>\n",
              "    </tr>\n",
              "    <tr>\n",
              "      <th>6844</th>\n",
              "      <td>BR112016009929</td>\n",
              "      <td>DITEX</td>\n",
              "      <td>2014-11-10</td>\n",
              "      <td>2022-02-12 00:00:00</td>\n",
              "      <td>2022-07-05</td>\n",
              "      <td>NaT</td>\n",
              "    </tr>\n",
              "    <tr>\n",
              "      <th>6845</th>\n",
              "      <td>BR112016012529</td>\n",
              "      <td>DITEX</td>\n",
              "      <td>2014-12-09</td>\n",
              "      <td>2022-02-12 00:00:00</td>\n",
              "      <td>2022-07-12</td>\n",
              "      <td>NaT</td>\n",
              "    </tr>\n",
              "    <tr>\n",
              "      <th>6846</th>\n",
              "      <td>BR112015026098</td>\n",
              "      <td>DITEX</td>\n",
              "      <td>2014-04-11</td>\n",
              "      <td>2022-02-12 00:00:00</td>\n",
              "      <td>2022-07-12</td>\n",
              "      <td>NaT</td>\n",
              "    </tr>\n",
              "    <tr>\n",
              "      <th>6847</th>\n",
              "      <td>BR112015031668</td>\n",
              "      <td>DITEX</td>\n",
              "      <td>2014-06-20</td>\n",
              "      <td>2022-02-12 00:00:00</td>\n",
              "      <td>2022-07-12</td>\n",
              "      <td>NaT</td>\n",
              "    </tr>\n",
              "  </tbody>\n",
              "</table>\n",
              "<p>6848 rows × 6 columns</p>\n",
              "</div>"
            ],
            "text/plain": [
              "        Nº DO PEDIDO DIVISÃO TÉCNICA DE ORIGEM DATA DO DEPÓSITO  \\\n",
              "0          PI0200936                     DITEM       2002-03-07   \n",
              "1          PI9816506                     DIMEC       1998-02-20   \n",
              "2          MU8800678                     DIMUT       2008-03-26   \n",
              "3          PI0610654                     DIALP       2006-05-26   \n",
              "4          MU8900777                     DIMUT       2009-05-28   \n",
              "...              ...                       ...              ...   \n",
              "6843  BR102015011767                     DITEX       2015-05-21   \n",
              "6844  BR112016009929                     DITEX       2014-11-10   \n",
              "6845  BR112016012529                     DITEX       2014-12-09   \n",
              "6846  BR112015026098                     DITEX       2014-04-11   \n",
              "6847  BR112015031668                     DITEX       2014-06-20   \n",
              "\n",
              "     DESPACHO DE ENTRADA NA 2ª INSTÂNCIA DATA DO DESPACHO ATUALIZAÇÃO  \n",
              "0                                   17.1       2011-08-23  2022-07-20  \n",
              "1                                   17.1       2016-03-15         NaT  \n",
              "2                                   17.1       2017-11-21         NaT  \n",
              "3                                   17.1       2017-11-21         NaT  \n",
              "4                                   17.1       2017-11-28         NaT  \n",
              "...                                  ...              ...         ...  \n",
              "6843                 2022-02-12 00:00:00       2022-06-28         NaT  \n",
              "6844                 2022-02-12 00:00:00       2022-07-05         NaT  \n",
              "6845                 2022-02-12 00:00:00       2022-07-12         NaT  \n",
              "6846                 2022-02-12 00:00:00       2022-07-12         NaT  \n",
              "6847                 2022-02-12 00:00:00       2022-07-12         NaT  \n",
              "\n",
              "[6848 rows x 6 columns]"
            ]
          },
          "execution_count": 150,
          "metadata": {},
          "output_type": "execute_result"
        }
      ],
      "source": [
        "df"
      ]
    },
    {
      "cell_type": "markdown",
      "id": "834592f1",
      "metadata": {
        "id": "834592f1"
      },
      "source": [
        "#### JSON\n",
        "\n",
        "https://pandas.pydata.org/pandas-docs/stable/reference/api/pandas.read_json.html"
      ]
    },
    {
      "cell_type": "markdown",
      "id": "aa2a4359",
      "metadata": {
        "id": "aa2a4359"
      },
      "source": [
        "Vamos criar um dataframe usando pandas com os dados do arquivo json `selic.json`"
      ]
    },
    {
      "cell_type": "code",
      "execution_count": null,
      "id": "fe15675d",
      "metadata": {
        "id": "fe15675d"
      },
      "outputs": [],
      "source": [
        "df = pd.read_json(\n",
        "    path_or_buf='../../dados/selic.json'\n",
        ")"
      ]
    },
    {
      "cell_type": "code",
      "execution_count": null,
      "id": "77c4c0b1",
      "metadata": {
        "id": "77c4c0b1",
        "outputId": "62125fd5-5d71-403c-ad1f-17227c4c9430"
      },
      "outputs": [
        {
          "data": {
            "text/html": [
              "<div>\n",
              "<style scoped>\n",
              "    .dataframe tbody tr th:only-of-type {\n",
              "        vertical-align: middle;\n",
              "    }\n",
              "\n",
              "    .dataframe tbody tr th {\n",
              "        vertical-align: top;\n",
              "    }\n",
              "\n",
              "    .dataframe thead th {\n",
              "        text-align: right;\n",
              "    }\n",
              "</style>\n",
              "<table border=\"1\" class=\"dataframe\">\n",
              "  <thead>\n",
              "    <tr style=\"text-align: right;\">\n",
              "      <th></th>\n",
              "      <th>data</th>\n",
              "      <th>valor</th>\n",
              "    </tr>\n",
              "  </thead>\n",
              "  <tbody>\n",
              "    <tr>\n",
              "      <th>0</th>\n",
              "      <td>01/06/1986</td>\n",
              "      <td>1.27</td>\n",
              "    </tr>\n",
              "    <tr>\n",
              "      <th>1</th>\n",
              "      <td>01/07/1986</td>\n",
              "      <td>1.95</td>\n",
              "    </tr>\n",
              "    <tr>\n",
              "      <th>2</th>\n",
              "      <td>01/08/1986</td>\n",
              "      <td>2.57</td>\n",
              "    </tr>\n",
              "    <tr>\n",
              "      <th>3</th>\n",
              "      <td>01/09/1986</td>\n",
              "      <td>2.94</td>\n",
              "    </tr>\n",
              "    <tr>\n",
              "      <th>4</th>\n",
              "      <td>01/10/1986</td>\n",
              "      <td>1.96</td>\n",
              "    </tr>\n",
              "    <tr>\n",
              "      <th>...</th>\n",
              "      <td>...</td>\n",
              "      <td>...</td>\n",
              "    </tr>\n",
              "    <tr>\n",
              "      <th>411</th>\n",
              "      <td>01/09/2020</td>\n",
              "      <td>0.16</td>\n",
              "    </tr>\n",
              "    <tr>\n",
              "      <th>412</th>\n",
              "      <td>01/10/2020</td>\n",
              "      <td>0.16</td>\n",
              "    </tr>\n",
              "    <tr>\n",
              "      <th>413</th>\n",
              "      <td>01/11/2020</td>\n",
              "      <td>0.15</td>\n",
              "    </tr>\n",
              "    <tr>\n",
              "      <th>414</th>\n",
              "      <td>01/12/2020</td>\n",
              "      <td>0.16</td>\n",
              "    </tr>\n",
              "    <tr>\n",
              "      <th>415</th>\n",
              "      <td>01/01/2021</td>\n",
              "      <td>0.13</td>\n",
              "    </tr>\n",
              "  </tbody>\n",
              "</table>\n",
              "<p>416 rows × 2 columns</p>\n",
              "</div>"
            ],
            "text/plain": [
              "           data  valor\n",
              "0    01/06/1986   1.27\n",
              "1    01/07/1986   1.95\n",
              "2    01/08/1986   2.57\n",
              "3    01/09/1986   2.94\n",
              "4    01/10/1986   1.96\n",
              "..          ...    ...\n",
              "411  01/09/2020   0.16\n",
              "412  01/10/2020   0.16\n",
              "413  01/11/2020   0.15\n",
              "414  01/12/2020   0.16\n",
              "415  01/01/2021   0.13\n",
              "\n",
              "[416 rows x 2 columns]"
            ]
          },
          "execution_count": 154,
          "metadata": {},
          "output_type": "execute_result"
        }
      ],
      "source": [
        "df"
      ]
    },
    {
      "cell_type": "markdown",
      "id": "1c913e90",
      "metadata": {
        "id": "1c913e90"
      },
      "source": [
        "Vamos criar um dataframe usando pandas com os dados da selic em formato json vindo de uma API do Banco Central\n",
        "\n",
        "https://api.bcb.gov.br/dados/serie/bcdata.sgs.4390/dados?formato=json"
      ]
    },
    {
      "cell_type": "code",
      "execution_count": null,
      "id": "6392f1de",
      "metadata": {
        "id": "6392f1de"
      },
      "outputs": [],
      "source": [
        "df = pd.read_json(\n",
        "    path_or_buf='https://api.bcb.gov.br/dados/serie/bcdata.sgs.4390/dados?formato=json'\n",
        ")"
      ]
    },
    {
      "cell_type": "code",
      "execution_count": null,
      "id": "ae666f21",
      "metadata": {
        "id": "ae666f21",
        "outputId": "5ff926dc-c4fa-41ca-ced1-967b1bcfa3d1"
      },
      "outputs": [
        {
          "data": {
            "text/html": [
              "<div>\n",
              "<style scoped>\n",
              "    .dataframe tbody tr th:only-of-type {\n",
              "        vertical-align: middle;\n",
              "    }\n",
              "\n",
              "    .dataframe tbody tr th {\n",
              "        vertical-align: top;\n",
              "    }\n",
              "\n",
              "    .dataframe thead th {\n",
              "        text-align: right;\n",
              "    }\n",
              "</style>\n",
              "<table border=\"1\" class=\"dataframe\">\n",
              "  <thead>\n",
              "    <tr style=\"text-align: right;\">\n",
              "      <th></th>\n",
              "      <th>data</th>\n",
              "      <th>valor</th>\n",
              "    </tr>\n",
              "  </thead>\n",
              "  <tbody>\n",
              "    <tr>\n",
              "      <th>0</th>\n",
              "      <td>01/06/1986</td>\n",
              "      <td>1.27</td>\n",
              "    </tr>\n",
              "    <tr>\n",
              "      <th>1</th>\n",
              "      <td>01/07/1986</td>\n",
              "      <td>1.95</td>\n",
              "    </tr>\n",
              "    <tr>\n",
              "      <th>2</th>\n",
              "      <td>01/08/1986</td>\n",
              "      <td>2.57</td>\n",
              "    </tr>\n",
              "    <tr>\n",
              "      <th>3</th>\n",
              "      <td>01/09/1986</td>\n",
              "      <td>2.94</td>\n",
              "    </tr>\n",
              "    <tr>\n",
              "      <th>4</th>\n",
              "      <td>01/10/1986</td>\n",
              "      <td>1.96</td>\n",
              "    </tr>\n",
              "    <tr>\n",
              "      <th>...</th>\n",
              "      <td>...</td>\n",
              "      <td>...</td>\n",
              "    </tr>\n",
              "    <tr>\n",
              "      <th>436</th>\n",
              "      <td>01/10/2022</td>\n",
              "      <td>1.02</td>\n",
              "    </tr>\n",
              "    <tr>\n",
              "      <th>437</th>\n",
              "      <td>01/11/2022</td>\n",
              "      <td>1.02</td>\n",
              "    </tr>\n",
              "    <tr>\n",
              "      <th>438</th>\n",
              "      <td>01/12/2022</td>\n",
              "      <td>1.12</td>\n",
              "    </tr>\n",
              "    <tr>\n",
              "      <th>439</th>\n",
              "      <td>01/01/2023</td>\n",
              "      <td>1.12</td>\n",
              "    </tr>\n",
              "    <tr>\n",
              "      <th>440</th>\n",
              "      <td>01/02/2023</td>\n",
              "      <td>0.15</td>\n",
              "    </tr>\n",
              "  </tbody>\n",
              "</table>\n",
              "<p>441 rows × 2 columns</p>\n",
              "</div>"
            ],
            "text/plain": [
              "           data  valor\n",
              "0    01/06/1986   1.27\n",
              "1    01/07/1986   1.95\n",
              "2    01/08/1986   2.57\n",
              "3    01/09/1986   2.94\n",
              "4    01/10/1986   1.96\n",
              "..          ...    ...\n",
              "436  01/10/2022   1.02\n",
              "437  01/11/2022   1.02\n",
              "438  01/12/2022   1.12\n",
              "439  01/01/2023   1.12\n",
              "440  01/02/2023   0.15\n",
              "\n",
              "[441 rows x 2 columns]"
            ]
          },
          "execution_count": 156,
          "metadata": {},
          "output_type": "execute_result"
        }
      ],
      "source": [
        "df"
      ]
    },
    {
      "cell_type": "markdown",
      "id": "d8001155",
      "metadata": {
        "id": "d8001155"
      },
      "source": [
        "#### TXT de tamanho fixo\n",
        "\n",
        "https://pandas.pydata.org/pandas-docs/stable/reference/api/pandas.read_fwf.html"
      ]
    },
    {
      "cell_type": "markdown",
      "id": "0996461a",
      "metadata": {
        "id": "0996461a"
      },
      "source": [
        "Vamos criar um dataframe usando pandas com os dados em formato TXT (Com colunas de tamanho fixo) disponíveis por FTP pelo Banco Central.\n",
        "\n",
        "https://www.bcb.gov.br/pom/spb/Down/ftp/prod/ASPB0004.TXT"
      ]
    },
    {
      "cell_type": "code",
      "execution_count": null,
      "id": "653e2d4c",
      "metadata": {
        "id": "653e2d4c"
      },
      "outputs": [],
      "source": [
        "df = pd.read_fwf(\n",
        "    filepath_or_buffer='https://www.bcb.gov.br/pom/spb/Down/ftp/prod/ASPB0004.TXT',\n",
        "    widths=[1, 6, 8, 1, 8, 1, 8]\n",
        ")"
      ]
    },
    {
      "cell_type": "code",
      "execution_count": null,
      "id": "07ca79ae",
      "metadata": {
        "id": "07ca79ae",
        "outputId": "8ad3b27e-d23e-4a04-96ce-aa14a193de5e"
      },
      "outputs": [
        {
          "data": {
            "text/html": [
              "<div>\n",
              "<style scoped>\n",
              "    .dataframe tbody tr th:only-of-type {\n",
              "        vertical-align: middle;\n",
              "    }\n",
              "\n",
              "    .dataframe tbody tr th {\n",
              "        vertical-align: top;\n",
              "    }\n",
              "\n",
              "    .dataframe thead th {\n",
              "        text-align: right;\n",
              "    }\n",
              "</style>\n",
              "<table border=\"1\" class=\"dataframe\">\n",
              "  <thead>\n",
              "    <tr style=\"text-align: right;\">\n",
              "      <th></th>\n",
              "      <th>0</th>\n",
              "      <th>ASPB00</th>\n",
              "      <th>04202302</th>\n",
              "      <th>0.1</th>\n",
              "      <th>32023020</th>\n",
              "      <th>2</th>\n",
              "      <th>1820</th>\n",
              "    </tr>\n",
              "  </thead>\n",
              "  <tbody>\n",
              "    <tr>\n",
              "      <th>0</th>\n",
              "      <td>1</td>\n",
              "      <td>210100</td>\n",
              "      <td>20230301.0</td>\n",
              "      <td>0.0</td>\n",
              "      <td>1278.0</td>\n",
              "      <td>3.0</td>\n",
              "      <td>9105683.0</td>\n",
              "    </tr>\n",
              "    <tr>\n",
              "      <th>1</th>\n",
              "      <td>1</td>\n",
              "      <td>210100</td>\n",
              "      <td>20230901.0</td>\n",
              "      <td>0.0</td>\n",
              "      <td>1277.0</td>\n",
              "      <td>7.0</td>\n",
              "      <td>26915027.0</td>\n",
              "    </tr>\n",
              "    <tr>\n",
              "      <th>2</th>\n",
              "      <td>1</td>\n",
              "      <td>210100</td>\n",
              "      <td>20240301.0</td>\n",
              "      <td>0.0</td>\n",
              "      <td>1277.0</td>\n",
              "      <td>2.0</td>\n",
              "      <td>13270196.0</td>\n",
              "    </tr>\n",
              "    <tr>\n",
              "      <th>3</th>\n",
              "      <td>1</td>\n",
              "      <td>210100</td>\n",
              "      <td>20240901.0</td>\n",
              "      <td>0.0</td>\n",
              "      <td>1276.0</td>\n",
              "      <td>6.0</td>\n",
              "      <td>32631453.0</td>\n",
              "    </tr>\n",
              "    <tr>\n",
              "      <th>4</th>\n",
              "      <td>1</td>\n",
              "      <td>210100</td>\n",
              "      <td>20250301.0</td>\n",
              "      <td>0.0</td>\n",
              "      <td>1275.0</td>\n",
              "      <td>8.0</td>\n",
              "      <td>9192336.0</td>\n",
              "    </tr>\n",
              "    <tr>\n",
              "      <th>...</th>\n",
              "      <td>...</td>\n",
              "      <td>...</td>\n",
              "      <td>...</td>\n",
              "      <td>...</td>\n",
              "      <td>...</td>\n",
              "      <td>...</td>\n",
              "      <td>...</td>\n",
              "    </tr>\n",
              "    <tr>\n",
              "      <th>171</th>\n",
              "      <td>1</td>\n",
              "      <td>950199</td>\n",
              "      <td>20270101.0</td>\n",
              "      <td>0.0</td>\n",
              "      <td>90.0</td>\n",
              "      <td>8.0</td>\n",
              "      <td>42304559.0</td>\n",
              "    </tr>\n",
              "    <tr>\n",
              "      <th>172</th>\n",
              "      <td>1</td>\n",
              "      <td>950199</td>\n",
              "      <td>20290101.0</td>\n",
              "      <td>0.0</td>\n",
              "      <td>86.0</td>\n",
              "      <td>8.0</td>\n",
              "      <td>44061605.0</td>\n",
              "    </tr>\n",
              "    <tr>\n",
              "      <th>173</th>\n",
              "      <td>1</td>\n",
              "      <td>950199</td>\n",
              "      <td>20310101.0</td>\n",
              "      <td>0.0</td>\n",
              "      <td>83.0</td>\n",
              "      <td>6.0</td>\n",
              "      <td>19838052.0</td>\n",
              "    </tr>\n",
              "    <tr>\n",
              "      <th>174</th>\n",
              "      <td>1</td>\n",
              "      <td>950199</td>\n",
              "      <td>20330101.0</td>\n",
              "      <td>0.0</td>\n",
              "      <td>81.0</td>\n",
              "      <td>1.0</td>\n",
              "      <td>35601254.0</td>\n",
              "    </tr>\n",
              "    <tr>\n",
              "      <th>175</th>\n",
              "      <td>2</td>\n",
              "      <td>177</td>\n",
              "      <td>NaN</td>\n",
              "      <td>NaN</td>\n",
              "      <td>NaN</td>\n",
              "      <td>NaN</td>\n",
              "      <td>NaN</td>\n",
              "    </tr>\n",
              "  </tbody>\n",
              "</table>\n",
              "<p>176 rows × 7 columns</p>\n",
              "</div>"
            ],
            "text/plain": [
              "     0  ASPB00    04202302  0.1  32023020    2        1820\n",
              "0    1  210100  20230301.0  0.0    1278.0  3.0   9105683.0\n",
              "1    1  210100  20230901.0  0.0    1277.0  7.0  26915027.0\n",
              "2    1  210100  20240301.0  0.0    1277.0  2.0  13270196.0\n",
              "3    1  210100  20240901.0  0.0    1276.0  6.0  32631453.0\n",
              "4    1  210100  20250301.0  0.0    1275.0  8.0   9192336.0\n",
              "..  ..     ...         ...  ...       ...  ...         ...\n",
              "171  1  950199  20270101.0  0.0      90.0  8.0  42304559.0\n",
              "172  1  950199  20290101.0  0.0      86.0  8.0  44061605.0\n",
              "173  1  950199  20310101.0  0.0      83.0  6.0  19838052.0\n",
              "174  1  950199  20330101.0  0.0      81.0  1.0  35601254.0\n",
              "175  2     177         NaN  NaN       NaN  NaN         NaN\n",
              "\n",
              "[176 rows x 7 columns]"
            ]
          },
          "execution_count": 158,
          "metadata": {},
          "output_type": "execute_result"
        }
      ],
      "source": [
        "df"
      ]
    },
    {
      "cell_type": "markdown",
      "id": "06ba92c0",
      "metadata": {
        "id": "06ba92c0"
      },
      "source": [
        "_________\n",
        "### Escrevendo dados de um arquivo"
      ]
    },
    {
      "cell_type": "code",
      "execution_count": null,
      "id": "e3e2978e",
      "metadata": {
        "id": "e3e2978e"
      },
      "outputs": [],
      "source": [
        "df = pd.read_json(\n",
        "    path_or_buf='https://api.bcb.gov.br/dados/serie/bcdata.sgs.4390/dados?formato=json'\n",
        ")"
      ]
    },
    {
      "cell_type": "code",
      "execution_count": null,
      "id": "3a7f2132",
      "metadata": {
        "id": "3a7f2132",
        "outputId": "b5da9ea7-4f16-4d61-9dfe-4d2f7ef5b8e8"
      },
      "outputs": [
        {
          "data": {
            "text/html": [
              "<div>\n",
              "<style scoped>\n",
              "    .dataframe tbody tr th:only-of-type {\n",
              "        vertical-align: middle;\n",
              "    }\n",
              "\n",
              "    .dataframe tbody tr th {\n",
              "        vertical-align: top;\n",
              "    }\n",
              "\n",
              "    .dataframe thead th {\n",
              "        text-align: right;\n",
              "    }\n",
              "</style>\n",
              "<table border=\"1\" class=\"dataframe\">\n",
              "  <thead>\n",
              "    <tr style=\"text-align: right;\">\n",
              "      <th></th>\n",
              "      <th>data</th>\n",
              "      <th>valor</th>\n",
              "    </tr>\n",
              "  </thead>\n",
              "  <tbody>\n",
              "    <tr>\n",
              "      <th>0</th>\n",
              "      <td>01/06/1986</td>\n",
              "      <td>1.27</td>\n",
              "    </tr>\n",
              "    <tr>\n",
              "      <th>1</th>\n",
              "      <td>01/07/1986</td>\n",
              "      <td>1.95</td>\n",
              "    </tr>\n",
              "    <tr>\n",
              "      <th>2</th>\n",
              "      <td>01/08/1986</td>\n",
              "      <td>2.57</td>\n",
              "    </tr>\n",
              "    <tr>\n",
              "      <th>3</th>\n",
              "      <td>01/09/1986</td>\n",
              "      <td>2.94</td>\n",
              "    </tr>\n",
              "    <tr>\n",
              "      <th>4</th>\n",
              "      <td>01/10/1986</td>\n",
              "      <td>1.96</td>\n",
              "    </tr>\n",
              "    <tr>\n",
              "      <th>...</th>\n",
              "      <td>...</td>\n",
              "      <td>...</td>\n",
              "    </tr>\n",
              "    <tr>\n",
              "      <th>436</th>\n",
              "      <td>01/10/2022</td>\n",
              "      <td>1.02</td>\n",
              "    </tr>\n",
              "    <tr>\n",
              "      <th>437</th>\n",
              "      <td>01/11/2022</td>\n",
              "      <td>1.02</td>\n",
              "    </tr>\n",
              "    <tr>\n",
              "      <th>438</th>\n",
              "      <td>01/12/2022</td>\n",
              "      <td>1.12</td>\n",
              "    </tr>\n",
              "    <tr>\n",
              "      <th>439</th>\n",
              "      <td>01/01/2023</td>\n",
              "      <td>1.12</td>\n",
              "    </tr>\n",
              "    <tr>\n",
              "      <th>440</th>\n",
              "      <td>01/02/2023</td>\n",
              "      <td>0.15</td>\n",
              "    </tr>\n",
              "  </tbody>\n",
              "</table>\n",
              "<p>441 rows × 2 columns</p>\n",
              "</div>"
            ],
            "text/plain": [
              "           data  valor\n",
              "0    01/06/1986   1.27\n",
              "1    01/07/1986   1.95\n",
              "2    01/08/1986   2.57\n",
              "3    01/09/1986   2.94\n",
              "4    01/10/1986   1.96\n",
              "..          ...    ...\n",
              "436  01/10/2022   1.02\n",
              "437  01/11/2022   1.02\n",
              "438  01/12/2022   1.12\n",
              "439  01/01/2023   1.12\n",
              "440  01/02/2023   0.15\n",
              "\n",
              "[441 rows x 2 columns]"
            ]
          },
          "execution_count": 162,
          "metadata": {},
          "output_type": "execute_result"
        }
      ],
      "source": [
        "df"
      ]
    },
    {
      "cell_type": "markdown",
      "id": "170b64d4",
      "metadata": {
        "id": "170b64d4"
      },
      "source": [
        "#### CSV"
      ]
    },
    {
      "cell_type": "markdown",
      "id": "8c4580ce",
      "metadata": {
        "id": "8c4580ce"
      },
      "source": [
        "Separado por virgula"
      ]
    },
    {
      "cell_type": "code",
      "execution_count": null,
      "id": "f7ef3497",
      "metadata": {
        "id": "f7ef3497"
      },
      "outputs": [],
      "source": [
        "df.to_csv('selic.csv')"
      ]
    },
    {
      "cell_type": "markdown",
      "id": "d5e24290",
      "metadata": {
        "id": "d5e24290"
      },
      "source": [
        "Separado por ponto e virgula"
      ]
    },
    {
      "cell_type": "code",
      "execution_count": null,
      "id": "f44fb656",
      "metadata": {
        "id": "f44fb656"
      },
      "outputs": [],
      "source": [
        "df.to_csv('selic2.csv', sep = ';')"
      ]
    },
    {
      "cell_type": "markdown",
      "id": "5798e9f0",
      "metadata": {
        "id": "5798e9f0"
      },
      "source": [
        "#### XLSX"
      ]
    },
    {
      "cell_type": "code",
      "execution_count": null,
      "id": "767ace72",
      "metadata": {
        "id": "767ace72"
      },
      "outputs": [],
      "source": [
        "df.to_excel('selic.xlsx', sheet_name = 'selic')"
      ]
    },
    {
      "cell_type": "code",
      "execution_count": null,
      "id": "4073b482",
      "metadata": {
        "id": "4073b482"
      },
      "outputs": [],
      "source": []
    },
    {
      "cell_type": "code",
      "execution_count": null,
      "id": "f7052501",
      "metadata": {
        "id": "f7052501"
      },
      "outputs": [],
      "source": []
    },
    {
      "cell_type": "markdown",
      "id": "88c23d67",
      "metadata": {
        "id": "88c23d67"
      },
      "source": [
        "___\n",
        "### Vamos praticar?"
      ]
    },
    {
      "cell_type": "markdown",
      "id": "d7828e59",
      "metadata": {
        "id": "d7828e59"
      },
      "source": [
        "Leia o arquivo `aluno3.csv`, apenas as colunas RA, Prova_1, Prova_2, Prova_3, Prova_4 realize a média das notas da prova e salve em um arquivo excel (xlsx) as colunas RA e Média."
      ]
    },
    {
      "cell_type": "code",
      "execution_count": null,
      "id": "c1284d93",
      "metadata": {
        "id": "c1284d93"
      },
      "outputs": [],
      "source": []
    },
    {
      "cell_type": "code",
      "execution_count": null,
      "id": "7f03b063",
      "metadata": {
        "id": "7f03b063",
        "outputId": "a9f24d81-f090-4dcc-b3ab-cc21b4dad9bb"
      },
      "outputs": [
        {
          "data": {
            "text/html": [
              "<div>\n",
              "<style scoped>\n",
              "    .dataframe tbody tr th:only-of-type {\n",
              "        vertical-align: middle;\n",
              "    }\n",
              "\n",
              "    .dataframe tbody tr th {\n",
              "        vertical-align: top;\n",
              "    }\n",
              "\n",
              "    .dataframe thead th {\n",
              "        text-align: right;\n",
              "    }\n",
              "</style>\n",
              "<table border=\"1\" class=\"dataframe\">\n",
              "  <thead>\n",
              "    <tr style=\"text-align: right;\">\n",
              "      <th></th>\n",
              "      <th>RA</th>\n",
              "      <th>Prova_1</th>\n",
              "      <th>Prova_2</th>\n",
              "      <th>Prova_3</th>\n",
              "      <th>Prova_4</th>\n",
              "      <th>Media</th>\n",
              "    </tr>\n",
              "  </thead>\n",
              "  <tbody>\n",
              "    <tr>\n",
              "      <th>0</th>\n",
              "      <td>110201</td>\n",
              "      <td>6.5</td>\n",
              "      <td>8.5</td>\n",
              "      <td>7.0</td>\n",
              "      <td>6</td>\n",
              "      <td>7.000</td>\n",
              "    </tr>\n",
              "    <tr>\n",
              "      <th>1</th>\n",
              "      <td>110212</td>\n",
              "      <td>7.0</td>\n",
              "      <td>7.0</td>\n",
              "      <td>7.0</td>\n",
              "      <td>8</td>\n",
              "      <td>7.250</td>\n",
              "    </tr>\n",
              "    <tr>\n",
              "      <th>2</th>\n",
              "      <td>110218</td>\n",
              "      <td>7.0</td>\n",
              "      <td>7.0</td>\n",
              "      <td>7.0</td>\n",
              "      <td>7</td>\n",
              "      <td>7.000</td>\n",
              "    </tr>\n",
              "    <tr>\n",
              "      <th>3</th>\n",
              "      <td>110307</td>\n",
              "      <td>9.0</td>\n",
              "      <td>8.5</td>\n",
              "      <td>8.5</td>\n",
              "      <td>10</td>\n",
              "      <td>9.000</td>\n",
              "    </tr>\n",
              "    <tr>\n",
              "      <th>4</th>\n",
              "      <td>110275</td>\n",
              "      <td>6.5</td>\n",
              "      <td>7.5</td>\n",
              "      <td>7.0</td>\n",
              "      <td>7</td>\n",
              "      <td>7.000</td>\n",
              "    </tr>\n",
              "    <tr>\n",
              "      <th>5</th>\n",
              "      <td>110281</td>\n",
              "      <td>7.5</td>\n",
              "      <td>7.0</td>\n",
              "      <td>7.5</td>\n",
              "      <td>8</td>\n",
              "      <td>7.500</td>\n",
              "    </tr>\n",
              "    <tr>\n",
              "      <th>6</th>\n",
              "      <td>110301</td>\n",
              "      <td>5.0</td>\n",
              "      <td>6.5</td>\n",
              "      <td>7.0</td>\n",
              "      <td>5</td>\n",
              "      <td>5.875</td>\n",
              "    </tr>\n",
              "    <tr>\n",
              "      <th>7</th>\n",
              "      <td>110263</td>\n",
              "      <td>10.0</td>\n",
              "      <td>10.0</td>\n",
              "      <td>10.0</td>\n",
              "      <td>10</td>\n",
              "      <td>10.000</td>\n",
              "    </tr>\n",
              "    <tr>\n",
              "      <th>8</th>\n",
              "      <td>110271</td>\n",
              "      <td>9.5</td>\n",
              "      <td>8.0</td>\n",
              "      <td>7.0</td>\n",
              "      <td>10</td>\n",
              "      <td>8.625</td>\n",
              "    </tr>\n",
              "    <tr>\n",
              "      <th>9</th>\n",
              "      <td>110236</td>\n",
              "      <td>8.0</td>\n",
              "      <td>8.0</td>\n",
              "      <td>8.0</td>\n",
              "      <td>8</td>\n",
              "      <td>8.000</td>\n",
              "    </tr>\n",
              "  </tbody>\n",
              "</table>\n",
              "</div>"
            ],
            "text/plain": [
              "       RA  Prova_1  Prova_2  Prova_3  Prova_4   Media\n",
              "0  110201      6.5      8.5      7.0        6   7.000\n",
              "1  110212      7.0      7.0      7.0        8   7.250\n",
              "2  110218      7.0      7.0      7.0        7   7.000\n",
              "3  110307      9.0      8.5      8.5       10   9.000\n",
              "4  110275      6.5      7.5      7.0        7   7.000\n",
              "5  110281      7.5      7.0      7.5        8   7.500\n",
              "6  110301      5.0      6.5      7.0        5   5.875\n",
              "7  110263     10.0     10.0     10.0       10  10.000\n",
              "8  110271      9.5      8.0      7.0       10   8.625\n",
              "9  110236      8.0      8.0      8.0        8   8.000"
            ]
          },
          "execution_count": 135,
          "metadata": {},
          "output_type": "execute_result"
        }
      ],
      "source": [
        "df"
      ]
    },
    {
      "cell_type": "code",
      "execution_count": null,
      "id": "bf86fa38",
      "metadata": {
        "colab": {
          "base_uri": "https://localhost:8080/",
          "height": 363
        },
        "id": "bf86fa38",
        "outputId": "a1b8ed33-4720-4f7a-8e89-3463d214cf5e"
      },
      "outputs": [
        {
          "output_type": "execute_result",
          "data": {
            "text/plain": [
              "       RA             Nome  Frequencia Prova_1 Prova_2 Prova_3  Prova_4\n",
              "0  110201   Antonio Carlos          20     6,5     8,5     7,0        6\n",
              "1  110212      Ana Beatriz          20     7,0     7,0     7,0        8\n",
              "2  110218    Carlos Vernes          17     7,0     7,0     7,0        7\n",
              "3  110307  Francisco Cunha          20     9,0     8,5     8,5       10\n",
              "4  110275      Sandra Rosa          15     6,5     7,5     7,0        7\n",
              "5  110281   Juliana Arruda          18     7,5     7,0     7,5        8\n",
              "6  110301        Joao Galo          20     5,0     6,5     7,0        5\n",
              "7  110263     José Valente          20    10,0    10,0    10,0       10\n",
              "8  110271   Maria Ferreira          19     9,5     8,0     7,0       10\n",
              "9  110236  Adriana Tavares          20     8,0     8,0     8,0        8"
            ],
            "text/html": [
              "\n",
              "  <div id=\"df-370a5b04-089b-4cd0-b575-643137fbddff\">\n",
              "    <div class=\"colab-df-container\">\n",
              "      <div>\n",
              "<style scoped>\n",
              "    .dataframe tbody tr th:only-of-type {\n",
              "        vertical-align: middle;\n",
              "    }\n",
              "\n",
              "    .dataframe tbody tr th {\n",
              "        vertical-align: top;\n",
              "    }\n",
              "\n",
              "    .dataframe thead th {\n",
              "        text-align: right;\n",
              "    }\n",
              "</style>\n",
              "<table border=\"1\" class=\"dataframe\">\n",
              "  <thead>\n",
              "    <tr style=\"text-align: right;\">\n",
              "      <th></th>\n",
              "      <th>RA</th>\n",
              "      <th>Nome</th>\n",
              "      <th>Frequencia</th>\n",
              "      <th>Prova_1</th>\n",
              "      <th>Prova_2</th>\n",
              "      <th>Prova_3</th>\n",
              "      <th>Prova_4</th>\n",
              "    </tr>\n",
              "  </thead>\n",
              "  <tbody>\n",
              "    <tr>\n",
              "      <th>0</th>\n",
              "      <td>110201</td>\n",
              "      <td>Antonio Carlos</td>\n",
              "      <td>20</td>\n",
              "      <td>6,5</td>\n",
              "      <td>8,5</td>\n",
              "      <td>7,0</td>\n",
              "      <td>6</td>\n",
              "    </tr>\n",
              "    <tr>\n",
              "      <th>1</th>\n",
              "      <td>110212</td>\n",
              "      <td>Ana Beatriz</td>\n",
              "      <td>20</td>\n",
              "      <td>7,0</td>\n",
              "      <td>7,0</td>\n",
              "      <td>7,0</td>\n",
              "      <td>8</td>\n",
              "    </tr>\n",
              "    <tr>\n",
              "      <th>2</th>\n",
              "      <td>110218</td>\n",
              "      <td>Carlos Vernes</td>\n",
              "      <td>17</td>\n",
              "      <td>7,0</td>\n",
              "      <td>7,0</td>\n",
              "      <td>7,0</td>\n",
              "      <td>7</td>\n",
              "    </tr>\n",
              "    <tr>\n",
              "      <th>3</th>\n",
              "      <td>110307</td>\n",
              "      <td>Francisco Cunha</td>\n",
              "      <td>20</td>\n",
              "      <td>9,0</td>\n",
              "      <td>8,5</td>\n",
              "      <td>8,5</td>\n",
              "      <td>10</td>\n",
              "    </tr>\n",
              "    <tr>\n",
              "      <th>4</th>\n",
              "      <td>110275</td>\n",
              "      <td>Sandra Rosa</td>\n",
              "      <td>15</td>\n",
              "      <td>6,5</td>\n",
              "      <td>7,5</td>\n",
              "      <td>7,0</td>\n",
              "      <td>7</td>\n",
              "    </tr>\n",
              "    <tr>\n",
              "      <th>5</th>\n",
              "      <td>110281</td>\n",
              "      <td>Juliana Arruda</td>\n",
              "      <td>18</td>\n",
              "      <td>7,5</td>\n",
              "      <td>7,0</td>\n",
              "      <td>7,5</td>\n",
              "      <td>8</td>\n",
              "    </tr>\n",
              "    <tr>\n",
              "      <th>6</th>\n",
              "      <td>110301</td>\n",
              "      <td>Joao Galo</td>\n",
              "      <td>20</td>\n",
              "      <td>5,0</td>\n",
              "      <td>6,5</td>\n",
              "      <td>7,0</td>\n",
              "      <td>5</td>\n",
              "    </tr>\n",
              "    <tr>\n",
              "      <th>7</th>\n",
              "      <td>110263</td>\n",
              "      <td>José Valente</td>\n",
              "      <td>20</td>\n",
              "      <td>10,0</td>\n",
              "      <td>10,0</td>\n",
              "      <td>10,0</td>\n",
              "      <td>10</td>\n",
              "    </tr>\n",
              "    <tr>\n",
              "      <th>8</th>\n",
              "      <td>110271</td>\n",
              "      <td>Maria Ferreira</td>\n",
              "      <td>19</td>\n",
              "      <td>9,5</td>\n",
              "      <td>8,0</td>\n",
              "      <td>7,0</td>\n",
              "      <td>10</td>\n",
              "    </tr>\n",
              "    <tr>\n",
              "      <th>9</th>\n",
              "      <td>110236</td>\n",
              "      <td>Adriana Tavares</td>\n",
              "      <td>20</td>\n",
              "      <td>8,0</td>\n",
              "      <td>8,0</td>\n",
              "      <td>8,0</td>\n",
              "      <td>8</td>\n",
              "    </tr>\n",
              "  </tbody>\n",
              "</table>\n",
              "</div>\n",
              "      <button class=\"colab-df-convert\" onclick=\"convertToInteractive('df-370a5b04-089b-4cd0-b575-643137fbddff')\"\n",
              "              title=\"Convert this dataframe to an interactive table.\"\n",
              "              style=\"display:none;\">\n",
              "        \n",
              "  <svg xmlns=\"http://www.w3.org/2000/svg\" height=\"24px\"viewBox=\"0 0 24 24\"\n",
              "       width=\"24px\">\n",
              "    <path d=\"M0 0h24v24H0V0z\" fill=\"none\"/>\n",
              "    <path d=\"M18.56 5.44l.94 2.06.94-2.06 2.06-.94-2.06-.94-.94-2.06-.94 2.06-2.06.94zm-11 1L8.5 8.5l.94-2.06 2.06-.94-2.06-.94L8.5 2.5l-.94 2.06-2.06.94zm10 10l.94 2.06.94-2.06 2.06-.94-2.06-.94-.94-2.06-.94 2.06-2.06.94z\"/><path d=\"M17.41 7.96l-1.37-1.37c-.4-.4-.92-.59-1.43-.59-.52 0-1.04.2-1.43.59L10.3 9.45l-7.72 7.72c-.78.78-.78 2.05 0 2.83L4 21.41c.39.39.9.59 1.41.59.51 0 1.02-.2 1.41-.59l7.78-7.78 2.81-2.81c.8-.78.8-2.07 0-2.86zM5.41 20L4 18.59l7.72-7.72 1.47 1.35L5.41 20z\"/>\n",
              "  </svg>\n",
              "      </button>\n",
              "      \n",
              "  <style>\n",
              "    .colab-df-container {\n",
              "      display:flex;\n",
              "      flex-wrap:wrap;\n",
              "      gap: 12px;\n",
              "    }\n",
              "\n",
              "    .colab-df-convert {\n",
              "      background-color: #E8F0FE;\n",
              "      border: none;\n",
              "      border-radius: 50%;\n",
              "      cursor: pointer;\n",
              "      display: none;\n",
              "      fill: #1967D2;\n",
              "      height: 32px;\n",
              "      padding: 0 0 0 0;\n",
              "      width: 32px;\n",
              "    }\n",
              "\n",
              "    .colab-df-convert:hover {\n",
              "      background-color: #E2EBFA;\n",
              "      box-shadow: 0px 1px 2px rgba(60, 64, 67, 0.3), 0px 1px 3px 1px rgba(60, 64, 67, 0.15);\n",
              "      fill: #174EA6;\n",
              "    }\n",
              "\n",
              "    [theme=dark] .colab-df-convert {\n",
              "      background-color: #3B4455;\n",
              "      fill: #D2E3FC;\n",
              "    }\n",
              "\n",
              "    [theme=dark] .colab-df-convert:hover {\n",
              "      background-color: #434B5C;\n",
              "      box-shadow: 0px 1px 3px 1px rgba(0, 0, 0, 0.15);\n",
              "      filter: drop-shadow(0px 1px 2px rgba(0, 0, 0, 0.3));\n",
              "      fill: #FFFFFF;\n",
              "    }\n",
              "  </style>\n",
              "\n",
              "      <script>\n",
              "        const buttonEl =\n",
              "          document.querySelector('#df-370a5b04-089b-4cd0-b575-643137fbddff button.colab-df-convert');\n",
              "        buttonEl.style.display =\n",
              "          google.colab.kernel.accessAllowed ? 'block' : 'none';\n",
              "\n",
              "        async function convertToInteractive(key) {\n",
              "          const element = document.querySelector('#df-370a5b04-089b-4cd0-b575-643137fbddff');\n",
              "          const dataTable =\n",
              "            await google.colab.kernel.invokeFunction('convertToInteractive',\n",
              "                                                     [key], {});\n",
              "          if (!dataTable) return;\n",
              "\n",
              "          const docLinkHtml = 'Like what you see? Visit the ' +\n",
              "            '<a target=\"_blank\" href=https://colab.research.google.com/notebooks/data_table.ipynb>data table notebook</a>'\n",
              "            + ' to learn more about interactive tables.';\n",
              "          element.innerHTML = '';\n",
              "          dataTable['output_type'] = 'display_data';\n",
              "          await google.colab.output.renderOutput(dataTable, element);\n",
              "          const docLink = document.createElement('div');\n",
              "          docLink.innerHTML = docLinkHtml;\n",
              "          element.appendChild(docLink);\n",
              "        }\n",
              "      </script>\n",
              "    </div>\n",
              "  </div>\n",
              "  "
            ]
          },
          "metadata": {},
          "execution_count": 80
        }
      ],
      "source": [
        "df = pd.read_csv('/content/alunos3.csv', sep =\",\")\n",
        "df"
      ]
    },
    {
      "cell_type": "code",
      "source": [
        "df.dtypes"
      ],
      "metadata": {
        "colab": {
          "base_uri": "https://localhost:8080/"
        },
        "id": "RU-XvlxNCdFG",
        "outputId": "32c5b6fb-f350-42d6-d043-e662eeeb2083"
      },
      "id": "RU-XvlxNCdFG",
      "execution_count": null,
      "outputs": [
        {
          "output_type": "execute_result",
          "data": {
            "text/plain": [
              "RA             int64\n",
              "Nome          object\n",
              "Frequencia     int64\n",
              "Prova_1       object\n",
              "Prova_2       object\n",
              "Prova_3       object\n",
              "Prova_4        int64\n",
              "dtype: object"
            ]
          },
          "metadata": {},
          "execution_count": 81
        }
      ]
    },
    {
      "cell_type": "code",
      "source": [
        "df"
      ],
      "metadata": {
        "colab": {
          "base_uri": "https://localhost:8080/",
          "height": 363
        },
        "id": "VetuMqhIFHUO",
        "outputId": "8a20f126-aa76-40e5-92af-56ac7c9b20f0"
      },
      "id": "VetuMqhIFHUO",
      "execution_count": null,
      "outputs": [
        {
          "output_type": "execute_result",
          "data": {
            "text/plain": [
              "       RA             Nome  Frequencia Prova_1 Prova_2 Prova_3  Prova_4\n",
              "0  110201   Antonio Carlos          20     6,5     8,5     7,0        6\n",
              "1  110212      Ana Beatriz          20     7,0     7,0     7,0        8\n",
              "2  110218    Carlos Vernes          17     7,0     7,0     7,0        7\n",
              "3  110307  Francisco Cunha          20     9,0     8,5     8,5       10\n",
              "4  110275      Sandra Rosa          15     6,5     7,5     7,0        7\n",
              "5  110281   Juliana Arruda          18     7,5     7,0     7,5        8\n",
              "6  110301        Joao Galo          20     5,0     6,5     7,0        5\n",
              "7  110263     José Valente          20    10,0    10,0    10,0       10\n",
              "8  110271   Maria Ferreira          19     9,5     8,0     7,0       10\n",
              "9  110236  Adriana Tavares          20     8,0     8,0     8,0        8"
            ],
            "text/html": [
              "\n",
              "  <div id=\"df-2f43a44d-d74e-4c08-a974-8d80aaa25b39\">\n",
              "    <div class=\"colab-df-container\">\n",
              "      <div>\n",
              "<style scoped>\n",
              "    .dataframe tbody tr th:only-of-type {\n",
              "        vertical-align: middle;\n",
              "    }\n",
              "\n",
              "    .dataframe tbody tr th {\n",
              "        vertical-align: top;\n",
              "    }\n",
              "\n",
              "    .dataframe thead th {\n",
              "        text-align: right;\n",
              "    }\n",
              "</style>\n",
              "<table border=\"1\" class=\"dataframe\">\n",
              "  <thead>\n",
              "    <tr style=\"text-align: right;\">\n",
              "      <th></th>\n",
              "      <th>RA</th>\n",
              "      <th>Nome</th>\n",
              "      <th>Frequencia</th>\n",
              "      <th>Prova_1</th>\n",
              "      <th>Prova_2</th>\n",
              "      <th>Prova_3</th>\n",
              "      <th>Prova_4</th>\n",
              "    </tr>\n",
              "  </thead>\n",
              "  <tbody>\n",
              "    <tr>\n",
              "      <th>0</th>\n",
              "      <td>110201</td>\n",
              "      <td>Antonio Carlos</td>\n",
              "      <td>20</td>\n",
              "      <td>6,5</td>\n",
              "      <td>8,5</td>\n",
              "      <td>7,0</td>\n",
              "      <td>6</td>\n",
              "    </tr>\n",
              "    <tr>\n",
              "      <th>1</th>\n",
              "      <td>110212</td>\n",
              "      <td>Ana Beatriz</td>\n",
              "      <td>20</td>\n",
              "      <td>7,0</td>\n",
              "      <td>7,0</td>\n",
              "      <td>7,0</td>\n",
              "      <td>8</td>\n",
              "    </tr>\n",
              "    <tr>\n",
              "      <th>2</th>\n",
              "      <td>110218</td>\n",
              "      <td>Carlos Vernes</td>\n",
              "      <td>17</td>\n",
              "      <td>7,0</td>\n",
              "      <td>7,0</td>\n",
              "      <td>7,0</td>\n",
              "      <td>7</td>\n",
              "    </tr>\n",
              "    <tr>\n",
              "      <th>3</th>\n",
              "      <td>110307</td>\n",
              "      <td>Francisco Cunha</td>\n",
              "      <td>20</td>\n",
              "      <td>9,0</td>\n",
              "      <td>8,5</td>\n",
              "      <td>8,5</td>\n",
              "      <td>10</td>\n",
              "    </tr>\n",
              "    <tr>\n",
              "      <th>4</th>\n",
              "      <td>110275</td>\n",
              "      <td>Sandra Rosa</td>\n",
              "      <td>15</td>\n",
              "      <td>6,5</td>\n",
              "      <td>7,5</td>\n",
              "      <td>7,0</td>\n",
              "      <td>7</td>\n",
              "    </tr>\n",
              "    <tr>\n",
              "      <th>5</th>\n",
              "      <td>110281</td>\n",
              "      <td>Juliana Arruda</td>\n",
              "      <td>18</td>\n",
              "      <td>7,5</td>\n",
              "      <td>7,0</td>\n",
              "      <td>7,5</td>\n",
              "      <td>8</td>\n",
              "    </tr>\n",
              "    <tr>\n",
              "      <th>6</th>\n",
              "      <td>110301</td>\n",
              "      <td>Joao Galo</td>\n",
              "      <td>20</td>\n",
              "      <td>5,0</td>\n",
              "      <td>6,5</td>\n",
              "      <td>7,0</td>\n",
              "      <td>5</td>\n",
              "    </tr>\n",
              "    <tr>\n",
              "      <th>7</th>\n",
              "      <td>110263</td>\n",
              "      <td>José Valente</td>\n",
              "      <td>20</td>\n",
              "      <td>10,0</td>\n",
              "      <td>10,0</td>\n",
              "      <td>10,0</td>\n",
              "      <td>10</td>\n",
              "    </tr>\n",
              "    <tr>\n",
              "      <th>8</th>\n",
              "      <td>110271</td>\n",
              "      <td>Maria Ferreira</td>\n",
              "      <td>19</td>\n",
              "      <td>9,5</td>\n",
              "      <td>8,0</td>\n",
              "      <td>7,0</td>\n",
              "      <td>10</td>\n",
              "    </tr>\n",
              "    <tr>\n",
              "      <th>9</th>\n",
              "      <td>110236</td>\n",
              "      <td>Adriana Tavares</td>\n",
              "      <td>20</td>\n",
              "      <td>8,0</td>\n",
              "      <td>8,0</td>\n",
              "      <td>8,0</td>\n",
              "      <td>8</td>\n",
              "    </tr>\n",
              "  </tbody>\n",
              "</table>\n",
              "</div>\n",
              "      <button class=\"colab-df-convert\" onclick=\"convertToInteractive('df-2f43a44d-d74e-4c08-a974-8d80aaa25b39')\"\n",
              "              title=\"Convert this dataframe to an interactive table.\"\n",
              "              style=\"display:none;\">\n",
              "        \n",
              "  <svg xmlns=\"http://www.w3.org/2000/svg\" height=\"24px\"viewBox=\"0 0 24 24\"\n",
              "       width=\"24px\">\n",
              "    <path d=\"M0 0h24v24H0V0z\" fill=\"none\"/>\n",
              "    <path d=\"M18.56 5.44l.94 2.06.94-2.06 2.06-.94-2.06-.94-.94-2.06-.94 2.06-2.06.94zm-11 1L8.5 8.5l.94-2.06 2.06-.94-2.06-.94L8.5 2.5l-.94 2.06-2.06.94zm10 10l.94 2.06.94-2.06 2.06-.94-2.06-.94-.94-2.06-.94 2.06-2.06.94z\"/><path d=\"M17.41 7.96l-1.37-1.37c-.4-.4-.92-.59-1.43-.59-.52 0-1.04.2-1.43.59L10.3 9.45l-7.72 7.72c-.78.78-.78 2.05 0 2.83L4 21.41c.39.39.9.59 1.41.59.51 0 1.02-.2 1.41-.59l7.78-7.78 2.81-2.81c.8-.78.8-2.07 0-2.86zM5.41 20L4 18.59l7.72-7.72 1.47 1.35L5.41 20z\"/>\n",
              "  </svg>\n",
              "      </button>\n",
              "      \n",
              "  <style>\n",
              "    .colab-df-container {\n",
              "      display:flex;\n",
              "      flex-wrap:wrap;\n",
              "      gap: 12px;\n",
              "    }\n",
              "\n",
              "    .colab-df-convert {\n",
              "      background-color: #E8F0FE;\n",
              "      border: none;\n",
              "      border-radius: 50%;\n",
              "      cursor: pointer;\n",
              "      display: none;\n",
              "      fill: #1967D2;\n",
              "      height: 32px;\n",
              "      padding: 0 0 0 0;\n",
              "      width: 32px;\n",
              "    }\n",
              "\n",
              "    .colab-df-convert:hover {\n",
              "      background-color: #E2EBFA;\n",
              "      box-shadow: 0px 1px 2px rgba(60, 64, 67, 0.3), 0px 1px 3px 1px rgba(60, 64, 67, 0.15);\n",
              "      fill: #174EA6;\n",
              "    }\n",
              "\n",
              "    [theme=dark] .colab-df-convert {\n",
              "      background-color: #3B4455;\n",
              "      fill: #D2E3FC;\n",
              "    }\n",
              "\n",
              "    [theme=dark] .colab-df-convert:hover {\n",
              "      background-color: #434B5C;\n",
              "      box-shadow: 0px 1px 3px 1px rgba(0, 0, 0, 0.15);\n",
              "      filter: drop-shadow(0px 1px 2px rgba(0, 0, 0, 0.3));\n",
              "      fill: #FFFFFF;\n",
              "    }\n",
              "  </style>\n",
              "\n",
              "      <script>\n",
              "        const buttonEl =\n",
              "          document.querySelector('#df-2f43a44d-d74e-4c08-a974-8d80aaa25b39 button.colab-df-convert');\n",
              "        buttonEl.style.display =\n",
              "          google.colab.kernel.accessAllowed ? 'block' : 'none';\n",
              "\n",
              "        async function convertToInteractive(key) {\n",
              "          const element = document.querySelector('#df-2f43a44d-d74e-4c08-a974-8d80aaa25b39');\n",
              "          const dataTable =\n",
              "            await google.colab.kernel.invokeFunction('convertToInteractive',\n",
              "                                                     [key], {});\n",
              "          if (!dataTable) return;\n",
              "\n",
              "          const docLinkHtml = 'Like what you see? Visit the ' +\n",
              "            '<a target=\"_blank\" href=https://colab.research.google.com/notebooks/data_table.ipynb>data table notebook</a>'\n",
              "            + ' to learn more about interactive tables.';\n",
              "          element.innerHTML = '';\n",
              "          dataTable['output_type'] = 'display_data';\n",
              "          await google.colab.output.renderOutput(dataTable, element);\n",
              "          const docLink = document.createElement('div');\n",
              "          docLink.innerHTML = docLinkHtml;\n",
              "          element.appendChild(docLink);\n",
              "        }\n",
              "      </script>\n",
              "    </div>\n",
              "  </div>\n",
              "  "
            ]
          },
          "metadata": {},
          "execution_count": 82
        }
      ]
    },
    {
      "cell_type": "code",
      "source": [
        "#Convertendo as colunas de prova para float\n",
        "df['Prova_2'] = df['Prova_2'].str.replace(',','.')\n",
        "df['Prova_3'] = df['Prova_3'].str.replace(',','.')\n",
        "print(df)\n",
        "df['Prova_2'] =df['Prova_2'].astype(float)\n",
        "df['Prova_3'] =df['Prova_3'].astype(float)\n",
        "df.dtypes"
      ],
      "metadata": {
        "colab": {
          "base_uri": "https://localhost:8080/"
        },
        "id": "E5yuPvvTJnA-",
        "outputId": "a64c5f55-73af-400a-e837-a5cbb105f8fc"
      },
      "id": "E5yuPvvTJnA-",
      "execution_count": null,
      "outputs": [
        {
          "output_type": "stream",
          "name": "stdout",
          "text": [
            "       RA             Nome  Frequencia  Prova_1 Prova_2 Prova_3  Prova_4\n",
            "0  110201   Antonio Carlos          20      6.5     8.5     7.0        6\n",
            "1  110212      Ana Beatriz          20      7.0     7.0     7.0        8\n",
            "2  110218    Carlos Vernes          17      7.0     7.0     7.0        7\n",
            "3  110307  Francisco Cunha          20      9.0     8.5     8.5       10\n",
            "4  110275      Sandra Rosa          15      6.5     7.5     7.0        7\n",
            "5  110281   Juliana Arruda          18      7.5     7.0     7.5        8\n",
            "6  110301        Joao Galo          20      5.0     6.5     7.0        5\n",
            "7  110263     José Valente          20     10.0    10.0    10.0       10\n",
            "8  110271   Maria Ferreira          19      9.5     8.0     7.0       10\n",
            "9  110236  Adriana Tavares          20      8.0     8.0     8.0        8\n"
          ]
        },
        {
          "output_type": "execute_result",
          "data": {
            "text/plain": [
              "RA              int64\n",
              "Nome           object\n",
              "Frequencia      int64\n",
              "Prova_1       float64\n",
              "Prova_2       float64\n",
              "Prova_3       float64\n",
              "Prova_4         int64\n",
              "dtype: object"
            ]
          },
          "metadata": {},
          "execution_count": 95
        }
      ]
    },
    {
      "cell_type": "code",
      "source": [
        "df"
      ],
      "metadata": {
        "colab": {
          "base_uri": "https://localhost:8080/",
          "height": 363
        },
        "id": "X9hFQf_vKtHC",
        "outputId": "2dcaec04-9361-4a94-c1ca-7256c4802b06"
      },
      "id": "X9hFQf_vKtHC",
      "execution_count": null,
      "outputs": [
        {
          "output_type": "execute_result",
          "data": {
            "text/plain": [
              "       RA             Nome  Frequencia  Prova_1  Prova_2  Prova_3  Prova_4\n",
              "0  110201   Antonio Carlos          20      6.5      8.5      7.0        6\n",
              "1  110212      Ana Beatriz          20      7.0      7.0      7.0        8\n",
              "2  110218    Carlos Vernes          17      7.0      7.0      7.0        7\n",
              "3  110307  Francisco Cunha          20      9.0      8.5      8.5       10\n",
              "4  110275      Sandra Rosa          15      6.5      7.5      7.0        7\n",
              "5  110281   Juliana Arruda          18      7.5      7.0      7.5        8\n",
              "6  110301        Joao Galo          20      5.0      6.5      7.0        5\n",
              "7  110263     José Valente          20     10.0     10.0     10.0       10\n",
              "8  110271   Maria Ferreira          19      9.5      8.0      7.0       10\n",
              "9  110236  Adriana Tavares          20      8.0      8.0      8.0        8"
            ],
            "text/html": [
              "\n",
              "  <div id=\"df-7790ad16-1dd9-49aa-aad6-24c7e81e636a\">\n",
              "    <div class=\"colab-df-container\">\n",
              "      <div>\n",
              "<style scoped>\n",
              "    .dataframe tbody tr th:only-of-type {\n",
              "        vertical-align: middle;\n",
              "    }\n",
              "\n",
              "    .dataframe tbody tr th {\n",
              "        vertical-align: top;\n",
              "    }\n",
              "\n",
              "    .dataframe thead th {\n",
              "        text-align: right;\n",
              "    }\n",
              "</style>\n",
              "<table border=\"1\" class=\"dataframe\">\n",
              "  <thead>\n",
              "    <tr style=\"text-align: right;\">\n",
              "      <th></th>\n",
              "      <th>RA</th>\n",
              "      <th>Nome</th>\n",
              "      <th>Frequencia</th>\n",
              "      <th>Prova_1</th>\n",
              "      <th>Prova_2</th>\n",
              "      <th>Prova_3</th>\n",
              "      <th>Prova_4</th>\n",
              "    </tr>\n",
              "  </thead>\n",
              "  <tbody>\n",
              "    <tr>\n",
              "      <th>0</th>\n",
              "      <td>110201</td>\n",
              "      <td>Antonio Carlos</td>\n",
              "      <td>20</td>\n",
              "      <td>6.5</td>\n",
              "      <td>8.5</td>\n",
              "      <td>7.0</td>\n",
              "      <td>6</td>\n",
              "    </tr>\n",
              "    <tr>\n",
              "      <th>1</th>\n",
              "      <td>110212</td>\n",
              "      <td>Ana Beatriz</td>\n",
              "      <td>20</td>\n",
              "      <td>7.0</td>\n",
              "      <td>7.0</td>\n",
              "      <td>7.0</td>\n",
              "      <td>8</td>\n",
              "    </tr>\n",
              "    <tr>\n",
              "      <th>2</th>\n",
              "      <td>110218</td>\n",
              "      <td>Carlos Vernes</td>\n",
              "      <td>17</td>\n",
              "      <td>7.0</td>\n",
              "      <td>7.0</td>\n",
              "      <td>7.0</td>\n",
              "      <td>7</td>\n",
              "    </tr>\n",
              "    <tr>\n",
              "      <th>3</th>\n",
              "      <td>110307</td>\n",
              "      <td>Francisco Cunha</td>\n",
              "      <td>20</td>\n",
              "      <td>9.0</td>\n",
              "      <td>8.5</td>\n",
              "      <td>8.5</td>\n",
              "      <td>10</td>\n",
              "    </tr>\n",
              "    <tr>\n",
              "      <th>4</th>\n",
              "      <td>110275</td>\n",
              "      <td>Sandra Rosa</td>\n",
              "      <td>15</td>\n",
              "      <td>6.5</td>\n",
              "      <td>7.5</td>\n",
              "      <td>7.0</td>\n",
              "      <td>7</td>\n",
              "    </tr>\n",
              "    <tr>\n",
              "      <th>5</th>\n",
              "      <td>110281</td>\n",
              "      <td>Juliana Arruda</td>\n",
              "      <td>18</td>\n",
              "      <td>7.5</td>\n",
              "      <td>7.0</td>\n",
              "      <td>7.5</td>\n",
              "      <td>8</td>\n",
              "    </tr>\n",
              "    <tr>\n",
              "      <th>6</th>\n",
              "      <td>110301</td>\n",
              "      <td>Joao Galo</td>\n",
              "      <td>20</td>\n",
              "      <td>5.0</td>\n",
              "      <td>6.5</td>\n",
              "      <td>7.0</td>\n",
              "      <td>5</td>\n",
              "    </tr>\n",
              "    <tr>\n",
              "      <th>7</th>\n",
              "      <td>110263</td>\n",
              "      <td>José Valente</td>\n",
              "      <td>20</td>\n",
              "      <td>10.0</td>\n",
              "      <td>10.0</td>\n",
              "      <td>10.0</td>\n",
              "      <td>10</td>\n",
              "    </tr>\n",
              "    <tr>\n",
              "      <th>8</th>\n",
              "      <td>110271</td>\n",
              "      <td>Maria Ferreira</td>\n",
              "      <td>19</td>\n",
              "      <td>9.5</td>\n",
              "      <td>8.0</td>\n",
              "      <td>7.0</td>\n",
              "      <td>10</td>\n",
              "    </tr>\n",
              "    <tr>\n",
              "      <th>9</th>\n",
              "      <td>110236</td>\n",
              "      <td>Adriana Tavares</td>\n",
              "      <td>20</td>\n",
              "      <td>8.0</td>\n",
              "      <td>8.0</td>\n",
              "      <td>8.0</td>\n",
              "      <td>8</td>\n",
              "    </tr>\n",
              "  </tbody>\n",
              "</table>\n",
              "</div>\n",
              "      <button class=\"colab-df-convert\" onclick=\"convertToInteractive('df-7790ad16-1dd9-49aa-aad6-24c7e81e636a')\"\n",
              "              title=\"Convert this dataframe to an interactive table.\"\n",
              "              style=\"display:none;\">\n",
              "        \n",
              "  <svg xmlns=\"http://www.w3.org/2000/svg\" height=\"24px\"viewBox=\"0 0 24 24\"\n",
              "       width=\"24px\">\n",
              "    <path d=\"M0 0h24v24H0V0z\" fill=\"none\"/>\n",
              "    <path d=\"M18.56 5.44l.94 2.06.94-2.06 2.06-.94-2.06-.94-.94-2.06-.94 2.06-2.06.94zm-11 1L8.5 8.5l.94-2.06 2.06-.94-2.06-.94L8.5 2.5l-.94 2.06-2.06.94zm10 10l.94 2.06.94-2.06 2.06-.94-2.06-.94-.94-2.06-.94 2.06-2.06.94z\"/><path d=\"M17.41 7.96l-1.37-1.37c-.4-.4-.92-.59-1.43-.59-.52 0-1.04.2-1.43.59L10.3 9.45l-7.72 7.72c-.78.78-.78 2.05 0 2.83L4 21.41c.39.39.9.59 1.41.59.51 0 1.02-.2 1.41-.59l7.78-7.78 2.81-2.81c.8-.78.8-2.07 0-2.86zM5.41 20L4 18.59l7.72-7.72 1.47 1.35L5.41 20z\"/>\n",
              "  </svg>\n",
              "      </button>\n",
              "      \n",
              "  <style>\n",
              "    .colab-df-container {\n",
              "      display:flex;\n",
              "      flex-wrap:wrap;\n",
              "      gap: 12px;\n",
              "    }\n",
              "\n",
              "    .colab-df-convert {\n",
              "      background-color: #E8F0FE;\n",
              "      border: none;\n",
              "      border-radius: 50%;\n",
              "      cursor: pointer;\n",
              "      display: none;\n",
              "      fill: #1967D2;\n",
              "      height: 32px;\n",
              "      padding: 0 0 0 0;\n",
              "      width: 32px;\n",
              "    }\n",
              "\n",
              "    .colab-df-convert:hover {\n",
              "      background-color: #E2EBFA;\n",
              "      box-shadow: 0px 1px 2px rgba(60, 64, 67, 0.3), 0px 1px 3px 1px rgba(60, 64, 67, 0.15);\n",
              "      fill: #174EA6;\n",
              "    }\n",
              "\n",
              "    [theme=dark] .colab-df-convert {\n",
              "      background-color: #3B4455;\n",
              "      fill: #D2E3FC;\n",
              "    }\n",
              "\n",
              "    [theme=dark] .colab-df-convert:hover {\n",
              "      background-color: #434B5C;\n",
              "      box-shadow: 0px 1px 3px 1px rgba(0, 0, 0, 0.15);\n",
              "      filter: drop-shadow(0px 1px 2px rgba(0, 0, 0, 0.3));\n",
              "      fill: #FFFFFF;\n",
              "    }\n",
              "  </style>\n",
              "\n",
              "      <script>\n",
              "        const buttonEl =\n",
              "          document.querySelector('#df-7790ad16-1dd9-49aa-aad6-24c7e81e636a button.colab-df-convert');\n",
              "        buttonEl.style.display =\n",
              "          google.colab.kernel.accessAllowed ? 'block' : 'none';\n",
              "\n",
              "        async function convertToInteractive(key) {\n",
              "          const element = document.querySelector('#df-7790ad16-1dd9-49aa-aad6-24c7e81e636a');\n",
              "          const dataTable =\n",
              "            await google.colab.kernel.invokeFunction('convertToInteractive',\n",
              "                                                     [key], {});\n",
              "          if (!dataTable) return;\n",
              "\n",
              "          const docLinkHtml = 'Like what you see? Visit the ' +\n",
              "            '<a target=\"_blank\" href=https://colab.research.google.com/notebooks/data_table.ipynb>data table notebook</a>'\n",
              "            + ' to learn more about interactive tables.';\n",
              "          element.innerHTML = '';\n",
              "          dataTable['output_type'] = 'display_data';\n",
              "          await google.colab.output.renderOutput(dataTable, element);\n",
              "          const docLink = document.createElement('div');\n",
              "          docLink.innerHTML = docLinkHtml;\n",
              "          element.appendChild(docLink);\n",
              "        }\n",
              "      </script>\n",
              "    </div>\n",
              "  </div>\n",
              "  "
            ]
          },
          "metadata": {},
          "execution_count": 96
        }
      ]
    },
    {
      "cell_type": "code",
      "source": [
        "df.dtypes"
      ],
      "metadata": {
        "colab": {
          "base_uri": "https://localhost:8080/"
        },
        "id": "SOjN3E0OKuY7",
        "outputId": "c38f2364-bff1-45c0-9768-dd94e3e61df3"
      },
      "id": "SOjN3E0OKuY7",
      "execution_count": null,
      "outputs": [
        {
          "output_type": "execute_result",
          "data": {
            "text/plain": [
              "RA              int64\n",
              "Nome           object\n",
              "Frequencia      int64\n",
              "Prova_1       float64\n",
              "Prova_2       float64\n",
              "Prova_3       float64\n",
              "Prova_4         int64\n",
              "dtype: object"
            ]
          },
          "metadata": {},
          "execution_count": 98
        }
      ]
    },
    {
      "cell_type": "code",
      "source": [],
      "metadata": {
        "id": "3EXH-7URAkR5"
      },
      "id": "3EXH-7URAkR5",
      "execution_count": null,
      "outputs": []
    },
    {
      "cell_type": "code",
      "source": [
        "#Adcionando a coluna com as médias\n",
        "df['Media'] = (df.loc[0:9,['Prova_1',\t'Prova_2',\t'Prova_3',\t'Prova_4']].sum(axis = 1))/4\n",
        "df"
      ],
      "metadata": {
        "colab": {
          "base_uri": "https://localhost:8080/",
          "height": 363
        },
        "id": "8Rgt0N-Q6Uae",
        "outputId": "74a58f0b-acee-484b-87a3-c41576b7db3d"
      },
      "id": "8Rgt0N-Q6Uae",
      "execution_count": null,
      "outputs": [
        {
          "output_type": "execute_result",
          "data": {
            "text/plain": [
              "       RA             Nome  Frequencia  Prova_1  Prova_2  Prova_3  Prova_4  \\\n",
              "0  110201   Antonio Carlos          20      6.5      8.5      7.0        6   \n",
              "1  110212      Ana Beatriz          20      7.0      7.0      7.0        8   \n",
              "2  110218    Carlos Vernes          17      7.0      7.0      7.0        7   \n",
              "3  110307  Francisco Cunha          20      9.0      8.5      8.5       10   \n",
              "4  110275      Sandra Rosa          15      6.5      7.5      7.0        7   \n",
              "5  110281   Juliana Arruda          18      7.5      7.0      7.5        8   \n",
              "6  110301        Joao Galo          20      5.0      6.5      7.0        5   \n",
              "7  110263     José Valente          20     10.0     10.0     10.0       10   \n",
              "8  110271   Maria Ferreira          19      9.5      8.0      7.0       10   \n",
              "9  110236  Adriana Tavares          20      8.0      8.0      8.0        8   \n",
              "\n",
              "    Media  \n",
              "0   7.000  \n",
              "1   7.250  \n",
              "2   7.000  \n",
              "3   9.000  \n",
              "4   7.000  \n",
              "5   7.500  \n",
              "6   5.875  \n",
              "7  10.000  \n",
              "8   8.625  \n",
              "9   8.000  "
            ],
            "text/html": [
              "\n",
              "  <div id=\"df-a1a336cc-3f68-4f76-8edc-8166891f3095\">\n",
              "    <div class=\"colab-df-container\">\n",
              "      <div>\n",
              "<style scoped>\n",
              "    .dataframe tbody tr th:only-of-type {\n",
              "        vertical-align: middle;\n",
              "    }\n",
              "\n",
              "    .dataframe tbody tr th {\n",
              "        vertical-align: top;\n",
              "    }\n",
              "\n",
              "    .dataframe thead th {\n",
              "        text-align: right;\n",
              "    }\n",
              "</style>\n",
              "<table border=\"1\" class=\"dataframe\">\n",
              "  <thead>\n",
              "    <tr style=\"text-align: right;\">\n",
              "      <th></th>\n",
              "      <th>RA</th>\n",
              "      <th>Nome</th>\n",
              "      <th>Frequencia</th>\n",
              "      <th>Prova_1</th>\n",
              "      <th>Prova_2</th>\n",
              "      <th>Prova_3</th>\n",
              "      <th>Prova_4</th>\n",
              "      <th>Media</th>\n",
              "    </tr>\n",
              "  </thead>\n",
              "  <tbody>\n",
              "    <tr>\n",
              "      <th>0</th>\n",
              "      <td>110201</td>\n",
              "      <td>Antonio Carlos</td>\n",
              "      <td>20</td>\n",
              "      <td>6.5</td>\n",
              "      <td>8.5</td>\n",
              "      <td>7.0</td>\n",
              "      <td>6</td>\n",
              "      <td>7.000</td>\n",
              "    </tr>\n",
              "    <tr>\n",
              "      <th>1</th>\n",
              "      <td>110212</td>\n",
              "      <td>Ana Beatriz</td>\n",
              "      <td>20</td>\n",
              "      <td>7.0</td>\n",
              "      <td>7.0</td>\n",
              "      <td>7.0</td>\n",
              "      <td>8</td>\n",
              "      <td>7.250</td>\n",
              "    </tr>\n",
              "    <tr>\n",
              "      <th>2</th>\n",
              "      <td>110218</td>\n",
              "      <td>Carlos Vernes</td>\n",
              "      <td>17</td>\n",
              "      <td>7.0</td>\n",
              "      <td>7.0</td>\n",
              "      <td>7.0</td>\n",
              "      <td>7</td>\n",
              "      <td>7.000</td>\n",
              "    </tr>\n",
              "    <tr>\n",
              "      <th>3</th>\n",
              "      <td>110307</td>\n",
              "      <td>Francisco Cunha</td>\n",
              "      <td>20</td>\n",
              "      <td>9.0</td>\n",
              "      <td>8.5</td>\n",
              "      <td>8.5</td>\n",
              "      <td>10</td>\n",
              "      <td>9.000</td>\n",
              "    </tr>\n",
              "    <tr>\n",
              "      <th>4</th>\n",
              "      <td>110275</td>\n",
              "      <td>Sandra Rosa</td>\n",
              "      <td>15</td>\n",
              "      <td>6.5</td>\n",
              "      <td>7.5</td>\n",
              "      <td>7.0</td>\n",
              "      <td>7</td>\n",
              "      <td>7.000</td>\n",
              "    </tr>\n",
              "    <tr>\n",
              "      <th>5</th>\n",
              "      <td>110281</td>\n",
              "      <td>Juliana Arruda</td>\n",
              "      <td>18</td>\n",
              "      <td>7.5</td>\n",
              "      <td>7.0</td>\n",
              "      <td>7.5</td>\n",
              "      <td>8</td>\n",
              "      <td>7.500</td>\n",
              "    </tr>\n",
              "    <tr>\n",
              "      <th>6</th>\n",
              "      <td>110301</td>\n",
              "      <td>Joao Galo</td>\n",
              "      <td>20</td>\n",
              "      <td>5.0</td>\n",
              "      <td>6.5</td>\n",
              "      <td>7.0</td>\n",
              "      <td>5</td>\n",
              "      <td>5.875</td>\n",
              "    </tr>\n",
              "    <tr>\n",
              "      <th>7</th>\n",
              "      <td>110263</td>\n",
              "      <td>José Valente</td>\n",
              "      <td>20</td>\n",
              "      <td>10.0</td>\n",
              "      <td>10.0</td>\n",
              "      <td>10.0</td>\n",
              "      <td>10</td>\n",
              "      <td>10.000</td>\n",
              "    </tr>\n",
              "    <tr>\n",
              "      <th>8</th>\n",
              "      <td>110271</td>\n",
              "      <td>Maria Ferreira</td>\n",
              "      <td>19</td>\n",
              "      <td>9.5</td>\n",
              "      <td>8.0</td>\n",
              "      <td>7.0</td>\n",
              "      <td>10</td>\n",
              "      <td>8.625</td>\n",
              "    </tr>\n",
              "    <tr>\n",
              "      <th>9</th>\n",
              "      <td>110236</td>\n",
              "      <td>Adriana Tavares</td>\n",
              "      <td>20</td>\n",
              "      <td>8.0</td>\n",
              "      <td>8.0</td>\n",
              "      <td>8.0</td>\n",
              "      <td>8</td>\n",
              "      <td>8.000</td>\n",
              "    </tr>\n",
              "  </tbody>\n",
              "</table>\n",
              "</div>\n",
              "      <button class=\"colab-df-convert\" onclick=\"convertToInteractive('df-a1a336cc-3f68-4f76-8edc-8166891f3095')\"\n",
              "              title=\"Convert this dataframe to an interactive table.\"\n",
              "              style=\"display:none;\">\n",
              "        \n",
              "  <svg xmlns=\"http://www.w3.org/2000/svg\" height=\"24px\"viewBox=\"0 0 24 24\"\n",
              "       width=\"24px\">\n",
              "    <path d=\"M0 0h24v24H0V0z\" fill=\"none\"/>\n",
              "    <path d=\"M18.56 5.44l.94 2.06.94-2.06 2.06-.94-2.06-.94-.94-2.06-.94 2.06-2.06.94zm-11 1L8.5 8.5l.94-2.06 2.06-.94-2.06-.94L8.5 2.5l-.94 2.06-2.06.94zm10 10l.94 2.06.94-2.06 2.06-.94-2.06-.94-.94-2.06-.94 2.06-2.06.94z\"/><path d=\"M17.41 7.96l-1.37-1.37c-.4-.4-.92-.59-1.43-.59-.52 0-1.04.2-1.43.59L10.3 9.45l-7.72 7.72c-.78.78-.78 2.05 0 2.83L4 21.41c.39.39.9.59 1.41.59.51 0 1.02-.2 1.41-.59l7.78-7.78 2.81-2.81c.8-.78.8-2.07 0-2.86zM5.41 20L4 18.59l7.72-7.72 1.47 1.35L5.41 20z\"/>\n",
              "  </svg>\n",
              "      </button>\n",
              "      \n",
              "  <style>\n",
              "    .colab-df-container {\n",
              "      display:flex;\n",
              "      flex-wrap:wrap;\n",
              "      gap: 12px;\n",
              "    }\n",
              "\n",
              "    .colab-df-convert {\n",
              "      background-color: #E8F0FE;\n",
              "      border: none;\n",
              "      border-radius: 50%;\n",
              "      cursor: pointer;\n",
              "      display: none;\n",
              "      fill: #1967D2;\n",
              "      height: 32px;\n",
              "      padding: 0 0 0 0;\n",
              "      width: 32px;\n",
              "    }\n",
              "\n",
              "    .colab-df-convert:hover {\n",
              "      background-color: #E2EBFA;\n",
              "      box-shadow: 0px 1px 2px rgba(60, 64, 67, 0.3), 0px 1px 3px 1px rgba(60, 64, 67, 0.15);\n",
              "      fill: #174EA6;\n",
              "    }\n",
              "\n",
              "    [theme=dark] .colab-df-convert {\n",
              "      background-color: #3B4455;\n",
              "      fill: #D2E3FC;\n",
              "    }\n",
              "\n",
              "    [theme=dark] .colab-df-convert:hover {\n",
              "      background-color: #434B5C;\n",
              "      box-shadow: 0px 1px 3px 1px rgba(0, 0, 0, 0.15);\n",
              "      filter: drop-shadow(0px 1px 2px rgba(0, 0, 0, 0.3));\n",
              "      fill: #FFFFFF;\n",
              "    }\n",
              "  </style>\n",
              "\n",
              "      <script>\n",
              "        const buttonEl =\n",
              "          document.querySelector('#df-a1a336cc-3f68-4f76-8edc-8166891f3095 button.colab-df-convert');\n",
              "        buttonEl.style.display =\n",
              "          google.colab.kernel.accessAllowed ? 'block' : 'none';\n",
              "\n",
              "        async function convertToInteractive(key) {\n",
              "          const element = document.querySelector('#df-a1a336cc-3f68-4f76-8edc-8166891f3095');\n",
              "          const dataTable =\n",
              "            await google.colab.kernel.invokeFunction('convertToInteractive',\n",
              "                                                     [key], {});\n",
              "          if (!dataTable) return;\n",
              "\n",
              "          const docLinkHtml = 'Like what you see? Visit the ' +\n",
              "            '<a target=\"_blank\" href=https://colab.research.google.com/notebooks/data_table.ipynb>data table notebook</a>'\n",
              "            + ' to learn more about interactive tables.';\n",
              "          element.innerHTML = '';\n",
              "          dataTable['output_type'] = 'display_data';\n",
              "          await google.colab.output.renderOutput(dataTable, element);\n",
              "          const docLink = document.createElement('div');\n",
              "          docLink.innerHTML = docLinkHtml;\n",
              "          element.appendChild(docLink);\n",
              "        }\n",
              "      </script>\n",
              "    </div>\n",
              "  </div>\n",
              "  "
            ]
          },
          "metadata": {},
          "execution_count": 113
        }
      ]
    },
    {
      "cell_type": "code",
      "source": [
        "df1 = df[['RA', 'Media']]\n",
        "df1"
      ],
      "metadata": {
        "colab": {
          "base_uri": "https://localhost:8080/",
          "height": 363
        },
        "id": "ZwZGX7E15zuE",
        "outputId": "5e091903-881e-487a-bd75-16669dcb0166"
      },
      "id": "ZwZGX7E15zuE",
      "execution_count": null,
      "outputs": [
        {
          "output_type": "execute_result",
          "data": {
            "text/plain": [
              "       RA   Media\n",
              "0  110201   7.000\n",
              "1  110212   7.250\n",
              "2  110218   7.000\n",
              "3  110307   9.000\n",
              "4  110275   7.000\n",
              "5  110281   7.500\n",
              "6  110301   5.875\n",
              "7  110263  10.000\n",
              "8  110271   8.625\n",
              "9  110236   8.000"
            ],
            "text/html": [
              "\n",
              "  <div id=\"df-6523f9a3-c2b2-4d73-b2e1-f3513d162101\">\n",
              "    <div class=\"colab-df-container\">\n",
              "      <div>\n",
              "<style scoped>\n",
              "    .dataframe tbody tr th:only-of-type {\n",
              "        vertical-align: middle;\n",
              "    }\n",
              "\n",
              "    .dataframe tbody tr th {\n",
              "        vertical-align: top;\n",
              "    }\n",
              "\n",
              "    .dataframe thead th {\n",
              "        text-align: right;\n",
              "    }\n",
              "</style>\n",
              "<table border=\"1\" class=\"dataframe\">\n",
              "  <thead>\n",
              "    <tr style=\"text-align: right;\">\n",
              "      <th></th>\n",
              "      <th>RA</th>\n",
              "      <th>Media</th>\n",
              "    </tr>\n",
              "  </thead>\n",
              "  <tbody>\n",
              "    <tr>\n",
              "      <th>0</th>\n",
              "      <td>110201</td>\n",
              "      <td>7.000</td>\n",
              "    </tr>\n",
              "    <tr>\n",
              "      <th>1</th>\n",
              "      <td>110212</td>\n",
              "      <td>7.250</td>\n",
              "    </tr>\n",
              "    <tr>\n",
              "      <th>2</th>\n",
              "      <td>110218</td>\n",
              "      <td>7.000</td>\n",
              "    </tr>\n",
              "    <tr>\n",
              "      <th>3</th>\n",
              "      <td>110307</td>\n",
              "      <td>9.000</td>\n",
              "    </tr>\n",
              "    <tr>\n",
              "      <th>4</th>\n",
              "      <td>110275</td>\n",
              "      <td>7.000</td>\n",
              "    </tr>\n",
              "    <tr>\n",
              "      <th>5</th>\n",
              "      <td>110281</td>\n",
              "      <td>7.500</td>\n",
              "    </tr>\n",
              "    <tr>\n",
              "      <th>6</th>\n",
              "      <td>110301</td>\n",
              "      <td>5.875</td>\n",
              "    </tr>\n",
              "    <tr>\n",
              "      <th>7</th>\n",
              "      <td>110263</td>\n",
              "      <td>10.000</td>\n",
              "    </tr>\n",
              "    <tr>\n",
              "      <th>8</th>\n",
              "      <td>110271</td>\n",
              "      <td>8.625</td>\n",
              "    </tr>\n",
              "    <tr>\n",
              "      <th>9</th>\n",
              "      <td>110236</td>\n",
              "      <td>8.000</td>\n",
              "    </tr>\n",
              "  </tbody>\n",
              "</table>\n",
              "</div>\n",
              "      <button class=\"colab-df-convert\" onclick=\"convertToInteractive('df-6523f9a3-c2b2-4d73-b2e1-f3513d162101')\"\n",
              "              title=\"Convert this dataframe to an interactive table.\"\n",
              "              style=\"display:none;\">\n",
              "        \n",
              "  <svg xmlns=\"http://www.w3.org/2000/svg\" height=\"24px\"viewBox=\"0 0 24 24\"\n",
              "       width=\"24px\">\n",
              "    <path d=\"M0 0h24v24H0V0z\" fill=\"none\"/>\n",
              "    <path d=\"M18.56 5.44l.94 2.06.94-2.06 2.06-.94-2.06-.94-.94-2.06-.94 2.06-2.06.94zm-11 1L8.5 8.5l.94-2.06 2.06-.94-2.06-.94L8.5 2.5l-.94 2.06-2.06.94zm10 10l.94 2.06.94-2.06 2.06-.94-2.06-.94-.94-2.06-.94 2.06-2.06.94z\"/><path d=\"M17.41 7.96l-1.37-1.37c-.4-.4-.92-.59-1.43-.59-.52 0-1.04.2-1.43.59L10.3 9.45l-7.72 7.72c-.78.78-.78 2.05 0 2.83L4 21.41c.39.39.9.59 1.41.59.51 0 1.02-.2 1.41-.59l7.78-7.78 2.81-2.81c.8-.78.8-2.07 0-2.86zM5.41 20L4 18.59l7.72-7.72 1.47 1.35L5.41 20z\"/>\n",
              "  </svg>\n",
              "      </button>\n",
              "      \n",
              "  <style>\n",
              "    .colab-df-container {\n",
              "      display:flex;\n",
              "      flex-wrap:wrap;\n",
              "      gap: 12px;\n",
              "    }\n",
              "\n",
              "    .colab-df-convert {\n",
              "      background-color: #E8F0FE;\n",
              "      border: none;\n",
              "      border-radius: 50%;\n",
              "      cursor: pointer;\n",
              "      display: none;\n",
              "      fill: #1967D2;\n",
              "      height: 32px;\n",
              "      padding: 0 0 0 0;\n",
              "      width: 32px;\n",
              "    }\n",
              "\n",
              "    .colab-df-convert:hover {\n",
              "      background-color: #E2EBFA;\n",
              "      box-shadow: 0px 1px 2px rgba(60, 64, 67, 0.3), 0px 1px 3px 1px rgba(60, 64, 67, 0.15);\n",
              "      fill: #174EA6;\n",
              "    }\n",
              "\n",
              "    [theme=dark] .colab-df-convert {\n",
              "      background-color: #3B4455;\n",
              "      fill: #D2E3FC;\n",
              "    }\n",
              "\n",
              "    [theme=dark] .colab-df-convert:hover {\n",
              "      background-color: #434B5C;\n",
              "      box-shadow: 0px 1px 3px 1px rgba(0, 0, 0, 0.15);\n",
              "      filter: drop-shadow(0px 1px 2px rgba(0, 0, 0, 0.3));\n",
              "      fill: #FFFFFF;\n",
              "    }\n",
              "  </style>\n",
              "\n",
              "      <script>\n",
              "        const buttonEl =\n",
              "          document.querySelector('#df-6523f9a3-c2b2-4d73-b2e1-f3513d162101 button.colab-df-convert');\n",
              "        buttonEl.style.display =\n",
              "          google.colab.kernel.accessAllowed ? 'block' : 'none';\n",
              "\n",
              "        async function convertToInteractive(key) {\n",
              "          const element = document.querySelector('#df-6523f9a3-c2b2-4d73-b2e1-f3513d162101');\n",
              "          const dataTable =\n",
              "            await google.colab.kernel.invokeFunction('convertToInteractive',\n",
              "                                                     [key], {});\n",
              "          if (!dataTable) return;\n",
              "\n",
              "          const docLinkHtml = 'Like what you see? Visit the ' +\n",
              "            '<a target=\"_blank\" href=https://colab.research.google.com/notebooks/data_table.ipynb>data table notebook</a>'\n",
              "            + ' to learn more about interactive tables.';\n",
              "          element.innerHTML = '';\n",
              "          dataTable['output_type'] = 'display_data';\n",
              "          await google.colab.output.renderOutput(dataTable, element);\n",
              "          const docLink = document.createElement('div');\n",
              "          docLink.innerHTML = docLinkHtml;\n",
              "          element.appendChild(docLink);\n",
              "        }\n",
              "      </script>\n",
              "    </div>\n",
              "  </div>\n",
              "  "
            ]
          },
          "metadata": {},
          "execution_count": 114
        }
      ]
    },
    {
      "cell_type": "code",
      "source": [
        "df1.to_excel('alunos3.xlsx', sheet_name = 'alunos3')"
      ],
      "metadata": {
        "id": "QTdoaok1ODWu"
      },
      "id": "QTdoaok1ODWu",
      "execution_count": null,
      "outputs": []
    }
  ],
  "metadata": {
    "kernelspec": {
      "display_name": "Python 3",
      "language": "python",
      "name": "python3"
    },
    "language_info": {
      "codemirror_mode": {
        "name": "ipython",
        "version": 3
      },
      "file_extension": ".py",
      "mimetype": "text/x-python",
      "name": "python",
      "nbconvert_exporter": "python",
      "pygments_lexer": "ipython3",
      "version": "3.9.1"
    },
    "colab": {
      "provenance": [],
      "include_colab_link": true
    }
  },
  "nbformat": 4,
  "nbformat_minor": 5
}